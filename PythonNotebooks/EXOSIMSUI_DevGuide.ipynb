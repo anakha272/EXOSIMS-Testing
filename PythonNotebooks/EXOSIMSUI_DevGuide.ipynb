{
 "cells": [
  {
   "cell_type": "markdown",
   "metadata": {},
   "source": [
    "# The IPAC Exoplanet Open-Source Imaging Mission Simulator User-Interface (EXOSIMS-UI) Development Guide"
   ]
  },
  {
   "cell_type": "markdown",
   "metadata": {},
   "source": [
    "Written by: Rahul I. Patel"
   ]
  },
  {
   "cell_type": "markdown",
   "metadata": {},
   "source": [
    "<hr>"
   ]
  },
  {
   "cell_type": "markdown",
   "metadata": {},
   "source": [
    "## 1. Intro"
   ]
  },
  {
   "cell_type": "markdown",
   "metadata": {},
   "source": [
    "EXOSIMS is an all-in-one sophisticated python-based simulation software that provides planetary yield estimates for space-based coronagraphic missions. EXOSIMS incorporates Monte-Carlo completeness modeling, simulates a planet-finding survey given a target list and other contraints, and optimizes the observing time during a given mission lifetime. \n",
    " \n",
    "IPAC is one of the science center for the Wide-Field Infrared Survey Telescope (WFIRST) mission, and is hosting various tools to help the community plan their observations. One of those include the coronagraphic instrument (CGI) WFIRST. To make EXOSIMS accessible to the community, we are hosting it as a backend to our front end web user interface (UI). "
   ]
  },
  {
   "cell_type": "markdown",
   "metadata": {},
   "source": [
    "## 1.1 What You Need"
   ]
  },
  {
   "cell_type": "markdown",
   "metadata": {},
   "source": [
    "Here are the things you'll need to get just EXOSIMS up and running:"
   ]
  },
  {
   "cell_type": "markdown",
   "metadata": {},
   "source": [
    "- EXOSIMS full code : \n",
    "> https://github.com/dsavransky/EXOSIMS. Useful to get one of the official releases https://github.com/dsavransky/EXOSIMS/releases\n",
    "\n",
    "- Forecaster : (http://ascl.net/1701.007).  The $\\texttt{fitting_parameters.h5}$ from https://github.com/chenjj2/forecaster  should be placed in $\\texttt{PlanetPhysicalModel}$.\n",
    "- You need an SPK ephemeris file and place it in the $\\texttt{Observatory}$ subdirector of EXOSIMS. Download it form here: http://naif.jpl.nasa.gov/pub/naif/generic_kernels/spk/planets/de432s.bsp\n",
    "- [Optional] NASA's Navigation and Ancillary Information Facility's SPICE system components (https://naif.jpl.nasa.gov/naif/)\n",
    "- Other dependencies: https://github.com/dsavransky/EXOSIMS/blob/master/.travis.yml\n",
    "- Python requirements: https://github.com/dsavransky/EXOSIMS/blob/master/requirements.txt\n",
    "\n",
    "** The code at the moment is Python 2 compliant, and they're working on getting up to Python 3. I can't guarantee it'll work in Py3 environment**"
   ]
  },
  {
   "cell_type": "markdown",
   "metadata": {},
   "source": [
    "## 1.2 Install and Quick Start"
   ]
  },
  {
   "cell_type": "markdown",
   "metadata": {},
   "source": [
    "The official EXOSIMS github page has two pages to help with this. You can find them here:\n",
    "\n",
    "- https://github.com/dsavransky/EXOSIMS/blob/master/documentation/install.rst\n",
    "- https://github.com/dsavransky/EXOSIMS/blob/master/documentation/quickstart.rst"
   ]
  },
  {
   "cell_type": "markdown",
   "metadata": {},
   "source": [
    "***"
   ]
  },
  {
   "cell_type": "markdown",
   "metadata": {},
   "source": [
    "## 2. EXOSIMS"
   ]
  },
  {
   "cell_type": "markdown",
   "metadata": {},
   "source": [
    "  There is a lot to this code. There are too many functions to cover. I dont' intend to outline all of them here, as that would be impractical. There is already documentation for each and every function and variable in the EXOSIMS Internal Control Document (ICD; https://cdn.rawgit.com/dsavransky/EXOSIMS/master/ICD/icd.pdf). \n",
    "   \n",
    "   Here, my goal is to highlight the major working aspects of the code and also the interface script used for the EXOSIMS-UI"
   ]
  },
  {
   "cell_type": "markdown",
   "metadata": {},
   "source": [
    "### 2.1 The Modules"
   ]
  },
  {
   "cell_type": "markdown",
   "metadata": {},
   "source": [
    "The code is heavily modular, and various modules control different aspects of the simulation:\n",
    "\n",
    "- **StarCatalog:** Details on potential targets drawn from general databases. Meta data storage. No other calculations\n",
    "\n",
    "- **PlanetPopulation:** Encodes the probability density functions of all required planetary parameters, both physical and orbital. Does not model physical orbits or light emission/reflection -- statistics of planet occurence and properties.\n",
    "\n",
    "- **PlanetPhysicalModel:** Models of the light emitted or reflected by planets in the wavelength bands under investigation by the current mission simulation.\n",
    "\n",
    "- **OpticalSystem:** Contains all of the necessary information to describe the planet signal and the background noise, and calculate the integration time for a given observation. Encodes specs on instruments. \n",
    "\n",
    "- **ZodiacalLight:** Self-explanatory\n",
    "\n",
    "- **BackgroundSources:** Provides density of background sources for a given target based on its coordinates and the integration depth.\n",
    "\n",
    "- **PostProcessing:** Encodes the effects of post-processing on the data gathered in a simulated observation, and the effects on the final contrast of the simulation and is also responsible for determining whether a planet detection has occurred for a given observation.\n",
    "\n",
    "- **Completeness:** Takes in information from the $\\texttt{PlanetPopulation}$ module to determine initial completeness and update completeness values for target list stars when called upon. \n",
    "\n",
    " ***\n",
    " \n",
    " The next few modules are top-level modules that oversee major aspects of the simulation and call upon the powers of the previous modules.\n",
    " \n",
    " > **TargetList:** Don't let its name fool you. This module takes in information from the $\\texttt{StarCatalog}$, $\\texttt{OpticalSystem}$, $\\texttt{ZodiacalLight}$, $\\texttt{PostProcessing}$, $\\texttt{BackgroundSources}$, $\\texttt{Completeness}$, $\\texttt{PlanetPopulation}$, and $\\texttt{PlanetPhysicalModel}$  modules to generate the target list for the simulated survey. The final target list encodes all of the same information as is provided by the $\\texttt{StarCatalog}$ module.\n",
    " \n",
    " > **SimulatedUniverse:** Instantiates the $\\texttt{TargetList}$ module and creates a synthetic universe by populating planetary systems about some or all of the stars in the target list.\n",
    " \n",
    " > **Observatory:** Contains all of the information specific to the space-based observatory not included in the $\\texttt{OpticalSystem}$ module. \n",
    " \n",
    " > **TimeKeeping:** The Time Keeping module is responsible for keeping track of the current mission time. It encodes only the mission start time, the mission duration, and the current time within a simulation.  \n",
    " \n",
    " > **SurveySimulation:** Performs a specific simulation based on all of the input parameters and models. This module returns the mission timeline - an ordered list of simulated observations of various targets on the target list along with their outcomes.\n",
    " \n",
    " > **SurveyEnsemble:** only task it to run multiple simulations. Parallel stuff. \n",
    "\n",
    "***\n",
    "\n",
    "Note! The descriptions above are not complete. For a full description, please see the EXOSIMS ICD (https://cdn.rawgit.com/dsavransky/EXOSIMS/master/ICD/icd.pdf)\n",
    "\n",
    "\n"
   ]
  },
  {
   "cell_type": "markdown",
   "metadata": {},
   "source": [
    "### 2.2 The Underbelly Process"
   ]
  },
  {
   "cell_type": "markdown",
   "metadata": {},
   "source": [
    "The way the code works can be outlined by a flow-chart I made back in late 2016 (next Figure). The core of it is still valid, even with updates to the code. \n",
    "\n",
    "You'll see that the $\\texttt{MissionSimulation}$ starts things up by instantiating the top level modules:\n",
    "\n",
    "- SurveyEnsemble\n",
    "- TimeKeeping\n",
    "- Observatory\n",
    "- SurveySimulation\n",
    "- Simulated Universe\n",
    "\n",
    "After it's been fed a list of user defined inputs from a JSON file. We'll come back to the JSON file shortly.\n",
    "\n",
    "Then $\\texttt{SimulatedUniverse}$ instantiates $\\texttt{TargetList}$, which itself in turn instantiates the rest of the major modules. "
   ]
  },
  {
   "cell_type": "markdown",
   "metadata": {},
   "source": [
    "![title](../FlowCharts/EXOSIMS_MissionSim.png)"
   ]
  },
  {
   "cell_type": "markdown",
   "metadata": {},
   "source": [
    " Running EXOSIMS is relatively simple. As shown in the above flow chart, the $\\texttt{MissionSim}$ module is instantiated with an input parameter/script file, and then the $\\texttt{SurveySimulation}$ module from $\\texttt{MissionSim}$ is executed and the simulation starts running. \n",
    "\n",
    "The simulation then runs according to the next Flow Chart figure. Again, it's slightly out of date, but you can get the idea. "
   ]
  },
  {
   "cell_type": "markdown",
   "metadata": {},
   "source": [
    "![title](../FlowCharts/EXOSIMS_runsim.png)"
   ]
  },
  {
   "cell_type": "markdown",
   "metadata": {},
   "source": [
    "## 2.3 The JSON Script"
   ]
  },
  {
   "cell_type": "markdown",
   "metadata": {},
   "source": [
    "The starting point of EXOSIMS lies in its input scriptfile (i.e., parameter file).\n",
    "This is what is needed for the user to specify their own simulation parameters and is fed directly into the instantiation of $\\texttt{MissionSim}$. \n",
    "\n",
    "I would break up the JSON script into five separate sections:\n",
    "- General Parameters\n",
    "- Science Instruments\n",
    "- Star light suppression systems\n",
    "- Observing Modes\n",
    "- Modules"
   ]
  },
  {
   "cell_type": "markdown",
   "metadata": {},
   "source": [
    "You can add as many of these as you want of the parameters that are designated as general parameters. You may want to keep determine which parameters should stay fixed, compared to the ones the user can play around with. Any parameters that are not explictly defined will be given the default values (listed in the ICD)."
   ]
  },
  {
   "cell_type": "markdown",
   "metadata": {},
   "source": [
    "![title](../scripts/sample_JSONScript.png)"
   ]
  },
  {
   "cell_type": "markdown",
   "metadata": {},
   "source": [
    "### 2.3.1 General Parameters"
   ]
  },
  {
   "cell_type": "markdown",
   "metadata": {},
   "source": [
    "I usually include these at the top of the file as they don't belong to any subgroup of parameters. Here are some to name a few, but the majority can be found the ICD\n",
    "\n",
    "    \"logfile\":\"logfile.txt\",    logfile name if you wanna give it one.\n",
    "    \"missionLife\": 4,           Life of the mission in years. \n",
    "    \"missionPortion\" : 0.1 ,    Portion of the missison devoted to coronagraphic observations.\n",
    "    \"missionStart\" : 60676.0,   Modified Julian Date of the start of the mission.\n",
    "    \"extendedLife\" : 0,         How many years to extend original mission.\n",
    "    \"pupilDiam\" : 2.37,         Pupil Diameters\n",
    "    \"shapeFac\" :0.7854,         Telescope aperture shape factor\n",
    "    \"obscurFac\" : 0.14728,      Fraction of primary obscured\n",
    "    \"minComp\" : 0.1,            The minimum completeness level for each target to be included in the survey.\n",
    "    \"settlingTime\" : 1,         Amount of time, in units of days, needed for observatory to settle after a repointing.\n",
    "    \"dMagLim\" :23,              Fundamental limiting magnitude (contrast) difference between the star and planet to which the the mission will be sensitive.\n",
    "    \"intCutoff\" :50 ,           Maximum integration time for any obs in days\n",
    "    \"FAP\" : 3E-7,               Planet detection false alarm probability.\n",
    "    \"MDP\" : 1E-3,               Probability that a planet detection was missed.\n",
    "    "
   ]
  },
  {
   "cell_type": "markdown",
   "metadata": {},
   "source": [
    "### 2.3.2 Science Instruments"
   ]
  },
  {
   "cell_type": "markdown",
   "metadata": {},
   "source": [
    "Pretty self-explanatory. You can define as many instruments you want with a multitude of specifications."
   ]
  },
  {
   "cell_type": "markdown",
   "metadata": {},
   "source": [
    "    \"scienceInstruments\": [\n",
    "                            {\n",
    "                              \"name\": \"imaging-EMCCD\",\n",
    "                              \"QE\": 0.88,\n",
    "                              \"CIC\": 0.0013,\n",
    "                              \"ENF\": 1.414,\n",
    "                              \"pitch\": 1E-5,\n",
    "                              \"focal\": 100,\n",
    "                              \"idark\": 5E-4,\n",
    "                              \"sread\": 0.2, \n",
    "                              \"texp\": 1000\n",
    "                            },\n",
    "                            {\n",
    "                              \"name\": \"spectro-CCD\",\n",
    "                              \"QE\": 0.88,\n",
    "                              \"CIC\": 0.0013,\n",
    "                              \"sread\": 3,\n",
    "                              \"Rs\": 70,\n",
    "                              \"pitch\": 1E-5,\n",
    "                              \"focal\": 100,\n",
    "                              \"idark\": 5E-4,\n",
    "                              \"texp\": 1000 \n",
    "                            }\n",
    "                         ],"
   ]
  },
  {
   "cell_type": "markdown",
   "metadata": {},
   "source": [
    "### 2.3.3. Star Light Suppression Systems"
   ]
  },
  {
   "cell_type": "markdown",
   "metadata": {},
   "source": [
    "Describes the occulting masks and their specs. These are encoded as a list of dictionaries containing specific attributes of all starlight suppression systems. For each system, if all attributes are missing from the dictionary, they will be assigned the default values listed, or any value directly passed as input to the class constructor. In case of multiple systems, specified wavelength values (lam, deltaLam,BW) of the first system become the new default values. All attributes can be found in the ICD."
   ]
  },
  {
   "cell_type": "markdown",
   "metadata": {},
   "source": [
    "    \"starlightSuppressionSystems\": [\n",
    "                                        {\n",
    "                                          \"name\": \"HLC-565\",\n",
    "                                          \"lam\": 565,\n",
    "                                          \"BW\": 0.10,\n",
    "                                          \"IWA\": 0.13,\n",
    "                                          \"OWA\": 1.44,\n",
    "                                          \"occ_trans\": 0.2,\n",
    "                                          \"core_thruput\": 0.02,\n",
    "                                          \"core_mean_intensity\": 2e-12\n",
    "                                        },\n",
    "                                        {\n",
    "                                          \"name\": \"SPC-800\",\n",
    "                                          \"lam\": 800,\n",
    "                                          \"BW\": 0.18,\n",
    "                                          \"IWA\": 0.17,\n",
    "                                          \"OWA\": 0.64,\n",
    "                                          \"occ_trans\": 0.3,\n",
    "                                          \"core_thruput\": 0.04,\n",
    "                                          \"core_mean_intensity\": 4e-12,\n",
    "                                          \"core_area\": 0.005\n",
    "                                        }\n",
    "                                    ],"
   ]
  },
  {
   "cell_type": "markdown",
   "metadata": {},
   "source": [
    "### 2.3.4. Observing Modes"
   ]
  },
  {
   "cell_type": "markdown",
   "metadata": {},
   "source": [
    "List of dictionaries containing specific attributes of all mission observing modes. Each observing mode is a combination of an instrument and a system, operating at a given wavelength, which by default is the wavelength defined in the starlight suppression system of the observing mode. If an observing mode is operating at a different wavelength than the system default wavelength, then this new wavelength must be added to the observing mode, and the system performance will be automatically rescaled to the new wavelength. If no observing mode is defined, the default observing mode simply combines the first instrument and the first system.\n",
    "\n",
    "Details are in the ICD"
   ]
  },
  {
   "cell_type": "markdown",
   "metadata": {},
   "source": [
    "    \"observingModes\": [\n",
    "                        {\n",
    "                          \"instName\": \"imaging-EMCCD\",\n",
    "                          \"systName\": \"HLC-565\",\n",
    "                          \"SNR\":5,\n",
    "                          \"lam\": 565,\n",
    "                          \"BW\": 0.10,\n",
    "                          \"detection\":true\n",
    "                        },\n",
    "\n",
    "                        {\n",
    "                          \"instName\": \"spectro-CCD\",\n",
    "                          \"systName\": \"SPC-800\",\n",
    "                          \"lam\": 400,\n",
    "                          \"BW\": 0.10,\n",
    "                          \"SNR\":5\n",
    "                        }\n",
    "                    ],"
   ]
  },
  {
   "cell_type": "markdown",
   "metadata": {},
   "source": [
    "### 2.3.5 Modules"
   ]
  },
  {
   "cell_type": "markdown",
   "metadata": {},
   "source": [
    "Indicates which specific modules will be used for to calculate the specifics of each \"universe\". If you leave all of them blank, it'll run, but it will default to non-sense. StarCatalog should have something in it besides \"StarCatalog\". The various modules will call the specified sub-module to do the proper calculation for a specific simulation. For instance, the $\\texttt{Observatory}$ module, which handles all the physical properties of the observatory (specs, thrust, fuel, etc.) will now rely on the specifics in the $\\texttt{WFIRSTObservatoryL2}$ sub-module. If we wanted a Hab-Ex like observatory, we'd create another sub-module and replace it with that."
   ]
  },
  {
   "cell_type": "markdown",
   "metadata": {},
   "source": [
    "     \"modules\": {\n",
    "                \"PlanetPopulation\": \"KnownRVPlanets\",\n",
    "                \"StarCatalog\": \"EXOCAT1\",\n",
    "                \"OpticalSystem\": \"Nemati\",\n",
    "                \"ZodiacalLight\": \"Stark\",\n",
    "                \"BackgroundSources\": \"GalaxiesFaintStars\",\n",
    "                \"PlanetPhysicalModel\": \"Forecaster\",\n",
    "                \"Observatory\": \"WFIRSTObservatoryL2\",\n",
    "                \"TimeKeeping\": \" \",\n",
    "                \"PostProcessing\": \" \",\n",
    "                \"Completeness\": \"GarrettCompleteness\",\n",
    "                \"TargetList\": \"KnownRVPlanetsTargetList\",\n",
    "                \"SimulatedUniverse\": \"KnownRVPlanetsUniverse\",\n",
    "                \"SurveySimulation\": \" \",\n",
    "                \"SurveyEnsemble\": \" \"\n",
    "               }"
   ]
  },
  {
   "cell_type": "markdown",
   "metadata": {},
   "source": [
    "## 2.4 Running EXOSIMS"
   ]
  },
  {
   "cell_type": "code",
   "execution_count": 1,
   "metadata": {},
   "outputs": [],
   "source": [
    "import numpy as np\n",
    "import json\n",
    "import EXOSIMS.MissionSim as msim\n",
    "np.seterr(all='ignore'); # this is to silence all the annoying numpy warnings"
   ]
  },
  {
   "cell_type": "markdown",
   "metadata": {},
   "source": [
    "### Now we instantiate a MissionSim object with the JSON script. "
   ]
  },
  {
   "cell_type": "markdown",
   "metadata": {},
   "source": [
    "This can be done by pointing to a JSON script file or loading a JSON file as a python dictionary and feeding that to EXOSIMS in one of the following ways\n",
    "\n",
    "*** With the string file location:***\n",
    "\n",
    "`sim = msim.MissionSim('../scripts/template_rpateltest_KnownRV.json')`\n",
    "\n",
    "*** Or by explictly loading the JSON Script ***\n",
    "\n",
    "`script = open('../scripts/template_rpateltest_KnownRV.json').read()`\n",
    "\n",
    "`specs = json.loads(script)`\n",
    "\n",
    "`sim = msim.MissionSim(**specs) `"
   ]
  },
  {
   "cell_type": "code",
   "execution_count": 2,
   "metadata": {
    "collapsed": true
   },
   "outputs": [
    {
     "data": {
      "text/plain": [
       "{u'attenuation': 0.441,\n",
       " u'dMagLim': 20,\n",
       " u'dMagint': 20,\n",
       " u'intCutoff': 50,\n",
       " u'logfile': u'rpatel_log.txt',\n",
       " u'minComp': 0.02,\n",
       " u'missionLife': 6,\n",
       " u'missionPortion': 1.0,\n",
       " u'modules': {u'BackgroundSources': u'GalaxiesFaintStars',\n",
       "  u'Completeness': u'GarrettCompleteness',\n",
       "  u'Observatory': u'WFIRSTObservatoryL2',\n",
       "  u'OpticalSystem': u'Nemati',\n",
       "  u'PlanetPhysicalModel': u'Forecaster',\n",
       "  u'PlanetPopulation': u'KnownRVPlanets',\n",
       "  u'PostProcessing': u'PostProcessing',\n",
       "  u'SimulatedUniverse': u'KnownRVPlanetsUniverse',\n",
       "  u'StarCatalog': u'EXOCAT1',\n",
       "  u'SurveyEnsemble': u'SurveyEnsemble',\n",
       "  u'SurveySimulation': u'SurveySimulation',\n",
       "  u'TargetList': u'KnownRVPlanetsTargetList',\n",
       "  u'TimeKeeping': u'TimeKeeping',\n",
       "  u'ZodiacalLight': u'Stark'},\n",
       " u'obscurFac': 0.1024,\n",
       " u'observingModes': [{u'BW': 0.2,\n",
       "   u'SNR': 5,\n",
       "   u'detectionMode': True,\n",
       "   u'instName': u'imager',\n",
       "   u'lam': 600,\n",
       "   u'systName': u'HLC-565'},\n",
       "  {u'SNR': 5, u'instName': u'spectro', u'lam': 550, u'systName': u'SPC-800'},\n",
       "  {u'SNR': 5, u'instName': u'spectro', u'lam': 600, u'systName': u'SPC-800'}],\n",
       " u'ppFact': 0.3,\n",
       " u'pupilDiam': 2.37,\n",
       " u'scienceInstruments': [{u'CIC': 0.0021,\n",
       "   u'ENF': 1.41,\n",
       "   u'FoV': 9.5,\n",
       "   u'QE': 0.72,\n",
       "   u'idark': 3e-05,\n",
       "   u'name': u'imager',\n",
       "   u'pixelNumber': 1024,\n",
       "   u'pixelSize': 1.3e-05,\n",
       "   u'sread': 1.7e-06,\n",
       "   u'texp': 30},\n",
       "  {u'CIC': 0.0021,\n",
       "   u'ENF': 1.41,\n",
       "   u'FoV': 1,\n",
       "   u'QE': 0.72,\n",
       "   u'Rs': 50,\n",
       "   u'idark': 3e-05,\n",
       "   u'name': u'spectro',\n",
       "   u'pixelNumber': 76,\n",
       "   u'pixelSize': 0.000174,\n",
       "   u'sread': 1.7e-06,\n",
       "   u'texp': 30}],\n",
       " u'settlingTime': 0.02,\n",
       " u'starlightSuppressionSystems': [{u'BW': 0.1,\n",
       "   u'IWA': 0.15,\n",
       "   u'core_area': 0.005,\n",
       "   u'core_mean_intensity': 4e-12,\n",
       "   u'core_platescale': 0.3,\n",
       "   u'core_thruput': 0.02,\n",
       "   u'lam': 565,\n",
       "   u'name': u'HLC-565',\n",
       "   u'occ_trans': 0.3},\n",
       "  {u'BW': 0.18,\n",
       "   u'IWA': 0.19,\n",
       "   u'core_area': 0.005,\n",
       "   u'core_mean_intensity': 4e-12,\n",
       "   u'core_platescale': 0.3,\n",
       "   u'core_thruput': 0.02,\n",
       "   u'lam': 800,\n",
       "   u'name': u'SPC-800',\n",
       "   u'occ_trans': 0.3}],\n",
       " u'telescopeKeepout': 10}"
      ]
     },
     "execution_count": 2,
     "metadata": {},
     "output_type": "execute_result"
    }
   ],
   "source": [
    "# This shows you what python produces for a loaded JSON file. It's just a python dictionary:\n",
    "script = open('../scripts/template_rpateltest_KnownRV.json').read()\n",
    "specs = json.loads(script)\n",
    "specs"
   ]
  },
  {
   "cell_type": "markdown",
   "metadata": {},
   "source": [
    "### Now let's run the simulation. Let's start by instantiating a MissionSim object"
   ]
  },
  {
   "cell_type": "code",
   "execution_count": 3,
   "metadata": {
    "scrolled": false
   },
   "outputs": [
    {
     "name": "stdout",
     "output_type": "stream",
     "text": [
      "Logging to 'rpatel_log.txt' at level 'INFO'\n",
      "Imported SurveySimulation (prototype module) from EXOSIMS.Prototypes.SurveySimulation\n",
      "Imported KnownRVPlanetsUniverse (specific module) from EXOSIMS.Simulat[...]se.KnownRVPlanetsUniverse\n",
      "Imported KnownRVPlanetsTargetList (specific module) from EXOSIMS.TargetList.KnownRVPlanetsTargetList\n",
      "Imported EXOCAT1 (specific module) from EXOSIMS.StarCatalog.EXOCAT1\n",
      "Imported Nemati (specific module) from EXOSIMS.OpticalSystem.Nemati\n",
      "Imported Stark (specific module) from EXOSIMS.ZodiacalLight.Stark\n",
      "Imported PostProcessing (prototype module) from EXOSIMS.Prototypes.PostProcessing\n",
      "Imported GalaxiesFaintStars (specific module) from EXOSIMS.BackgroundSources.GalaxiesFaintStars\n",
      "Imported GarrettCompleteness (specific module) from EXOSIMS.Completeness.GarrettCompleteness\n",
      "Imported KnownRVPlanets (specific module) from EXOSIMS.PlanetPopulation.KnownRVPlanets\n",
      "Imported Forecaster (specific module) from EXOSIMS.PlanetPhysicalModel.Forecaster\n",
      "Generating pdf of orbital radius\n",
      "Finished pdf of orbital radius\n",
      "Generating pdf of albedo times planetary radius squared\n",
      "Finished pdf of albedo times planetary radius squared\n"
     ]
    },
    {
     "name": "stderr",
     "output_type": "stream",
     "text": [
      "/Users/rpatel/Documents/envs/py27/lib/python2.7/site-packages/numpy/core/fromnumeric.py:664: UserWarning: Warning: 'partition' will ignore the 'mask' of the MaskedArray.\n",
      "  a.partition(kth, axis=axis, kind=kind, order=order)\n",
      "/Users/rpatel/Documents/envs/py27/lib/python2.7/site-packages/numpy/lib/function_base.py:4033: RuntimeWarning: Invalid value encountered in median\n",
      "  r = func(a, **kwargs)\n"
     ]
    },
    {
     "name": "stdout",
     "output_type": "stream",
     "text": [
      "Cached completeness file not found at \"/Users/rpatel/Dropbox/Research/WFIRST/EXOSIMS/EXOSIMS/Completeness/KnownRVPlanetsForecaster478a62480ade724486ff6f0af1b153d270f18862023bfc8edec4cc8da1d87be8.acomp\".\n",
      "Generating completeness.\n",
      "Marginalizing joint pdf of separation and dMag up to dMagMax\n",
      "Finished marginalization\n",
      "Completeness data stored in /Users/rpatel/Dropbox/Research/WFIRST/EXOSIMS/EXOSIMS/Completeness/KnownRVPlanetsForecaster478a62480ade724486ff6f0af1b153d270f18862023bfc8edec4cc8da1d87be8.acomp\n",
      "Cached dynamic completeness array not found at \"/Users/rpatel/Dropbox/Research/WFIRST/EXOSIMS/EXOSIMS/Completeness/KnownRVPlanetsForecasterNematiEXOCAT1KnownRVPlanetsTargetList52aed83b7f8276aba3abbef28dfeb24d.dcomp\".\n",
      "Beginning dynamic completeness calculations\n",
      "Dynamic completeness calculations finished\n",
      "Dynamic completeness array stored in u'/Users/rpatel/Dropbox/Research/WFIRST/EXOSIMS/EXOSIMS/Completeness/KnownRVPlanetsForecasterNematiEXOCAT1KnownRVPlanetsTargetList52aed83b7f8276aba3abbef28dfeb24d.dcomp'\n",
      "Imported WFIRSTObservatoryL2 (specific module) from EXOSIMS.Observatory.WFIRSTObservatoryL2\n",
      "Imported TimeKeeping (prototype module) from EXOSIMS.Prototypes.TimeKeeping\n",
      "Numpy random seed is: 994371303\n",
      "Imported SurveyEnsemble (prototype module) from EXOSIMS.Prototypes.SurveyEnsemble\n"
     ]
    }
   ],
   "source": [
    "sim = msim.MissionSim('../scripts/template_rpateltest_KnownRV.json')"
   ]
  },
  {
   "cell_type": "markdown",
   "metadata": {},
   "source": [
    "*** Note, that the completeness file will be saved in the Completeness folder in EXOSIMS ***"
   ]
  },
  {
   "cell_type": "markdown",
   "metadata": {},
   "source": [
    "### Next run the command to run the simulation"
   ]
  },
  {
   "cell_type": "code",
   "execution_count": 4,
   "metadata": {},
   "outputs": [
    {
     "name": "stdout",
     "output_type": "stream",
     "text": [
      "OB1: survey beginning.\n",
      "  Observation #1, star ind 41 (of 46) with 1 planet(s), mission time: 0.0\n",
      "OB2: previous block was 1.03 long, advancing 0.0.\n",
      "  Observation #2, star ind 3 (of 46) with 5 planet(s), mission time: 1.03\n",
      "OB3: previous block was 1.3 long, advancing 0.0.\n",
      "  Observation #3, star ind 45 (of 46) with 4 planet(s), mission time: 2.32\n",
      "   - Detected planet inds [78] (1/4)\n",
      "OB4: previous block was 1.03 long, advancing 0.0.\n",
      "  Observation #4, star ind 2 (of 46) with 3 planet(s), mission time: 3.35\n",
      "OB5: previous block was 1.07 long, advancing 0.0.\n",
      "  Observation #5, star ind 25 (of 46) with 2 planet(s), mission time: 4.43\n",
      "OB6: previous block was 1.16 long, advancing 0.0.\n",
      "  Observation #6, star ind 10 (of 46) with 1 planet(s), mission time: 5.59\n",
      "OB7: previous block was 1.11 long, advancing 0.0.\n",
      "  Observation #7, star ind 35 (of 46) with 1 planet(s), mission time: 6.7\n",
      "OB8: previous block was 4.63 long, advancing 0.0.\n",
      "  Observation #8, star ind 19 (of 46) with 1 planet(s), mission time: 11.33\n",
      "OB9: previous block was 1.85 long, advancing 0.0.\n",
      "  Observation #9, star ind 33 (of 46) with 1 planet(s), mission time: 13.18\n",
      "OB10: previous block was 1.14 long, advancing 0.0.\n",
      "  Observation #10, star ind 28 (of 46) with 2 planet(s), mission time: 14.32\n",
      "OB11: previous block was 1.54 long, advancing 0.0.\n",
      "  Observation #11, star ind 13 (of 46) with 1 planet(s), mission time: 15.86\n",
      "OB12: previous block was 1.08 long, advancing 0.0.\n",
      "  Observation #12, star ind 44 (of 46) with 1 planet(s), mission time: 16.94\n",
      "OB13: previous block was 1.13 long, advancing 0.0.\n",
      "  Observation #13, star ind 17 (of 46) with 2 planet(s), mission time: 18.07\n",
      "OB14: previous block was 1.16 long, advancing 0.0.\n",
      "  Observation #14, star ind 32 (of 46) with 1 planet(s), mission time: 19.23\n",
      "OB15: previous block was 1.2 long, advancing 0.0.\n",
      "  Observation #15, star ind 18 (of 46) with 1 planet(s), mission time: 20.43\n",
      "OB16: previous block was 1.98 long, advancing 0.0.\n",
      "  Observation #16, star ind 36 (of 46) with 1 planet(s), mission time: 22.41\n",
      "OB17: previous block was 3.15 long, advancing 0.0.\n",
      "  Observation #17, star ind 29 (of 46) with 1 planet(s), mission time: 25.56\n",
      "OB18: previous block was 1.31 long, advancing 0.0.\n",
      "  Observation #18, star ind 16 (of 46) with 4 planet(s), mission time: 26.87\n",
      "OB19: previous block was 2.63 long, advancing 0.0.\n",
      "  Observation #19, star ind 11 (of 46) with 1 planet(s), mission time: 29.5\n",
      "OB20: previous block was 15.84 long, advancing 0.0.\n",
      "  Observation #20, star ind 12 (of 46) with 2 planet(s), mission time: 45.35\n",
      "OB21: previous block was 46.64 long, advancing 0.0.\n",
      "  Observation #21, star ind 24 (of 46) with 3 planet(s), mission time: 91.99\n",
      "OB22: previous block was 18.69 long, advancing 0.0.\n",
      "  Observation #22, star ind 20 (of 46) with 4 planet(s), mission time: 110.68\n",
      "OB23: previous block was 1.08 long, advancing 0.0.\n",
      "  Observation #23, star ind 26 (of 46) with 2 planet(s), mission time: 111.76\n",
      "OB24: previous block was 1.46 long, advancing 0.0.\n",
      "  Observation #24, star ind 14 (of 46) with 1 planet(s), mission time: 113.22\n",
      "OB25: previous block was 3.13 long, advancing 0.0.\n",
      "  Observation #25, star ind 23 (of 46) with 2 planet(s), mission time: 116.35\n",
      "OB26: previous block was 1.42 long, advancing 0.0.\n",
      "  Observation #26, star ind 27 (of 46) with 1 planet(s), mission time: 117.77\n",
      "OB27: previous block was 1.25 long, advancing 0.0.\n",
      "  Observation #27, star ind 38 (of 46) with 1 planet(s), mission time: 119.02\n",
      "OB28: previous block was 10.3 long, advancing 0.0.\n",
      "  Observation #28, star ind 31 (of 46) with 1 planet(s), mission time: 129.32\n",
      "OB29: previous block was 37.96 long, advancing 0.0.\n",
      "Mission complete: no more time available.\n",
      "Simulation duration: 2.\n",
      "Results stored in SurveySimulation.DRM (Design Reference Mission).\n"
     ]
    }
   ],
   "source": [
    "sim.run_sim()"
   ]
  },
  {
   "cell_type": "markdown",
   "metadata": {},
   "source": [
    "## 2.5 Extracting from the simulation"
   ]
  },
  {
   "cell_type": "markdown",
   "metadata": {},
   "source": [
    "The code does not provide automatic outputs. It is completely pythonic, modular and internal to the simulation. The MissionSim object ```(sim)``` holds all the simulation information and you need to extract the data via the individual sub-modules and resultnant stored information objects. Here I will give you examples of things you can extract. A lot of the parameters and objects listed in the ICD are accessible through the top-level as they are typically global parameters."
   ]
  },
  {
   "cell_type": "markdown",
   "metadata": {},
   "source": [
    "### 2.5.1 Modules"
   ]
  },
  {
   "cell_type": "code",
   "execution_count": 5,
   "metadata": {},
   "outputs": [],
   "source": [
    "DRM = sim.SurveySimulation.DRM\n",
    "\n",
    "TL = sim.TargetList\n",
    "SC = sim.StarCatalog\n",
    "SU = sim.SimulatedUniverse\n",
    "SSim = sim.SurveySimulation\n",
    "OS = sim.OpticalSystem\n",
    "ZL = sim.ZodiacalLight\n",
    "BS = sim.BackgroundSources\n",
    "CP = sim.Completeness\n",
    "PP = sim.PlanetPopulation\n",
    "PM = sim.PlanetPhysicalModel"
   ]
  },
  {
   "cell_type": "markdown",
   "metadata": {},
   "source": [
    "### 2.5.2 DRM"
   ]
  },
  {
   "cell_type": "markdown",
   "metadata": {},
   "source": [
    "The DRM (Design Reference Mission) is a list, where each element in the list contains a dictionary of each observing run: time elapsed, instruments used, observing mode used, star observed, planet detection and status, SNR, working angle, etc. All in all there are (as of v1.34) 37 different parameters that cna be inlcuded in the dictionary for each observing scene in the DRM."
   ]
  },
  {
   "cell_type": "code",
   "execution_count": null,
   "metadata": {},
   "outputs": [],
   "source": [
    "# TO SEE THE FULL DRM OUTPUT\n",
    "DRM"
   ]
  },
  {
   "cell_type": "markdown",
   "metadata": {},
   "source": [
    "The orange box shows the information in the DRM pertaining to the first observation of the star eps Eri, and the meta data involved in the observation. For instance, the star was observed in the first observing block (OB_nb:1), 1.02 days after the survey started (arrival_time). The only planet was a missed detection (det_status). More info on each is listed in the ICD."
   ]
  },
  {
   "cell_type": "markdown",
   "metadata": {},
   "source": [
    "![title](../FlowCharts/DRM_test.png)"
   ]
  },
  {
   "cell_type": "code",
   "execution_count": 7,
   "metadata": {},
   "outputs": [
    {
     "data": {
      "text/plain": [
       "0"
      ]
     },
     "execution_count": 7,
     "metadata": {},
     "output_type": "execute_result"
    }
   ],
   "source": [
    "len([DRM[x]['star_ind'] for x in range(len(DRM)) if 1 in DRM[x]['det_status']])"
   ]
  },
  {
   "cell_type": "code",
   "execution_count": null,
   "metadata": {},
   "outputs": [],
   "source": []
  },
  {
   "cell_type": "code",
   "execution_count": 9,
   "metadata": {},
   "outputs": [
    {
     "data": {
      "text/plain": [
       "1.000000082740371e-10"
      ]
     },
     "execution_count": 9,
     "metadata": {},
     "output_type": "execute_result"
    }
   ],
   "source": [
    "sim.OpticalSystem.starlightSuppressionSystems[0]['core_contrast'](sim.OpticalSystem.starlightSuppressionSystems[0]['lam'],sim.OpticalSystem.starlightSuppressionSystems[0]['IWA'])"
   ]
  },
  {
   "cell_type": "code",
   "execution_count": 10,
   "metadata": {},
   "outputs": [
    {
     "data": {
      "text/latex": [
       "$[5.6525262 \\times 10^{-6},~3.8975879 \\times 10^{-6},~1.063539 \\times 10^{-6},~2.6400672 \\times 10^{-6},~0.030252208,~0.00082599983,~0.00048218856,~0.00040834942,~8.5379363 \\times 10^{-5},~0.0015963876,~1.767265 \\times 10^{-6},~3.7308696 \\times 10^{-5},~0.00017213474,~8.4947211 \\times 10^{-7},~1.3824652 \\times 10^{-5},~4.8935447 \\times 10^{-6},~1.2696248 \\times 10^{-5},~2.1654356 \\times 10^{-6},~1.0350779 \\times 10^{-5},~7.1232228 \\times 10^{-6},~1.1536803 \\times 10^{-6},~0.00034367791,~0.00020987373,~2.7217048 \\times 10^{-6},~6.7047021 \\times 10^{-5},~2.1263193 \\times 10^{-6},~2.0423692 \\times 10^{-6},~3.0529252 \\times 10^{-6},~3.4332106 \\times 10^{-6},~3.2431384 \\times 10^{-6},~1.6704664 \\times 10^{-6},~1.1445698 \\times 10^{-5},~2.3050822 \\times 10^{-6},~2.0087669 \\times 10^{-6},~2.3726325 \\times 10^{-8},~1.8984317 \\times 10^{-5},~1.026409 \\times 10^{-5},~0.00090821757,~4.0790174 \\times 10^{-5},~0.001309942,~0.0016870101,~2.321474 \\times 10^{-7},~1.6155177 \\times 10^{-7},~1.8420254 \\times 10^{-7},~2.1399406 \\times 10^{-6},~4.2047311 \\times 10^{-7}] \\; \\mathrm{d}$"
      ],
      "text/plain": [
       "<Quantity [5.65252616e-06, 3.89758789e-06, 1.06353898e-06, 2.64006719e-06,\n",
       "           3.02522075e-02, 8.25999828e-04, 4.82188562e-04, 4.08349422e-04,\n",
       "           8.53793630e-05, 1.59638765e-03, 1.76726497e-06, 3.73086958e-05,\n",
       "           1.72134737e-04, 8.49472110e-07, 1.38246516e-05, 4.89354466e-06,\n",
       "           1.26962482e-05, 2.16543556e-06, 1.03507790e-05, 7.12322283e-06,\n",
       "           1.15368028e-06, 3.43677913e-04, 2.09873731e-04, 2.72170476e-06,\n",
       "           6.70470212e-05, 2.12631931e-06, 2.04236919e-06, 3.05292519e-06,\n",
       "           3.43321055e-06, 3.24313836e-06, 1.67046642e-06, 1.14456983e-05,\n",
       "           2.30508218e-06, 2.00876695e-06, 2.37263247e-08, 1.89843168e-05,\n",
       "           1.02640900e-05, 9.08217572e-04, 4.07901738e-05, 1.30994198e-03,\n",
       "           1.68701010e-03, 2.32147404e-07, 1.61551767e-07, 1.84202539e-07,\n",
       "           2.13994055e-06, 4.20473114e-07] d>"
      ]
     },
     "execution_count": 10,
     "metadata": {},
     "output_type": "execute_result"
    }
   ],
   "source": [
    "TL.tint0"
   ]
  },
  {
   "cell_type": "code",
   "execution_count": 22,
   "metadata": {},
   "outputs": [
    {
     "data": {
      "text/plain": [
       "(<Quantity 0.3 arcsec>, <Quantity 0.15 arcsec>, <Quantity inf arcsec>)"
      ]
     },
     "execution_count": 22,
     "metadata": {},
     "output_type": "execute_result"
    }
   ],
   "source": [
    "OS.WA0, OS.IWA, OS.OWA"
   ]
  },
  {
   "cell_type": "code",
   "execution_count": 23,
   "metadata": {},
   "outputs": [
    {
     "data": {
      "text/plain": [
       "(array([ 3,  4, 26, 28, 33, 50, 56, 60, 61]),)"
      ]
     },
     "execution_count": 23,
     "metadata": {},
     "output_type": "execute_result"
    }
   ],
   "source": [
    "np.where(SU.WA > OS.WA0)"
   ]
  },
  {
   "cell_type": "code",
   "execution_count": 24,
   "metadata": {},
   "outputs": [
    {
     "data": {
      "text/plain": [
       "array([22.68451219, 17.89834844, 20.97661834, 24.98758862, 21.07390144,\n",
       "       13.99416863, 18.89634413, 13.80521777, 19.13964888, 18.61777745,\n",
       "       22.01869688, 18.86860493, 20.09743034, 24.30508166, 25.17446818,\n",
       "       20.24379468, 23.2538133 , 23.47342465, 22.78045661, 18.60049125,\n",
       "       17.94478005, 17.47677617, 20.18227379, 23.50335294, 19.64156965,\n",
       "       26.05990364, 22.8471778 , 20.63012055, 22.29402452, 18.40063377,\n",
       "       19.03984093, 18.97677721, 24.28892251, 19.98652707, 19.83806725,\n",
       "       17.76810731, 24.46881061, 20.271966  , 16.88938726, 23.4274189 ,\n",
       "       20.13202977, 21.24744747, 14.83738334, 23.17399568, 27.2018157 ,\n",
       "       15.84778001, 16.69013177, 21.39873103, 19.58079527, 20.15950103,\n",
       "       22.09171389, 21.77266835, 18.89194144, 21.91496222, 26.51241123,\n",
       "       21.92058264, 22.30522402, 21.96252481, 19.14621225, 23.07852199,\n",
       "       28.16014893, 21.27697792, 21.29665138, 24.20355875, 20.05468993,\n",
       "       23.89937904, 18.08631363, 12.73363845, 22.20874609, 25.76364865])"
      ]
     },
     "execution_count": 24,
     "metadata": {},
     "output_type": "execute_result"
    }
   ],
   "source": [
    "SU.dMag"
   ]
  },
  {
   "cell_type": "code",
   "execution_count": 25,
   "metadata": {},
   "outputs": [
    {
     "name": "stderr",
     "output_type": "stream",
     "text": [
      "/Users/rpatel/Documents/envs/py27/lib/python2.7/site-packages/ipykernel_launcher.py:1: RuntimeWarning: invalid value encountered in greater\n",
      "  \"\"\"Entry point for launching an IPython kernel.\n"
     ]
    },
    {
     "data": {
      "text/plain": [
       "array([1.00000000e-10, 1.00000000e-10, 5.82103218e-01, 1.59955803e-02,\n",
       "       1.00000000e-10, 2.60015956e-02, 1.00000000e-10, 1.23026877e+00,\n",
       "       1.00000000e-10, 1.00000000e-10, 6.30957344e+01, 1.00000000e-10,\n",
       "       1.00000000e-10, 1.00000000e-10, 1.00000000e-10, 1.00000000e-10,\n",
       "       3.09741930e-01, 3.31131121e+01, 3.08318795e-01, 1.12979591e+00,\n",
       "       3.84591782e-01, 3.73250158e+00, 1.00000000e-10, 2.66072506e+00,\n",
       "       3.09741930e-01, 1.00000000e-10, 1.00000000e-10, 1.00000000e-10,\n",
       "       3.89045145e+01, 1.00000000e-10, 1.00000000e-10, 8.59013522e-01,\n",
       "       1.09900584e-01, 1.00000000e-10, 1.00000000e-10, 1.00000000e-10,\n",
       "       1.23026877e+02, 1.00000000e-10, 1.00000000e-10])"
      ]
     },
     "execution_count": 25,
     "metadata": {},
     "output_type": "execute_result"
    }
   ],
   "source": [
    "np.where(TL.L>0,TL.L, 1e-10)"
   ]
  },
  {
   "cell_type": "code",
   "execution_count": 26,
   "metadata": {},
   "outputs": [
    {
     "data": {
      "text/plain": [
       "22.5"
      ]
     },
     "execution_count": 26,
     "metadata": {},
     "output_type": "execute_result"
    }
   ],
   "source": [
    "CP.dMagLim"
   ]
  },
  {
   "cell_type": "code",
   "execution_count": null,
   "metadata": {},
   "outputs": [],
   "source": []
  },
  {
   "cell_type": "code",
   "execution_count": 7,
   "metadata": {},
   "outputs": [
    {
     "data": {
      "text/plain": [
       "{'FAP': 3e-07,\n",
       " 'FAdMag0': 15,\n",
       " 'IWA': 0.130625,\n",
       " 'Irange': array([  0., 180.]),\n",
       " 'MDP': 0.001,\n",
       " 'Mprange': array([1.000e+00, 4.131e+03]),\n",
       " 'OBduration': inf,\n",
       " 'OBendTimes': array([1.02604776]),\n",
       " 'OBnumber': 0,\n",
       " 'OBstartTimes': array([0.]),\n",
       " 'OWA': inf,\n",
       " 'Orange': array([  0., 360.]),\n",
       " 'Revision': 'Not a valid Github or SVN revision.',\n",
       " 'Rprange': array([ 1. , 22.6]),\n",
       " 'WA0': 0.3185840707964602,\n",
       " 'WAint': 0.3185840707964602,\n",
       " 'arange': array([  0.1, 100. ]),\n",
       " 'atts_mapping': {'BV': 'st_bmvj',\n",
       "  'Bmag': 'st_bj',\n",
       "  'Hmag': 'st_h',\n",
       "  'Imag': 'st_ic',\n",
       "  'Jmag': 'st_j',\n",
       "  'Kmag': 'st_k',\n",
       "  'L': 'st_lum',\n",
       "  'Name': 'pl_hostname',\n",
       "  'Rmag': 'st_rc',\n",
       "  'Spec': 'st_spstr',\n",
       "  'Umag': 'st_uj',\n",
       "  'Vmag': 'st_vj',\n",
       "  'dist': 'st_dist',\n",
       "  'parx': 'st_plx',\n",
       "  'pmdec': 'st_pmdec',\n",
       "  'pmra': 'st_pmra',\n",
       "  'rv': 'st_radv'},\n",
       " 'charMargin': 0.15,\n",
       " 'checkKeepoutEnd': True,\n",
       " 'coMass': 5800.0,\n",
       " 'constrainOrbits': False,\n",
       " 'currentTimeAbs': 60634.0,\n",
       " 'currentTimeNorm': 0.0,\n",
       " 'dMag0': 15.0,\n",
       " 'dMagLim': 20.0,\n",
       " 'dMagint': 20.0,\n",
       " 'defburnPortion': 0.05,\n",
       " 'dryMass': 3400.0,\n",
       " 'erange': array([0.01, 0.99]),\n",
       " 'esigma': 0.25,\n",
       " 'eta': 6.799577394537998,\n",
       " 'explainFiltering': False,\n",
       " 'extendedLife': 0.0,\n",
       " 'fEZ0': 1.584893192461111e-09,\n",
       " 'fZ0': 6.309573444801917e-10,\n",
       " 'fillPhotometry': False,\n",
       " 'fixedPlanPerStar': None,\n",
       " 'flowRate': 0.95304246059091,\n",
       " 'forceStaticEphem': False,\n",
       " 'haveOcculter': False,\n",
       " 'havejplephem': True,\n",
       " 'intCutoff': 50.0,\n",
       " 'keepStarCatalog': False,\n",
       " 'koAngleMax': 90.0,\n",
       " 'koAngleMin': 45.0,\n",
       " 'koAngleMinEarth': 45.0,\n",
       " 'koAngleMinMoon': 45.0,\n",
       " 'koAngleSmall': 1.0,\n",
       " 'magEZ': 22.0,\n",
       " 'magZ': 23.0,\n",
       " 'minComp': 0.02,\n",
       " 'missionFinishAbs': 62825.5,\n",
       " 'missionFinishNorm': 2191.5,\n",
       " 'missionLife': 6.0,\n",
       " 'missionPortion': 1.0,\n",
       " 'missionStart': 60634.0,\n",
       " 'modules': {'BackgroundSources': 'GalaxiesFaintStars',\n",
       "  'Completeness': 'GarrettCompleteness',\n",
       "  'Observatory': 'WFIRSTObservatoryL2',\n",
       "  'OpticalSystem': 'Nemati',\n",
       "  'PlanetPhysicalModel': 'Forecaster',\n",
       "  'PlanetPopulation': 'KnownRVPlanets',\n",
       "  'PostProcessing': 'PostProcessing',\n",
       "  'SimulatedUniverse': 'KnownRVPlanetsUniverse',\n",
       "  'StarCatalog': u'EXOCAT1',\n",
       "  'SurveyEnsemble': 'SurveyEnsemble',\n",
       "  'SurveySimulation': 'SurveySimulation',\n",
       "  'TargetList': 'KnownRVPlanetsTargetList',\n",
       "  'TimeKeeping': 'TimeKeeping',\n",
       "  'ZodiacalLight': 'Stark'},\n",
       " 'nStars': 46,\n",
       " 'nVisitsMax': 5,\n",
       " 'ntFlux': 1,\n",
       " 'obsEnd': 0.0,\n",
       " 'obsStart': 0.0,\n",
       " 'obscurFac': 0.1024,\n",
       " 'observingModes': [{u'BW': 0.2,\n",
       "   u'SNR': 5,\n",
       "   u'detectionMode': True,\n",
       "   u'instName': u'imager',\n",
       "   u'lam': 600,\n",
       "   u'systName': u'HLC-565'},\n",
       "  {u'SNR': 5, u'instName': u'spectro', u'lam': 550, u'systName': u'SPC-800'},\n",
       "  {u'SNR': 5, u'instName': u'spectro', u'lam': 600, u'systName': u'SPC-800'}],\n",
       " 'occulterSep': 55000.0,\n",
       " 'ppFact': 0.3,\n",
       " 'prange': array([0.083, 0.882]),\n",
       " 'pupilArea': 3.9597650425228452,\n",
       " 'pupilDiam': 2.37,\n",
       " 'ref_Time': 0.0,\n",
       " 'ref_dMag': 3.0,\n",
       " 'rrange': array([1.00e-03, 1.99e+02]),\n",
       " 'scMass': 6000.0,\n",
       " 'scaleOrbits': False,\n",
       " 'scienceInstruments': [{u'CIC': 0.0021,\n",
       "   u'ENF': 1.41,\n",
       "   u'FoV': 9.5,\n",
       "   'PCeff': 0.8,\n",
       "   u'QE': 0.72,\n",
       "   'Rs': 1.0,\n",
       "   'fnumber': 60.97706197560175,\n",
       "   'focal': 144.51563688217615,\n",
       "   u'idark': 3e-05,\n",
       "   'lenslSamp': 1.0,\n",
       "   u'name': u'imager',\n",
       "   'optics': 0.5,\n",
       "   u'pixelNumber': 1024,\n",
       "   'pixelScale': 0.0185546875,\n",
       "   u'pixelSize': 1.3e-05,\n",
       "   u'sread': 1.7e-06,\n",
       "   u'texp': 30.0},\n",
       "  {u'CIC': 0.0021,\n",
       "   u'ENF': 1.41,\n",
       "   u'FoV': 1.0,\n",
       "   'PCeff': 0.8,\n",
       "   u'QE': 0.72,\n",
       "   u'Rs': 50.0,\n",
       "   'fnumber': 575.4526999602537,\n",
       "   'focal': 1363.8228989058011,\n",
       "   u'idark': 3e-05,\n",
       "   'lenslSamp': 2.0,\n",
       "   u'name': u'spectro',\n",
       "   'optics': 0.5,\n",
       "   u'pixelNumber': 76,\n",
       "   'pixelScale': 0.02631578947368421,\n",
       "   u'pixelSize': 0.000174,\n",
       "   u'sread': 1.7e-06,\n",
       "   u'texp': 30.0}],\n",
       " 'seed': 994371303,\n",
       " 'settlingTime': 0.02,\n",
       " 'shapeFac': 0.7853981633974483,\n",
       " 'skIsp': 220.0,\n",
       " 'slewIsp': 4160.0,\n",
       " 'smaknee': 30.0,\n",
       " 'starlightSuppressionSystems': [{u'BW': 0.1,\n",
       "   u'IWA': 0.15,\n",
       "   'OWA': inf,\n",
       "   'PSF': array([[1., 1., 1.],\n",
       "          [1., 1., 1.],\n",
       "          [1., 1., 1.]]),\n",
       "   u'core_area': 0.005,\n",
       "   'core_contrast': 1e-10,\n",
       "   u'core_mean_intensity': 4e-12,\n",
       "   u'core_platescale': 0.3,\n",
       "   u'core_thruput': 0.02,\n",
       "   'deltaLam': 56.5,\n",
       "   u'lam': 565.0,\n",
       "   u'name': u'HLC-565',\n",
       "   u'occ_trans': 0.3,\n",
       "   'occulter': False,\n",
       "   'ohTime': 1.0,\n",
       "   'optics': 1.0},\n",
       "  {u'BW': 0.18, u'IWA': 0.19, 'OWA': inf, 'PSF': array([[1., 1., 1.],\n",
       "          [1., 1., 1.],\n",
       "          [1., 1., 1.]]), u'core_area': 0.005, 'core_contrast': 1e-10, u'core_mean_intensity': 4e-12, u'core_platescale': 0.3, u'core_thruput': 0.02, 'deltaLam': 144.0, u'lam': 800.0, u'name': u'SPC-800', u'occ_trans': 0.3, 'occulter': False, 'ohTime': 1.0, 'optics': 1.0}],\n",
       " 'staticStars': True,\n",
       " 'thrust': 450.0,\n",
       " 'varEZ': 0.0,\n",
       " 'waitMultiple': 2.0,\n",
       " 'waitTime': 1.0,\n",
       " 'wrange': array([  0., 360.])}"
      ]
     },
     "execution_count": 7,
     "metadata": {},
     "output_type": "execute_result"
    }
   ],
   "source": [
    "# Dictionary of all the parameters\n",
    "sim.genOutSpec()"
   ]
  },
  {
   "cell_type": "markdown",
   "metadata": {},
   "source": [
    "## 3. EXOSIMS UI"
   ]
  },
  {
   "cell_type": "markdown",
   "metadata": {},
   "source": [
    "The user interface at IPAC has three components.\n",
    "\n",
    "- 1) The public facing user interface.\n",
    "- 2) The intermediary python script.\n",
    "- 3) EXOSIMS\n",
    "\n",
    "Basically, the user inputs the parameters of their choice in the interface (1). The inputs are then parsed by the back-end code to the intermediary python script (2). The python script then calls EXOSIMS internally (3), whose results are then internally stored and created by the python script (4). Select outputs are then sent to the backend IPAC cloud (5), which the user can then access via the interface or emailed results.\n",
    "\n",
    "***This section will mostly deal with numbers 2 to 5 in the flow chart below ***"
   ]
  },
  {
   "cell_type": "markdown",
   "metadata": {},
   "source": [
    "![title](../FlowCharts/exosimsui.png)"
   ]
  },
  {
   "cell_type": "markdown",
   "metadata": {},
   "source": [
    "### 3.1 Interface Parsing"
   ]
  },
  {
   "cell_type": "markdown",
   "metadata": {},
   "source": [
    "The basics of the interface is self-explanatory -- stuff on website with forms that the user inputs, yada yada. The top level code is a black box to me, and Joan is best to consult with respect to that. The important thing is that once the user hits \"submit\", the input values are parsed in an array of strings in the form of \n",
    "\n",
    "**['path','key1','val1','key2','val2',...,'keyn','valn']**\n",
    "\n",
    "where the first term, 'path', can be ignored as it's just the local path for where the script is located. Everything else are seen as pairs of keys and values (input field, and the entered value).\n",
    "\n",
    "E.g.: ['/var/www/wfirst-dev-15-08-07/html/sims/tools/exosimsCGI/bin/EXOSIMS_end2end+outputs.py',\n",
    "       '-missionLife', '5.5', '-missionPortion', '0.3', '-extendedLife', '0.0', '-missionStart', '60676.0']"
   ]
  },
  {
   "cell_type": "markdown",
   "metadata": {},
   "source": [
    "#### 3.1.1 Interface to EXOSIMS Keywords"
   ]
  },
  {
   "cell_type": "markdown",
   "metadata": {},
   "source": [
    "The backend keywords from the interface are not exactly the same as what EXOSIMS uses. The intermediary python script takes the backend user keywords and translates them to what EXOSIMS uses. To ensure this backend-to-exosims mapping, I created an excel sheet that contains information telling Joan what to label each backend keyword to simplify the translation. For the most part, it's a simple dash that's prefixed to the EXOSIMS keyword to create the UI backend keyword.\n",
    "\n",
    "This excel sheet can be found in '../GUI_Backend/gui_input.xlsx\n",
    "\n",
    "A snippet of the excel sheet can be found below. It lists:\n",
    "\n",
    " - ***Front end***:\n",
    "     Listed description of the input variable, along with the the default value, units, and value restriction\n",
    " \n",
    " - ***Back end***:\n",
    "     The UI generated back end variable name for that entry, which is typically the corresponding EXOSIMS variable name prefixed with a dash (usually)\n",
    "     \n",
    " - ***Alt Text Description***: self-explanatory."
   ]
  },
  {
   "cell_type": "markdown",
   "metadata": {},
   "source": [
    "![title](../FlowCharts/gui_input_sheet.png)"
   ]
  },
  {
   "cell_type": "markdown",
   "metadata": {},
   "source": [
    "### 3.2 Python Script"
   ]
  },
  {
   "cell_type": "markdown",
   "metadata": {},
   "source": [
    "The python script, \"EXOSIMS_end2end+outputs.py\"  formats the array of strings from the UI and parses it to EXOSIMS. It then stores the output, and saves a bunch of output CSV files and plots.\n",
    "\n",
    "Much of the script is self-explantory. Here, I'll explain the parts that are a little more complicated."
   ]
  },
  {
   "cell_type": "markdown",
   "metadata": {},
   "source": [
    "#### 3.2.1  Format to EXOSIMS JSON"
   ]
  },
  {
   "cell_type": "markdown",
   "metadata": {},
   "source": [
    "This is around line 550 in the python script. \n",
    "\n",
    "First, three base JSON files are loaded: $\\texttt{baseParams.json, baseObservingModes.json, baseModules.json}$\n",
    "\n",
    "Each contains standard "
   ]
  },
  {
   "cell_type": "code",
   "execution_count": null,
   "metadata": {},
   "outputs": [],
   "source": []
  }
 ],
 "metadata": {
  "kernelspec": {
   "display_name": "Python 2",
   "language": "python",
   "name": "python2"
  },
  "language_info": {
   "codemirror_mode": {
    "name": "ipython",
    "version": 2
   },
   "file_extension": ".py",
   "mimetype": "text/x-python",
   "name": "python",
   "nbconvert_exporter": "python",
   "pygments_lexer": "ipython2",
   "version": "2.7.14"
  }
 },
 "nbformat": 4,
 "nbformat_minor": 2
}
