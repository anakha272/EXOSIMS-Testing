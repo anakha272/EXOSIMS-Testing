{
 "cells": [
  {
   "cell_type": "markdown",
   "metadata": {},
   "source": [
    "# The IPAC Exoplanet Open-Source Imaging Mission Simulator User-Interface (EXOSIMS-UI) Development Guide"
   ]
  },
  {
   "cell_type": "markdown",
   "metadata": {},
   "source": [
    "Written by: Rahul I. Patel"
   ]
  },
  {
   "cell_type": "markdown",
   "metadata": {},
   "source": [
    "<hr>"
   ]
  },
  {
   "cell_type": "markdown",
   "metadata": {},
   "source": [
    "## 1. Intro"
   ]
  },
  {
   "cell_type": "markdown",
   "metadata": {},
   "source": [
    "EXOSIMS is an all-in-one sophisticated python-based simulation software that provides planetary yield estimates for space-based coronagraphic missions. EXOSIMS incorporates Monte-Carlo completeness modeling, simulates a planet-finding survey given a target list and other contraints, and optimizes the observing time during a given mission lifetime. \n",
    " \n",
    "IPAC is one of the science center for the Wide-Field Infrared Survey Telescope (WFIRST) mission, and is hosting various tools to help the community plan their observations. One of those include the coronagraphic instrument (CGI) WFIRST. To make EXOSIMS accessible to the community, we are hosting it as a backend to our front end web user interface (UI). "
   ]
  },
  {
   "cell_type": "markdown",
   "metadata": {},
   "source": [
    "## 1.1 What You Need"
   ]
  },
  {
   "cell_type": "markdown",
   "metadata": {},
   "source": [
    "Here are the things you'll need to get just EXOSIMS up and running:"
   ]
  },
  {
   "cell_type": "markdown",
   "metadata": {},
   "source": [
    "- EXOSIMS full code : \n",
    "> https://github.com/dsavransky/EXOSIMS. Useful to get one of the official releases https://github.com/dsavransky/EXOSIMS/releases\n",
    "\n",
    "- Forecaster : (http://ascl.net/1701.007).  The $\\texttt{fitting_parameters.h5}$ from https://github.com/chenjj2/forecaster  should be placed in $\\texttt{PlanetPhysicalModel}$.\n",
    "- You need an SPK ephemeris file and place it in the $\\texttt{Observatory}$ subdirector of EXOSIMS. Download it form here: http://naif.jpl.nasa.gov/pub/naif/generic_kernels/spk/planets/de432s.bsp\n",
    "- [Optional] NASA's Navigation and Ancillary Information Facility's SPICE system components (https://naif.jpl.nasa.gov/naif/)\n",
    "- Other dependencies: https://github.com/dsavransky/EXOSIMS/blob/master/.travis.yml\n",
    "- Python requirements: https://github.com/dsavransky/EXOSIMS/blob/master/requirements.txt\n",
    "\n",
    "** The code at the moment is Python 2 compliant, and they're working on getting up to Python 3. I can't guarantee it'll work in Py3 environment**"
   ]
  },
  {
   "cell_type": "markdown",
   "metadata": {},
   "source": [
    "## 1.2 Install and Quick Start"
   ]
  },
  {
   "cell_type": "markdown",
   "metadata": {},
   "source": [
    "The official EXOSIMS github page has two pages to help with this. You can find them here:\n",
    "\n",
    "- https://github.com/dsavransky/EXOSIMS/blob/master/documentation/install.rst\n",
    "- https://github.com/dsavransky/EXOSIMS/blob/master/documentation/quickstart.rst"
   ]
  },
  {
   "cell_type": "markdown",
   "metadata": {},
   "source": [
    "***"
   ]
  },
  {
   "cell_type": "markdown",
   "metadata": {},
   "source": [
    "## 2. EXOSIMS"
   ]
  },
  {
   "cell_type": "markdown",
   "metadata": {},
   "source": [
    "  There is a lot to this code. There are too many functions to cover. I dont' intend to outline all of them here, as that would be impractical. There is already documentation for each and every function and variable in the EXOSIMS Internal Control Document (ICD; https://cdn.rawgit.com/dsavransky/EXOSIMS/master/ICD/icd.pdf). \n",
    "   \n",
    "   Here, my goal is to highlight the major working aspects of the code and also the interface script used for the EXOSIMS-UI"
   ]
  },
  {
   "cell_type": "markdown",
   "metadata": {},
   "source": [
    "### 2.1 The Modules"
   ]
  },
  {
   "cell_type": "markdown",
   "metadata": {},
   "source": [
    "The code is heavily modular, and various modules control different aspects of the simulation:\n",
    "\n",
    "- **StarCatalog:** Details on potential targets drawn from general databases. Meta data storage. No other calculations\n",
    "\n",
    "- **PlanetPopulation:** Encodes the probability density functions of all required planetary parameters, both physical and orbital. Does not model physical orbits or light emission/reflection -- statistics of planet occurence and properties.\n",
    "\n",
    "- **PlanetPhysicalModel:** Models of the light emitted or reflected by planets in the wavelength bands under investigation by the current mission simulation.\n",
    "\n",
    "- **OpticalSystem:** Contains all of the necessary information to describe the planet signal and the background noise, and calculate the integration time for a given observation. Encodes specs on instruments. \n",
    "\n",
    "- **ZodiacalLight:** Self-explanatory\n",
    "\n",
    "- **BackgroundSources:** Provides density of background sources for a given target based on its coordinates and the integration depth.\n",
    "\n",
    "- **PostProcessing:** Encodes the effects of post-processing on the data gathered in a simulated observation, and the effects on the final contrast of the simulation and is also responsible for determining whether a planet detection has occurred for a given observation.\n",
    "\n",
    "- **Completeness:** Takes in information from the $\\texttt{PlanetPopulation}$ module to determine initial completeness and update completeness values for target list stars when called upon. \n",
    "\n",
    " ***\n",
    " \n",
    " The next few modules are top-level modules that oversee major aspects of the simulation and call upon the powers of the previous modules.\n",
    " \n",
    " > **TargetList:** Don't let its name fool you. This module takes in information from the $\\texttt{StarCatalog}$, $\\texttt{OpticalSystem}$, $\\texttt{ZodiacalLight}$, $\\texttt{PostProcessing}$, $\\texttt{BackgroundSources}$, $\\texttt{Completeness}$, $\\texttt{PlanetPopulation}$, and $\\texttt{PlanetPhysicalModel}$  modules to generate the target list for the simulated survey. The final target list encodes all of the same information as is provided by the $\\texttt{StarCatalog}$ module.\n",
    " \n",
    " > **SimulatedUniverse:** Instantiates the $\\texttt{TargetList}$ module and creates a synthetic universe by populating planetary systems about some or all of the stars in the target list.\n",
    " \n",
    " > **Observatory:** Contains all of the information specific to the space-based observatory not included in the $\\texttt{OpticalSystem}$ module. \n",
    " \n",
    " > **TimeKeeping:** The Time Keeping module is responsible for keeping track of the current mission time. It encodes only the mission start time, the mission duration, and the current time within a simulation.  \n",
    " \n",
    " > **SurveySimulation:** Performs a specific simulation based on all of the input parameters and models. This module returns the mission timeline - an ordered list of simulated observations of various targets on the target list along with their outcomes.\n",
    " \n",
    " > **SurveyEnsemble:** only task it to run multiple simulations. Parallel stuff. \n",
    "\n",
    "***\n",
    "\n",
    "Note! The descriptions above are not complete. For a full description, please see the EXOSIMS ICD (https://cdn.rawgit.com/dsavransky/EXOSIMS/master/ICD/icd.pdf)\n",
    "\n",
    "\n"
   ]
  },
  {
   "cell_type": "markdown",
   "metadata": {},
   "source": [
    "### 2.2 The Underbelly Process"
   ]
  },
  {
   "cell_type": "markdown",
   "metadata": {},
   "source": [
    "The way the code works can be outlined by a flow-chart I made back in late 2016 (next Figure). The core of it is still valid, even with updates to the code. \n",
    "\n",
    "You'll see that the $\\texttt{MissionSimulation}$ starts things up by instantiating the top level modules:\n",
    "\n",
    "- SurveyEnsemble\n",
    "- TimeKeeping\n",
    "- Observatory\n",
    "- SurveySimulation\n",
    "- Simulated Universe\n",
    "\n",
    "After it's been fed a list of user defined inputs from a JSON file. We'll come back to the JSON file shortly.\n",
    "\n",
    "Then $\\texttt{SimulatedUniverse}$ instantiates $\\texttt{TargetList}$, which itself in turn instantiates the rest of the major modules. "
   ]
  },
  {
   "cell_type": "markdown",
   "metadata": {},
   "source": [
    "![title](FlowCharts/EXOSIMS_MissionSim.png)"
   ]
  },
  {
   "cell_type": "markdown",
   "metadata": {},
   "source": [
    " Running EXOSIMS is relatively simple. As shown in the above flow chart, the $\\texttt{MissionSim}$ module is instantiated with an input parameter/script file, and then the $\\texttt{SurveySimulation}$ module from $\\texttt{MissionSim}$ is executed and the simulation starts running. \n",
    "\n",
    "The simulation then runs according to the next Flow Chart figure. Again, it's slightly out of date, but you can get the idea. "
   ]
  },
  {
   "cell_type": "markdown",
   "metadata": {},
   "source": [
    "![title](FlowCharts/EXOSIMS_runsim.png)"
   ]
  },
  {
   "cell_type": "markdown",
   "metadata": {},
   "source": [
    "## 2.3 The JSON Script"
   ]
  },
  {
   "cell_type": "markdown",
   "metadata": {},
   "source": [
    "The starting point of EXOSIMS lies in its input scriptfile (i.e., parameter file).\n",
    "This is what is needed for the user to specify their own simulation parameters and is fed directly into the instantiation of $\\texttt{MissionSim}$. \n",
    "\n",
    "I would break up the JSON script into five separate sections:\n",
    "- General Parameters\n",
    "- Science Instruments\n",
    "- Star light suppression systems\n",
    "- Observing Modes\n",
    "- Modules"
   ]
  },
  {
   "cell_type": "markdown",
   "metadata": {},
   "source": [
    "You can add as many of these as you want of the parameters that are designated as general parameters. You may want to keep determine which parameters should stay fixed, compared to the ones the user can play around with. Any parameters that are not explictly defined will be given the default values (listed in the ICD)."
   ]
  },
  {
   "cell_type": "markdown",
   "metadata": {},
   "source": [
    "![title](scripts/sample_JSONScript.png)"
   ]
  },
  {
   "cell_type": "markdown",
   "metadata": {},
   "source": [
    "### 2.3.1 General Parameters"
   ]
  },
  {
   "cell_type": "markdown",
   "metadata": {},
   "source": [
    "I usually include these at the top of the file as they don't belong to any subgroup of parameters. Here are some to name a few, but the majority can be found the ICD\n",
    "\n",
    "    \"logfile\":\"logfile.txt\",    logfile name if you wanna give it one.\n",
    "    \"missionLife\": 4,           Life of the mission in years. \n",
    "    \"missionPortion\" : 0.1 ,    Portion of the missison devoted to coronagraphic observations.\n",
    "    \"missionStart\" : 60676.0,   Modified Julian Date of the start of the mission.\n",
    "    \"extendedLife\" : 0,         How many years to extend original mission.\n",
    "    \"pupilDiam\" : 2.37,         Pupil Diameters\n",
    "    \"shapeFac\" :0.7854,         Telescope aperture shape factor\n",
    "    \"obscurFac\" : 0.14728,      Fraction of primary obscured\n",
    "    \"minComp\" : 0.1,            The minimum completeness level for each target to be included in the survey.\n",
    "    \"settlingTime\" : 1,         Amount of time, in units of days, needed for observatory to settle after a repointing.\n",
    "    \"dMagLim\" :23,              Fundamental limiting magnitude (contrast) difference between the star and planet to which the the mission will be sensitive.\n",
    "    \"intCutoff\" :50 ,           Maximum integration time for any obs in days\n",
    "    \"FAP\" : 3E-7,               Planet detection false alarm probability.\n",
    "    \"MDP\" : 1E-3,               Probability that a planet detection was missed.\n",
    "    "
   ]
  },
  {
   "cell_type": "markdown",
   "metadata": {},
   "source": [
    "### 2.3.2 Science Instruments"
   ]
  },
  {
   "cell_type": "markdown",
   "metadata": {},
   "source": [
    "Pretty self-explanatory. You can define as many instruments you want with a multitude of specifications."
   ]
  },
  {
   "cell_type": "markdown",
   "metadata": {},
   "source": [
    "    \"scienceInstruments\": [\n",
    "                            {\n",
    "                              \"name\": \"imaging-EMCCD\",\n",
    "                              \"QE\": 0.88,\n",
    "                              \"CIC\": 0.0013,\n",
    "                              \"ENF\": 1.414,\n",
    "                              \"pitch\": 1E-5,\n",
    "                              \"focal\": 100,\n",
    "                              \"idark\": 5E-4,\n",
    "                              \"sread\": 0.2, \n",
    "                              \"texp\": 1000\n",
    "                            },\n",
    "                            {\n",
    "                              \"name\": \"spectro-CCD\",\n",
    "                              \"QE\": 0.88,\n",
    "                              \"CIC\": 0.0013,\n",
    "                              \"sread\": 3,\n",
    "                              \"Rs\": 70,\n",
    "                              \"pitch\": 1E-5,\n",
    "                              \"focal\": 100,\n",
    "                              \"idark\": 5E-4,\n",
    "                              \"texp\": 1000 \n",
    "                            }\n",
    "                         ],"
   ]
  },
  {
   "cell_type": "markdown",
   "metadata": {},
   "source": [
    "### 2.3.3. Star Light Suppression Systems"
   ]
  },
  {
   "cell_type": "markdown",
   "metadata": {},
   "source": [
    "Describes the occulting masks and their specs. These are encoded as a list of dictionaries containing specific attributes of all starlight suppression systems. For each system, if all attributes are missing from the dictionary, they will be assigned the default values listed, or any value directly passed as input to the class constructor. In case of multiple systems, specified wavelength values (lam, deltaLam,BW) of the first system become the new default values. All attributes can be found in the ICD."
   ]
  },
  {
   "cell_type": "markdown",
   "metadata": {},
   "source": [
    "    \"starlightSuppressionSystems\": [\n",
    "                                        {\n",
    "                                          \"name\": \"HLC-565\",\n",
    "                                          \"lam\": 565,\n",
    "                                          \"BW\": 0.10,\n",
    "                                          \"IWA\": 0.13,\n",
    "                                          \"OWA\": 1.44,\n",
    "                                          \"occ_trans\": 0.2,\n",
    "                                          \"core_thruput\": 0.02,\n",
    "                                          \"core_mean_intensity\": 2e-12\n",
    "                                        },\n",
    "                                        {\n",
    "                                          \"name\": \"SPC-800\",\n",
    "                                          \"lam\": 800,\n",
    "                                          \"BW\": 0.18,\n",
    "                                          \"IWA\": 0.17,\n",
    "                                          \"OWA\": 0.64,\n",
    "                                          \"occ_trans\": 0.3,\n",
    "                                          \"core_thruput\": 0.04,\n",
    "                                          \"core_mean_intensity\": 4e-12,\n",
    "                                          \"core_area\": 0.005\n",
    "                                        }\n",
    "                                    ],"
   ]
  },
  {
   "cell_type": "markdown",
   "metadata": {},
   "source": [
    "### 2.3.4. Observing Modes"
   ]
  },
  {
   "cell_type": "markdown",
   "metadata": {},
   "source": [
    "List of dictionaries containing specific attributes of all mission observing modes. Each observing mode is a combination of an instrument and a system, operating at a given wavelength, which by default is the wavelength defined in the starlight suppression system of the observing mode. If an observing mode is operating at a different wavelength than the system default wavelength, then this new wavelength must be added to the observing mode, and the system performance will be automatically rescaled to the new wavelength. If no observing mode is defined, the default observing mode simply combines the first instrument and the first system.\n",
    "\n",
    "Details are in the ICD"
   ]
  },
  {
   "cell_type": "markdown",
   "metadata": {},
   "source": [
    "    \"observingModes\": [\n",
    "                        {\n",
    "                          \"instName\": \"imaging-EMCCD\",\n",
    "                          \"systName\": \"HLC-565\",\n",
    "                          \"SNR\":5,\n",
    "                          \"lam\": 565,\n",
    "                          \"BW\": 0.10,\n",
    "                          \"detection\":true\n",
    "                        },\n",
    "\n",
    "                        {\n",
    "                          \"instName\": \"spectro-CCD\",\n",
    "                          \"systName\": \"SPC-800\",\n",
    "                          \"lam\": 400,\n",
    "                          \"BW\": 0.10,\n",
    "                          \"SNR\":5\n",
    "                        }\n",
    "                    ],"
   ]
  },
  {
   "cell_type": "markdown",
   "metadata": {},
   "source": [
    "### 2.3.5 Modules"
   ]
  },
  {
   "cell_type": "markdown",
   "metadata": {},
   "source": [
    "Indicates which specific modules will be used for to calculate the specifics of each \"universe\". If you leave all of them blank, it'll run, but it will default to non-sense. StarCatalog should have something in it besides \"StarCatalog\". The various modules will call the specified sub-module to do the proper calculation for a specific simulation. For instance, the $\\texttt{Observatory}$ module, which handles all the physical properties of the observatory (specs, thrust, fuel, etc.) will now rely on the specifics in the $\\texttt{WFIRSTObservatoryL2}$ sub-module. If we wanted a Hab-Ex like observatory, we'd create another sub-module and replace it with that."
   ]
  },
  {
   "cell_type": "markdown",
   "metadata": {},
   "source": [
    "     \"modules\": {\n",
    "                \"PlanetPopulation\": \"KnownRVPlanets\",\n",
    "                \"StarCatalog\": \"EXOCAT1\",\n",
    "                \"OpticalSystem\": \"Nemati\",\n",
    "                \"ZodiacalLight\": \"Stark\",\n",
    "                \"BackgroundSources\": \"GalaxiesFaintStars\",\n",
    "                \"PlanetPhysicalModel\": \"Forecaster\",\n",
    "                \"Observatory\": \"WFIRSTObservatoryL2\",\n",
    "                \"TimeKeeping\": \" \",\n",
    "                \"PostProcessing\": \" \",\n",
    "                \"Completeness\": \"GarrettCompleteness\",\n",
    "                \"TargetList\": \"KnownRVPlanetsTargetList\",\n",
    "                \"SimulatedUniverse\": \"KnownRVPlanetsUniverse\",\n",
    "                \"SurveySimulation\": \" \",\n",
    "                \"SurveyEnsemble\": \" \"\n",
    "               }"
   ]
  },
  {
   "cell_type": "code",
   "execution_count": 1,
   "metadata": {},
   "outputs": [],
   "source": [
    "import numpy as np\n",
    "import EXOSIMS.MissionSim as msim\n",
    "#np.seterr(all='ignore'); # this is to silence all the annoying numpy warnings"
   ]
  },
  {
   "cell_type": "code",
   "execution_count": 5,
   "metadata": {},
   "outputs": [
    {
     "name": "stdout",
     "output_type": "stream",
     "text": [
      "Logging to 'rpatel_log.txt' at level 'INFO'\n",
      "Imported SurveySimulation (prototype module) from EXOSIMS.Prototypes.SurveySimulation\n",
      "Imported KnownRVPlanetsUniverse (specific module) from EXOSIMS.Simulat[...]se.KnownRVPlanetsUniverse\n",
      "Imported TargetList (prototype module) from EXOSIMS.Prototypes.TargetList\n",
      "Imported SIMBAD300Catalog (specific module) from EXOSIMS.StarCatalog.SIMBAD300Catalog\n",
      "Loaded SIMBAD300.pkl star catalog\n",
      "Imported Nemati (specific module) from EXOSIMS.OpticalSystem.Nemati\n",
      "Imported Stark (specific module) from EXOSIMS.ZodiacalLight.Stark\n",
      "Imported PostProcessing (prototype module) from EXOSIMS.Prototypes.PostProcessing\n",
      "Imported GalaxiesFaintStars (specific module) from EXOSIMS.BackgroundSources.GalaxiesFaintStars\n",
      "Imported GarrettCompleteness (specific module) from EXOSIMS.Completeness.GarrettCompleteness\n",
      "Imported KnownRVPlanets (specific module) from EXOSIMS.PlanetPopulation.KnownRVPlanets\n",
      "Imported Forecaster (specific module) from EXOSIMS.PlanetPhysicalModel.Forecaster\n",
      "Generating pdf of orbital radius\n",
      "Finished pdf of orbital radius\n",
      "Generating pdf of albedo times planetary radius squared\n",
      "Finished pdf of albedo times planetary radius squared\n",
      "Cached completeness file not found at \"/Users/rpatel/Dropbox/Research/WFIRST/EXOSIMS/EXOSIMS/Completeness/KnownRVPlanetsForecaster915ab5d8b01e802f1d77fbeff852405798eb4e3c1aeab7d060fa27406a6de66c.acomp\".\n",
      "Generating completeness.\n",
      "Marginalizing joint pdf of separation and dMag up to dMagMax\n",
      "Finished marginalization\n",
      "Completeness data stored in /Users/rpatel/Dropbox/Research/WFIRST/EXOSIMS/EXOSIMS/Completeness/KnownRVPlanetsForecaster915ab5d8b01e802f1d77fbeff852405798eb4e3c1aeab7d060fa27406a6de66c.acomp\n",
      "Cached dynamic completeness array not found at \"/Users/rpatel/Dropbox/Research/WFIRST/EXOSIMS/EXOSIMS/Completeness/KnownRVPlanetsForecasterNematiSIMBAD300CatalogTargetList4088c4be0d0c90aee2fe1e5148be9e3d.dcomp\".\n",
      "Beginning dynamic completeness calculations\n",
      "stars: 50 / 984\n",
      "stars: 100 / 984\n",
      "stars: 150 / 984\n",
      "stars: 200 / 984\n",
      "stars: 250 / 984\n",
      "stars: 300 / 984\n",
      "stars: 350 / 984\n",
      "stars: 400 / 984\n",
      "stars: 450 / 984\n",
      "stars: 500 / 984\n",
      "stars: 550 / 984\n",
      "stars: 600 / 984\n",
      "stars: 650 / 984\n",
      "stars: 700 / 984\n",
      "stars: 750 / 984\n",
      "stars: 800 / 984\n",
      "stars: 850 / 984\n",
      "stars: 900 / 984\n",
      "stars: 950 / 984\n",
      "Dynamic completeness calculations finished\n",
      "Dynamic completeness array stored in u'/Users/rpatel/Dropbox/Research/WFIRST/EXOSIMS/EXOSIMS/Completeness/KnownRVPlanetsForecasterNematiSIMBAD300CatalogTargetList4088c4be0d0c90aee2fe1e5148be9e3d.dcomp'\n"
     ]
    },
    {
     "ename": "IndexError",
     "evalue": "Target list filtered to empty.",
     "output_type": "error",
     "traceback": [
      "\u001b[0;31m---------------------------------------------------------------------------\u001b[0m",
      "\u001b[0;31mIndexError\u001b[0m                                Traceback (most recent call last)",
      "\u001b[0;32m<ipython-input-5-e0e5f5b70564>\u001b[0m in \u001b[0;36m<module>\u001b[0;34m()\u001b[0m\n\u001b[0;32m----> 1\u001b[0;31m \u001b[0msim\u001b[0m \u001b[0;34m=\u001b[0m \u001b[0mmsim\u001b[0m\u001b[0;34m.\u001b[0m\u001b[0mMissionSim\u001b[0m\u001b[0;34m(\u001b[0m\u001b[0;34m'scripts/template_rpateltest_KnownRV.json'\u001b[0m\u001b[0;34m)\u001b[0m\u001b[0;34m\u001b[0m\u001b[0m\n\u001b[0m",
      "\u001b[0;32m/Users/rpatel/Dropbox/Research/WFIRST/EXOSIMS/EXOSIMS/MissionSim.pyc\u001b[0m in \u001b[0;36m__init__\u001b[0;34m(self, scriptfile, nopar, verbose, **specs)\u001b[0m\n\u001b[1;32m    149\u001b[0m         \u001b[0;31m#create a surveysimulation object (triggering init of everything else)\u001b[0m\u001b[0;34m\u001b[0m\u001b[0;34m\u001b[0m\u001b[0m\n\u001b[1;32m    150\u001b[0m         self.SurveySimulation = get_module(specs['modules']['SurveySimulation'],\n\u001b[0;32m--> 151\u001b[0;31m                 'SurveySimulation')(**specs)\n\u001b[0m\u001b[1;32m    152\u001b[0m \u001b[0;34m\u001b[0m\u001b[0m\n\u001b[1;32m    153\u001b[0m         \u001b[0;31m# collect sub-initializations\u001b[0m\u001b[0;34m\u001b[0m\u001b[0;34m\u001b[0m\u001b[0m\n",
      "\u001b[0;32m/Users/rpatel/Dropbox/Research/WFIRST/EXOSIMS/EXOSIMS/Prototypes/SurveySimulation.pyc\u001b[0m in \u001b[0;36m__init__\u001b[0;34m(self, scriptfile, ntFlux, nVisitsMax, charMargin, WAint, dMagint, **specs)\u001b[0m\n\u001b[1;32m    132\u001b[0m             \u001b[0;31m# import desired module names (prototype or specific)\u001b[0m\u001b[0;34m\u001b[0m\u001b[0;34m\u001b[0m\u001b[0m\n\u001b[1;32m    133\u001b[0m             self.SimulatedUniverse = get_module(specs['modules']['SimulatedUniverse'],\n\u001b[0;32m--> 134\u001b[0;31m                     'SimulatedUniverse')(**specs)\n\u001b[0m\u001b[1;32m    135\u001b[0m             self.Observatory = get_module(specs['modules']['Observatory'],\n\u001b[1;32m    136\u001b[0m                     'Observatory')(**specs)\n",
      "\u001b[0;32m/Users/rpatel/Dropbox/Research/WFIRST/EXOSIMS/EXOSIMS/SimulatedUniverse/KnownRVPlanetsUniverse.pyc\u001b[0m in \u001b[0;36m__init__\u001b[0;34m(self, **specs)\u001b[0m\n\u001b[1;32m     17\u001b[0m     \u001b[0;32mdef\u001b[0m \u001b[0m__init__\u001b[0m\u001b[0;34m(\u001b[0m\u001b[0mself\u001b[0m\u001b[0;34m,\u001b[0m \u001b[0;34m**\u001b[0m\u001b[0mspecs\u001b[0m\u001b[0;34m)\u001b[0m\u001b[0;34m:\u001b[0m\u001b[0;34m\u001b[0m\u001b[0m\n\u001b[1;32m     18\u001b[0m \u001b[0;34m\u001b[0m\u001b[0m\n\u001b[0;32m---> 19\u001b[0;31m         \u001b[0mSimulatedUniverse\u001b[0m\u001b[0;34m.\u001b[0m\u001b[0m__init__\u001b[0m\u001b[0;34m(\u001b[0m\u001b[0mself\u001b[0m\u001b[0;34m,\u001b[0m \u001b[0;34m**\u001b[0m\u001b[0mspecs\u001b[0m\u001b[0;34m)\u001b[0m\u001b[0;34m\u001b[0m\u001b[0m\n\u001b[0m\u001b[1;32m     20\u001b[0m \u001b[0;34m\u001b[0m\u001b[0m\n\u001b[1;32m     21\u001b[0m     \u001b[0;32mdef\u001b[0m \u001b[0mgen_physical_properties\u001b[0m\u001b[0;34m(\u001b[0m\u001b[0mself\u001b[0m\u001b[0;34m,\u001b[0m \u001b[0mmissionStart\u001b[0m\u001b[0;34m=\u001b[0m\u001b[0;36m60634\u001b[0m\u001b[0;34m,\u001b[0m \u001b[0;34m**\u001b[0m\u001b[0mspecs\u001b[0m\u001b[0;34m)\u001b[0m\u001b[0;34m:\u001b[0m\u001b[0;34m\u001b[0m\u001b[0m\n",
      "\u001b[0;32m/Users/rpatel/Dropbox/Research/WFIRST/EXOSIMS/EXOSIMS/Prototypes/SimulatedUniverse.pyc\u001b[0m in \u001b[0;36m__init__\u001b[0;34m(self, fixedPlanPerStar, **specs)\u001b[0m\n\u001b[1;32m    102\u001b[0m         \u001b[0;31m# import TargetList class\u001b[0m\u001b[0;34m\u001b[0m\u001b[0;34m\u001b[0m\u001b[0m\n\u001b[1;32m    103\u001b[0m         self.TargetList = get_module(specs['modules']['TargetList'],\n\u001b[0;32m--> 104\u001b[0;31m                 'TargetList')(**specs)\n\u001b[0m\u001b[1;32m    105\u001b[0m \u001b[0;34m\u001b[0m\u001b[0m\n\u001b[1;32m    106\u001b[0m         \u001b[0;31m# bring inherited class objects to top level of Simulated Universe\u001b[0m\u001b[0;34m\u001b[0m\u001b[0;34m\u001b[0m\u001b[0m\n",
      "\u001b[0;32m/Users/rpatel/Dropbox/Research/WFIRST/EXOSIMS/EXOSIMS/Prototypes/TargetList.pyc\u001b[0m in \u001b[0;36m__init__\u001b[0;34m(self, missionStart, staticStars, keepStarCatalog, fillPhotometry, explainFiltering, **specs)\u001b[0m\n\u001b[1;32m    127\u001b[0m         \u001b[0;31m# generate any completeness update data needed\u001b[0m\u001b[0;34m\u001b[0m\u001b[0;34m\u001b[0m\u001b[0m\n\u001b[1;32m    128\u001b[0m         \u001b[0mself\u001b[0m\u001b[0;34m.\u001b[0m\u001b[0mCompleteness\u001b[0m\u001b[0;34m.\u001b[0m\u001b[0mgen_update\u001b[0m\u001b[0;34m(\u001b[0m\u001b[0mself\u001b[0m\u001b[0;34m)\u001b[0m\u001b[0;34m\u001b[0m\u001b[0m\n\u001b[0;32m--> 129\u001b[0;31m         \u001b[0mself\u001b[0m\u001b[0;34m.\u001b[0m\u001b[0mfilter_target_list\u001b[0m\u001b[0;34m(\u001b[0m\u001b[0;34m**\u001b[0m\u001b[0mspecs\u001b[0m\u001b[0;34m)\u001b[0m\u001b[0;34m\u001b[0m\u001b[0m\n\u001b[0m\u001b[1;32m    130\u001b[0m         \u001b[0;31m# have target list, no need for catalog now\u001b[0m\u001b[0;34m\u001b[0m\u001b[0;34m\u001b[0m\u001b[0m\n\u001b[1;32m    131\u001b[0m         \u001b[0;32mif\u001b[0m \u001b[0;32mnot\u001b[0m \u001b[0mkeepStarCatalog\u001b[0m\u001b[0;34m:\u001b[0m\u001b[0;34m\u001b[0m\u001b[0m\n",
      "\u001b[0;32m/Users/rpatel/Dropbox/Research/WFIRST/EXOSIMS/EXOSIMS/Prototypes/TargetList.pyc\u001b[0m in \u001b[0;36mfilter_target_list\u001b[0;34m(self, **specs)\u001b[0m\n\u001b[1;32m    354\u001b[0m \u001b[0;34m\u001b[0m\u001b[0m\n\u001b[1;32m    355\u001b[0m         \u001b[0;31m# filter out systems which do not reach the completeness threshold\u001b[0m\u001b[0;34m\u001b[0m\u001b[0;34m\u001b[0m\u001b[0m\n\u001b[0;32m--> 356\u001b[0;31m         \u001b[0mself\u001b[0m\u001b[0;34m.\u001b[0m\u001b[0mcompleteness_filter\u001b[0m\u001b[0;34m(\u001b[0m\u001b[0;34m)\u001b[0m\u001b[0;34m\u001b[0m\u001b[0m\n\u001b[0m\u001b[1;32m    357\u001b[0m         \u001b[0;32mif\u001b[0m \u001b[0mself\u001b[0m\u001b[0;34m.\u001b[0m\u001b[0mexplainFiltering\u001b[0m\u001b[0;34m:\u001b[0m\u001b[0;34m\u001b[0m\u001b[0m\n\u001b[1;32m    358\u001b[0m             \u001b[0;32mprint\u001b[0m\u001b[0;34m(\u001b[0m\u001b[0;34m\"%d targets remain after completeness filter.\"\u001b[0m\u001b[0;34m%\u001b[0m\u001b[0mself\u001b[0m\u001b[0;34m.\u001b[0m\u001b[0mnStars\u001b[0m\u001b[0;34m)\u001b[0m\u001b[0;34m\u001b[0m\u001b[0m\n",
      "\u001b[0;32m/Users/rpatel/Dropbox/Research/WFIRST/EXOSIMS/EXOSIMS/Prototypes/TargetList.pyc\u001b[0m in \u001b[0;36mcompleteness_filter\u001b[0;34m(self)\u001b[0m\n\u001b[1;32m    502\u001b[0m \u001b[0;34m\u001b[0m\u001b[0m\n\u001b[1;32m    503\u001b[0m         \u001b[0mi\u001b[0m \u001b[0;34m=\u001b[0m \u001b[0mnp\u001b[0m\u001b[0;34m.\u001b[0m\u001b[0mwhere\u001b[0m\u001b[0;34m(\u001b[0m\u001b[0mself\u001b[0m\u001b[0;34m.\u001b[0m\u001b[0mcomp0\u001b[0m \u001b[0;34m>=\u001b[0m \u001b[0mself\u001b[0m\u001b[0;34m.\u001b[0m\u001b[0mCompleteness\u001b[0m\u001b[0;34m.\u001b[0m\u001b[0mminComp\u001b[0m\u001b[0;34m)\u001b[0m\u001b[0;34m[\u001b[0m\u001b[0;36m0\u001b[0m\u001b[0;34m]\u001b[0m\u001b[0;34m\u001b[0m\u001b[0m\n\u001b[0;32m--> 504\u001b[0;31m         \u001b[0mself\u001b[0m\u001b[0;34m.\u001b[0m\u001b[0mrevise_lists\u001b[0m\u001b[0;34m(\u001b[0m\u001b[0mi\u001b[0m\u001b[0;34m)\u001b[0m\u001b[0;34m\u001b[0m\u001b[0m\n\u001b[0m\u001b[1;32m    505\u001b[0m \u001b[0;34m\u001b[0m\u001b[0m\n\u001b[1;32m    506\u001b[0m     \u001b[0;32mdef\u001b[0m \u001b[0mrevise_lists\u001b[0m\u001b[0;34m(\u001b[0m\u001b[0mself\u001b[0m\u001b[0;34m,\u001b[0m \u001b[0msInds\u001b[0m\u001b[0;34m)\u001b[0m\u001b[0;34m:\u001b[0m\u001b[0;34m\u001b[0m\u001b[0m\n",
      "\u001b[0;32m/Users/rpatel/Dropbox/Research/WFIRST/EXOSIMS/EXOSIMS/Prototypes/TargetList.pyc\u001b[0m in \u001b[0;36mrevise_lists\u001b[0;34m(self, sInds)\u001b[0m\n\u001b[1;32m    518\u001b[0m \u001b[0;34m\u001b[0m\u001b[0m\n\u001b[1;32m    519\u001b[0m         \u001b[0;32mif\u001b[0m \u001b[0mlen\u001b[0m\u001b[0;34m(\u001b[0m\u001b[0msInds\u001b[0m\u001b[0;34m)\u001b[0m \u001b[0;34m==\u001b[0m \u001b[0;36m0\u001b[0m\u001b[0;34m:\u001b[0m\u001b[0;34m\u001b[0m\u001b[0m\n\u001b[0;32m--> 520\u001b[0;31m             \u001b[0;32mraise\u001b[0m \u001b[0mIndexError\u001b[0m\u001b[0;34m(\u001b[0m\u001b[0;34m\"Target list filtered to empty.\"\u001b[0m\u001b[0;34m)\u001b[0m\u001b[0;34m\u001b[0m\u001b[0m\n\u001b[0m\u001b[1;32m    521\u001b[0m \u001b[0;34m\u001b[0m\u001b[0m\n\u001b[1;32m    522\u001b[0m         \u001b[0;32mfor\u001b[0m \u001b[0matt\u001b[0m \u001b[0;32min\u001b[0m \u001b[0mself\u001b[0m\u001b[0;34m.\u001b[0m\u001b[0mcatalog_atts\u001b[0m\u001b[0;34m:\u001b[0m\u001b[0;34m\u001b[0m\u001b[0m\n",
      "\u001b[0;31mIndexError\u001b[0m: Target list filtered to empty."
     ]
    }
   ],
   "source": [
    "sim = msim.MissionSim('scripts/template_rpateltest_KnownRV.json')"
   ]
  },
  {
   "cell_type": "code",
   "execution_count": 4,
   "metadata": {},
   "outputs": [
    {
     "ename": "NameError",
     "evalue": "name 'sim' is not defined",
     "output_type": "error",
     "traceback": [
      "\u001b[0;31m---------------------------------------------------------------------------\u001b[0m",
      "\u001b[0;31mNameError\u001b[0m                                 Traceback (most recent call last)",
      "\u001b[0;32m<ipython-input-4-c652d8114c6a>\u001b[0m in \u001b[0;36m<module>\u001b[0;34m()\u001b[0m\n\u001b[0;32m----> 1\u001b[0;31m \u001b[0mDRM\u001b[0m \u001b[0;34m=\u001b[0m \u001b[0msim\u001b[0m\u001b[0;34m.\u001b[0m\u001b[0mSurveySimulation\u001b[0m\u001b[0;34m.\u001b[0m\u001b[0mDRM\u001b[0m\u001b[0;34m\u001b[0m\u001b[0m\n\u001b[0m\u001b[1;32m      2\u001b[0m \u001b[0;34m\u001b[0m\u001b[0m\n\u001b[1;32m      3\u001b[0m \u001b[0mTL\u001b[0m \u001b[0;34m=\u001b[0m \u001b[0msim\u001b[0m\u001b[0;34m.\u001b[0m\u001b[0mTargetList\u001b[0m\u001b[0;34m\u001b[0m\u001b[0m\n\u001b[1;32m      4\u001b[0m \u001b[0mSC\u001b[0m \u001b[0;34m=\u001b[0m \u001b[0msim\u001b[0m\u001b[0;34m.\u001b[0m\u001b[0mStarCatalog\u001b[0m\u001b[0;34m\u001b[0m\u001b[0m\n\u001b[1;32m      5\u001b[0m \u001b[0mSU\u001b[0m \u001b[0;34m=\u001b[0m \u001b[0msim\u001b[0m\u001b[0;34m.\u001b[0m\u001b[0mSimulatedUniverse\u001b[0m\u001b[0;34m\u001b[0m\u001b[0m\n",
      "\u001b[0;31mNameError\u001b[0m: name 'sim' is not defined"
     ]
    }
   ],
   "source": [
    "DRM = sim.SurveySimulation.DRM\n",
    "\n",
    "TL = sim.TargetList\n",
    "SC = sim.StarCatalog\n",
    "SU = sim.SimulatedUniverse\n",
    "SSim = sim.SurveySimulation\n",
    "OS = sim.OpticalSystem\n",
    "ZL = sim.ZodiacalLight\n",
    "BS = sim.BackgroundSources\n",
    "CP = sim.Completeness\n",
    "PP = sim.PlanetPopulation\n",
    "PM = sim.PlanetPhysicalModel"
   ]
  },
  {
   "cell_type": "code",
   "execution_count": 79,
   "metadata": {},
   "outputs": [
    {
     "data": {
      "text/plain": [
       "{'FAP': 3e-07,\n",
       " 'FAdMag0': 15,\n",
       " 'IWA': 0.130625,\n",
       " 'Irange': array([  0., 180.]),\n",
       " 'MDP': 0.001,\n",
       " 'Mprange': array([1.000e+00, 4.131e+03]),\n",
       " 'OBduration': inf,\n",
       " 'OBendTimes': array([2191.5]),\n",
       " 'OBnumber': 0,\n",
       " 'OBstartTimes': array([0.]),\n",
       " 'OWA': inf,\n",
       " 'Orange': array([  0., 360.]),\n",
       " 'Revision': 'Not a valid Github or SVN revision.',\n",
       " 'Rprange': array([ 1. , 22.6]),\n",
       " 'WA0': 0.01,\n",
       " 'WAint': 0.2920353982300885,\n",
       " 'arange': array([  0.1, 100. ]),\n",
       " 'atts_mapping': {'BV': 'st_bmvj',\n",
       "  'Bmag': 'st_bj',\n",
       "  'Hmag': 'st_h',\n",
       "  'Imag': 'st_ic',\n",
       "  'Jmag': 'st_j',\n",
       "  'Kmag': 'st_k',\n",
       "  'L': 'st_lum',\n",
       "  'Name': 'pl_hostname',\n",
       "  'Rmag': 'st_rc',\n",
       "  'Spec': 'st_spstr',\n",
       "  'Umag': 'st_uj',\n",
       "  'Vmag': 'st_vj',\n",
       "  'dist': 'st_dist',\n",
       "  'parx': 'st_plx',\n",
       "  'pmdec': 'st_pmdec',\n",
       "  'pmra': 'st_pmra',\n",
       "  'rv': 'st_radv'},\n",
       " 'charMargin': 0.15,\n",
       " 'checkKeepoutEnd': True,\n",
       " 'coMass': 5800.0,\n",
       " 'constrainOrbits': False,\n",
       " 'currentTimeAbs': 60634.0,\n",
       " 'currentTimeNorm': 0.0,\n",
       " 'dMag0': 15.0,\n",
       " 'dMagLim': 21.5,\n",
       " 'dMagint': 19.0,\n",
       " 'defburnPortion': 0.05,\n",
       " 'dryMass': 3400.0,\n",
       " 'erange': array([0.01, 0.99]),\n",
       " 'esigma': 0.25,\n",
       " 'eta': 6.799577394537998,\n",
       " 'explainFiltering': False,\n",
       " 'extendedLife': 0.0,\n",
       " 'fEZ0': 1.584893192461111e-09,\n",
       " 'fZ0': 6.309573444801917e-10,\n",
       " 'fillPhotometry': False,\n",
       " 'fixedPlanPerStar': None,\n",
       " 'flowRate': 0.95304246059091,\n",
       " 'forceStaticEphem': False,\n",
       " 'haveOcculter': False,\n",
       " 'havejplephem': True,\n",
       " 'intCutoff': 100.0,\n",
       " 'keepStarCatalog': False,\n",
       " 'koAngleMax': 90.0,\n",
       " 'koAngleMin': 45.0,\n",
       " 'koAngleMinEarth': 45.0,\n",
       " 'koAngleMinMoon': 45.0,\n",
       " 'koAngleSmall': 1.0,\n",
       " 'magEZ': 22.0,\n",
       " 'magZ': 23.0,\n",
       " 'minComp': 0.2,\n",
       " 'missionFinishAbs': 62825.5,\n",
       " 'missionFinishNorm': 2191.5,\n",
       " 'missionLife': 6.0,\n",
       " 'missionPortion': 1.0,\n",
       " 'missionStart': 60634.0,\n",
       " 'modules': {'BackgroundSources': 'GalaxiesFaintStars',\n",
       "  'Completeness': 'GarrettCompleteness',\n",
       "  'Observatory': 'WFIRSTObservatoryL2',\n",
       "  'OpticalSystem': 'Nemati',\n",
       "  'PlanetPhysicalModel': 'Forecaster',\n",
       "  'PlanetPopulation': 'KnownRVPlanets',\n",
       "  'PostProcessing': 'PostProcessing',\n",
       "  'SimulatedUniverse': 'KnownRVPlanetsUniverse',\n",
       "  'StarCatalog': u'EXOCAT1',\n",
       "  'SurveyEnsemble': 'SurveyEnsemble',\n",
       "  'SurveySimulation': 'SurveySimulation',\n",
       "  'TargetList': 'KnownRVPlanetsTargetList',\n",
       "  'TimeKeeping': 'TimeKeeping',\n",
       "  'ZodiacalLight': 'Stark'},\n",
       " 'nStars': 46,\n",
       " 'nVisitsMax': 5,\n",
       " 'ntFlux': 1,\n",
       " 'obsEnd': 0.0,\n",
       " 'obsStart': 0.0,\n",
       " 'obscurFac': 0.1024,\n",
       " 'observingModes': [{u'BW': 0.2,\n",
       "   u'SNR': 5,\n",
       "   u'detectionMode': True,\n",
       "   u'instName': u'imager',\n",
       "   u'lam': 550,\n",
       "   u'systName': u'HLC-565'},\n",
       "  {u'SNR': 5, u'instName': u'spectro', u'lam': 550, u'systName': u'SPC-800'},\n",
       "  {u'SNR': 5, u'instName': u'spectro', u'lam': 600, u'systName': u'SPC-800'}],\n",
       " 'occulterSep': 55000.0,\n",
       " 'ppFact': 0.3,\n",
       " 'prange': array([0.083, 0.882]),\n",
       " 'pupilArea': 3.9597650425228452,\n",
       " 'pupilDiam': 2.37,\n",
       " 'ref_Time': 0.0,\n",
       " 'ref_dMag': 3.0,\n",
       " 'rrange': array([1.00e-03, 1.99e+02]),\n",
       " 'scMass': 6000.0,\n",
       " 'scaleOrbits': False,\n",
       " 'scienceInstruments': [{u'CIC': 0.0021,\n",
       "   u'ENF': 1.41,\n",
       "   u'FoV': 9.5,\n",
       "   'PCeff': 0.8,\n",
       "   u'QE': 0.72,\n",
       "   'Rs': 1.0,\n",
       "   'fnumber': 60.97706197560175,\n",
       "   'focal': 144.51563688217615,\n",
       "   u'idark': 3e-05,\n",
       "   'lenslSamp': 1.0,\n",
       "   u'name': u'imager',\n",
       "   'optics': 0.5,\n",
       "   u'pixelNumber': 1024,\n",
       "   'pixelScale': 0.0185546875,\n",
       "   u'pixelSize': 1.3e-05,\n",
       "   u'sread': 1.7e-06,\n",
       "   u'texp': 30.0},\n",
       "  {u'CIC': 0.0021,\n",
       "   u'ENF': 1.41,\n",
       "   u'FoV': 1.0,\n",
       "   'PCeff': 0.8,\n",
       "   u'QE': 0.72,\n",
       "   u'Rs': 50.0,\n",
       "   'fnumber': 575.4526999602537,\n",
       "   'focal': 1363.8228989058011,\n",
       "   u'idark': 3e-05,\n",
       "   'lenslSamp': 2.0,\n",
       "   u'name': u'spectro',\n",
       "   'optics': 0.5,\n",
       "   u'pixelNumber': 76,\n",
       "   'pixelScale': 0.02631578947368421,\n",
       "   u'pixelSize': 0.000174,\n",
       "   u'sread': 1.7e-06,\n",
       "   u'texp': 30.0}],\n",
       " 'seed': 853182493,\n",
       " 'settlingTime': 0.02,\n",
       " 'shapeFac': 0.7853981633974483,\n",
       " 'skIsp': 220.0,\n",
       " 'slewIsp': 4160.0,\n",
       " 'smaknee': 30.0,\n",
       " 'starlightSuppressionSystems': [{u'BW': 0.1,\n",
       "   u'IWA': 0.15,\n",
       "   'OWA': inf,\n",
       "   'PSF': array([[1., 1., 1.],\n",
       "          [1., 1., 1.],\n",
       "          [1., 1., 1.]]),\n",
       "   u'core_area': 0.005,\n",
       "   'core_contrast': 1e-10,\n",
       "   u'core_mean_intensity': 4e-12,\n",
       "   u'core_platescale': 0.3,\n",
       "   u'core_thruput': 0.02,\n",
       "   'deltaLam': 56.5,\n",
       "   u'lam': 565.0,\n",
       "   u'name': u'HLC-565',\n",
       "   u'occ_trans': 0.3,\n",
       "   'occulter': False,\n",
       "   'ohTime': 1.0,\n",
       "   'optics': 1.0},\n",
       "  {u'BW': 0.18, u'IWA': 0.19, 'OWA': inf, 'PSF': array([[1., 1., 1.],\n",
       "          [1., 1., 1.],\n",
       "          [1., 1., 1.]]), u'core_area': 0.005, 'core_contrast': 1e-10, u'core_mean_intensity': 4e-12, u'core_platescale': 0.3, u'core_thruput': 0.02, 'deltaLam': 144.0, u'lam': 800.0, u'name': u'SPC-800', u'occ_trans': 0.3, 'occulter': False, 'ohTime': 1.0, 'optics': 1.0}],\n",
       " 'staticStars': True,\n",
       " 'thrust': 450.0,\n",
       " 'varEZ': 0.0,\n",
       " 'waitMultiple': 2.0,\n",
       " 'waitTime': 1.0,\n",
       " 'wrange': array([  0., 360.])}"
      ]
     },
     "execution_count": 79,
     "metadata": {},
     "output_type": "execute_result"
    }
   ],
   "source": [
    "sim.genOutSpec()"
   ]
  },
  {
   "cell_type": "code",
   "execution_count": 60,
   "metadata": {},
   "outputs": [
    {
     "data": {
      "text/plain": [
       "0"
      ]
     },
     "execution_count": 60,
     "metadata": {},
     "output_type": "execute_result"
    }
   ],
   "source": [
    "len([DRM[x]['star_ind'] for x in range(len(DRM)) if 1 in DRM[x]['det_status']])"
   ]
  },
  {
   "cell_type": "code",
   "execution_count": 61,
   "metadata": {},
   "outputs": [
    {
     "data": {
      "text/plain": [
       "1.000000082740371e-10"
      ]
     },
     "execution_count": 61,
     "metadata": {},
     "output_type": "execute_result"
    }
   ],
   "source": [
    "sim.OpticalSystem.starlightSuppressionSystems[0]['core_contrast'](sim.OpticalSystem.starlightSuppressionSystems[0]['lam'],sim.OpticalSystem.starlightSuppressionSystems[0]['IWA'])"
   ]
  },
  {
   "cell_type": "code",
   "execution_count": 62,
   "metadata": {},
   "outputs": [
    {
     "data": {
      "text/latex": [
       "$[0,~0,~0,~0,~0,~0,~0,~0,~0,~0,~0,~0,~0,~0,~0,~0,~0,~0,~0,~0,~0,~0,~0,~0,~0,~0,~0,~0,~0,~0,~0,~0,~0,~0,~0,~0,~0,~0,~0,~0,~0,~0,~0,~0,~0,~0] \\; \\mathrm{d}$"
      ],
      "text/plain": [
       "<Quantity [0., 0., 0., 0., 0., 0., 0., 0., 0., 0., 0., 0., 0., 0., 0., 0.,\n",
       "           0., 0., 0., 0., 0., 0., 0., 0., 0., 0., 0., 0., 0., 0., 0., 0.,\n",
       "           0., 0., 0., 0., 0., 0., 0., 0., 0., 0., 0., 0., 0., 0.] d>"
      ]
     },
     "execution_count": 62,
     "metadata": {},
     "output_type": "execute_result"
    }
   ],
   "source": [
    "TL.tint0"
   ]
  },
  {
   "cell_type": "code",
   "execution_count": 67,
   "metadata": {},
   "outputs": [
    {
     "data": {
      "text/plain": [
       "(<Quantity 0.01 arcsec>, <Quantity 0.130625 arcsec>, <Quantity inf arcsec>)"
      ]
     },
     "execution_count": 67,
     "metadata": {},
     "output_type": "execute_result"
    }
   ],
   "source": [
    "OS.WA0, OS.IWA, OS.OWA"
   ]
  },
  {
   "cell_type": "code",
   "execution_count": 64,
   "metadata": {},
   "outputs": [
    {
     "data": {
      "text/plain": [
       "(array([ 0,  1,  2,  3,  4,  5,  7,  9, 10, 11, 12, 13, 14, 16, 17, 18, 19,\n",
       "        20, 21, 22, 23, 24, 25, 26, 28, 29, 30, 31, 32, 33, 34, 35, 36, 38,\n",
       "        39, 40, 41, 42, 43, 45, 46, 48, 49, 50, 52, 53, 56, 57, 58, 59, 60,\n",
       "        61, 62, 63, 65, 66, 67, 68, 69, 70, 71, 72, 73, 74, 75, 76, 78, 79]),)"
      ]
     },
     "execution_count": 64,
     "metadata": {},
     "output_type": "execute_result"
    }
   ],
   "source": [
    "np.where(SU.WA > OS.WA0)"
   ]
  },
  {
   "cell_type": "code",
   "execution_count": 70,
   "metadata": {},
   "outputs": [
    {
     "data": {
      "text/plain": [
       "array([25.41384032, 19.20772911, 21.54544521, 18.90849739, 25.31967693,\n",
       "       28.12198213, 16.20869723, 16.8859883 , 17.69310639, 19.33203234,\n",
       "       24.00205755, 21.53239722, 17.94447849, 19.2438319 , 20.01407096,\n",
       "       15.38938101, 21.49585041, 19.30176566, 18.5686514 , 19.03263667,\n",
       "       21.52511101, 18.38027462, 18.9010079 , 22.4123023 , 23.15288718,\n",
       "       22.78576892, 17.72043366, 19.9516401 , 18.71840689, 18.74771674,\n",
       "       21.21732718, 17.14566504, 24.83375681, 32.16767299, 21.86069452,\n",
       "       21.67622361, 20.53025785, 17.04401232, 18.37826663, 23.71915343,\n",
       "       19.21330607, 18.68038858, 21.10517254, 22.73278175, 17.48778409,\n",
       "       18.49757562, 21.05820748, 19.12366525, 23.85978281, 20.20489589,\n",
       "       19.91531949, 13.38100569, 23.2082393 , 23.6004179 , 17.85202776,\n",
       "       19.16681984, 17.79740399, 19.77826974, 19.5601663 , 20.94949077,\n",
       "       24.08213878, 17.97808655, 19.80072243, 18.62842038, 35.41953995,\n",
       "       19.51951076, 22.30944171, 20.1354713 , 19.50257008, 25.85783489,\n",
       "       25.51101753, 23.93217885, 19.38291007, 28.10868888, 18.49497919,\n",
       "       21.69310871, 18.66217054, 12.35904277, 17.76731508, 23.50341624])"
      ]
     },
     "execution_count": 70,
     "metadata": {},
     "output_type": "execute_result"
    }
   ],
   "source": [
    "SU.dMag"
   ]
  },
  {
   "cell_type": "code",
   "execution_count": 51,
   "metadata": {},
   "outputs": [
    {
     "data": {
      "text/plain": [
       "array([1.00000000e-10, 1.00000000e-10, 1.00000000e-10, 5.82103218e-01,\n",
       "       1.59955803e-02, 1.00000000e-10, 1.00000000e-10, 1.00000000e-10,\n",
       "       2.60015956e-02, 1.00000000e-10, 1.40928880e+00, 1.23026877e+00,\n",
       "       1.00000000e-10, 1.00000000e-10, 1.00000000e-10, 6.30957344e+01,\n",
       "       1.00000000e-10, 1.00000000e-10, 1.00000000e-10, 1.00000000e-10,\n",
       "       1.00000000e-10, 3.09741930e-01, 3.31131121e+01, 4.59198013e+00,\n",
       "       3.08318795e-01, 1.12979591e+00, 3.84591782e-01, 3.73250158e+00,\n",
       "       1.00000000e-10, 2.66072506e+00, 3.09741930e-01, 1.00000000e-10,\n",
       "       1.00000000e-10, 1.00000000e-10, 3.89045145e+01, 1.00000000e-10,\n",
       "       1.00000000e-10, 1.00000000e-10, 8.59013522e-01, 1.09900584e-01,\n",
       "       1.00000000e-10, 1.00000000e-10, 1.00000000e-10, 1.23026877e+02,\n",
       "       1.00000000e-10, 1.00000000e-10])"
      ]
     },
     "execution_count": 51,
     "metadata": {},
     "output_type": "execute_result"
    }
   ],
   "source": [
    "np.where(TL.L>0,TL.L, 1e-10)"
   ]
  },
  {
   "cell_type": "code",
   "execution_count": 69,
   "metadata": {},
   "outputs": [
    {
     "data": {
      "text/plain": [
       "19.0"
      ]
     },
     "execution_count": 69,
     "metadata": {},
     "output_type": "execute_result"
    }
   ],
   "source": [
    "CP.dMagLim"
   ]
  },
  {
   "cell_type": "code",
   "execution_count": null,
   "metadata": {},
   "outputs": [],
   "source": []
  }
 ],
 "metadata": {
  "kernelspec": {
   "display_name": "Python 2",
   "language": "python",
   "name": "python2"
  },
  "language_info": {
   "codemirror_mode": {
    "name": "ipython",
    "version": 2
   },
   "file_extension": ".py",
   "mimetype": "text/x-python",
   "name": "python",
   "nbconvert_exporter": "python",
   "pygments_lexer": "ipython2",
   "version": "2.7.10"
  }
 },
 "nbformat": 4,
 "nbformat_minor": 2
}
