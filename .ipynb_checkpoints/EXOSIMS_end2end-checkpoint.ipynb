{
 "cells": [
  {
   "cell_type": "code",
   "execution_count": 3,
   "metadata": {
    "collapsed": false,
    "deletable": true,
    "editable": true
   },
   "outputs": [
    {
     "name": "stdout",
     "output_type": "stream",
     "text": [
      "Using matplotlib backend: TkAgg\n",
      "The autoreload extension is already loaded. To reload it, use:\n",
      "  %reload_ext autoreload\n"
     ]
    }
   ],
   "source": [
    "import EXOSIMS as EX, os.path\n",
    "import EXOSIMS.MissionSim as msim\n",
    "import numpy as np\n",
    "import sys, pdb\n",
    "import matplotlib.pyplot as plt\n",
    "import astropy.units as u\n",
    "import pickle, json, warnings, astropy\n",
    "%matplotlib\n",
    "%load_ext autoreload\n",
    "%autoreload 2"
   ]
  },
  {
   "cell_type": "markdown",
   "metadata": {
    "deletable": true,
    "editable": true
   },
   "source": [
    "###  Use script files saved in EXOSIMS path"
   ]
  },
  {
   "cell_type": "code",
   "execution_count": 2,
   "metadata": {
    "collapsed": false,
    "deletable": true,
    "editable": true
   },
   "outputs": [
    {
     "name": "stdout",
     "output_type": "stream",
     "text": [
      "/Users/rpatel/Dropbox (Personal)/Research/WFIRST/EXOSIMSTesting/scripts/template_WFIRST_KeplerLike.json\n"
     ]
    }
   ],
   "source": [
    "# LOAD JSON SCRIPT FILE\n",
    "jfile = 'sampleScript_rpatel2_ludacris.json'\n",
    "#jfile = 'template_WFIRST_KnownRV.json'\n",
    "#jfile = 'template_WFIRST_KeplerLike.json'\n",
    "scriptfile = os.path.join(os.path.abspath(''),'scripts',jfile)\n",
    "print scriptfile"
   ]
  },
  {
   "cell_type": "code",
   "execution_count": 3,
   "metadata": {
    "collapsed": false,
    "deletable": true,
    "editable": true
   },
   "outputs": [
    {
     "data": {
      "text/plain": [
       "{u'attenuation': 0.441,\n",
       " u'dMagLim': 19,\n",
       " u'minComp': 0,\n",
       " u'missionLife': 1,\n",
       " u'missionPortion': 0.167,\n",
       " u'modules': {u'BackgroundSources': u'GalaxiesFaintStars',\n",
       "  u'Completeness': u'GarrettCompleteness',\n",
       "  u'Observatory': u'WFIRSTObservatoryL2',\n",
       "  u'OpticalSystem': u'Nemati',\n",
       "  u'PlanetPhysicalModel': u'FortneyMarleyCahoyMix1',\n",
       "  u'PlanetPopulation': u'KeplerLike1',\n",
       "  u'PostProcessing': u'PostProcessing',\n",
       "  u'SimulatedUniverse': u'KeplerLikeUniverse',\n",
       "  u'StarCatalog': u'EXOCAT1',\n",
       "  u'SurveyEnsemble': u'SurveyEnsemble',\n",
       "  u'SurveySimulation': u'SurveySimulation',\n",
       "  u'TargetList': u'TargetList',\n",
       "  u'TimeKeeping': u'TimeKeeping',\n",
       "  u'ZodiacalLight': u'Stark'},\n",
       " u'obscurFac': 0.14728,\n",
       " u'ppFact': 0.1,\n",
       " u'pupilDiam': 2.37,\n",
       " u'scienceInstruments': [{u'CIC': 0.0013,\n",
       "   u'ENF': 1.414,\n",
       "   u'QE': 0.88,\n",
       "   u'detection': True,\n",
       "   u'name': u'imaging-EMCCD',\n",
       "   u'sread': 0},\n",
       "  {u'CIC': 0.0013,\n",
       "   u'QE': 0.88,\n",
       "   u'Rs': 70,\n",
       "   u'name': u'spectro-CCD',\n",
       "   u'sread': 3}],\n",
       " u'starlightSuppressionSystems': [{u'BW': 0.1,\n",
       "   u'core_area': 0.005,\n",
       "   u'core_mean_intensity': 2e-12,\n",
       "   u'core_thruput': 0.02,\n",
       "   u'lam': 565,\n",
       "   u'name': u'HLC-565',\n",
       "   u'occ_trans': 0.2},\n",
       "  {u'BW': 0.18,\n",
       "   u'core_area': 0.005,\n",
       "   u'core_mean_intensity': 4e-12,\n",
       "   u'core_thruput': 0.04,\n",
       "   u'lam': 660,\n",
       "   u'name': u'SPC-660',\n",
       "   u'occ_trans': 0.3}]}"
      ]
     },
     "execution_count": 3,
     "metadata": {},
     "output_type": "execute_result"
    }
   ],
   "source": [
    "script = open(scriptfile).read()\n",
    "specs_from_file = json.loads(script)\n",
    "specs_from_file"
   ]
  },
  {
   "cell_type": "code",
   "execution_count": 6,
   "metadata": {
    "collapsed": false,
    "deletable": true,
    "editable": true,
    "scrolled": false
   },
   "outputs": [
    {
     "name": "stdout",
     "output_type": "stream",
     "text": [
      "MissionSim: Seed is:  45819661\n",
      "Imported SurveyEnsemble (prototype module) from EXOSIMS.Prototypes.SurveyEnsemble\n",
      "Imported KeplerLikeUniverse (specific module) from EXOSIMS.SimulatedUniverse.KeplerLikeUniverse\n",
      "Imported TargetList (prototype module) from EXOSIMS.Prototypes.TargetList\n",
      "Imported EXOCAT1 (specific module) from EXOSIMS.StarCatalog.EXOCAT1\n",
      "Imported Nemati (specific module) from EXOSIMS.OpticalSystem.Nemati\n",
      "Imported Stark (specific module) from EXOSIMS.ZodiacalLight.Stark\n",
      "Imported PostProcessing (prototype module) from EXOSIMS.Prototypes.PostProcessing\n",
      "Imported GalaxiesFaintStars (specific module) from EXOSIMS.BackgroundSources.GalaxiesFaintStars\n",
      "Imported GarrettCompleteness (specific module) from EXOSIMS.Completeness.GarrettCompleteness\n",
      "Imported KeplerLike1 (specific module) from EXOSIMS.PlanetPopulation.KeplerLike1\n",
      "Imported FortneyMarleyCahoyMix1 (specific module) from EXOSIMS.PlanetP[...]el.FortneyMarleyCahoyMix1\n",
      "Loading cached completeness file from /Users/rpatel/Dropbox/Research/WFIRST/EXOSIMS/EXOSIMS/Completeness/KeplerLike1502bd4d297ea44186368c735f9d82ae7.acomp\n",
      "Completeness loaded from cache.\n",
      "Beginning completeness update calculations\n",
      "stars: 50 / 1510\n",
      "stars: 100 / 1510\n",
      "stars: 150 / 1510\n",
      "stars: 200 / 1510\n",
      "stars: 250 / 1510\n",
      "stars: 300 / 1510\n",
      "stars: 350 / 1510\n",
      "stars: 400 / 1510\n",
      "stars: 450 / 1510\n",
      "stars: 500 / 1510\n",
      "stars: 550 / 1510\n",
      "stars: 600 / 1510\n",
      "stars: 650 / 1510\n",
      "stars: 700 / 1510\n",
      "stars: 750 / 1510\n",
      "stars: 800 / 1510\n",
      "stars: 850 / 1510\n",
      "stars: 900 / 1510\n",
      "stars: 950 / 1510\n",
      "stars: 1000 / 1510\n",
      "stars: 1050 / 1510\n",
      "stars: 1100 / 1510\n",
      "stars: 1150 / 1510\n",
      "stars: 1200 / 1510\n",
      "stars: 1250 / 1510\n",
      "stars: 1300 / 1510\n",
      "stars: 1350 / 1510\n",
      "stars: 1400 / 1510\n",
      "stars: 1450 / 1510\n",
      "stars: 1500 / 1510\n",
      "Completeness update calculations finished\n",
      "Imported WFIRSTObservatoryL2 (specific module) from EXOSIMS.Observatory.WFIRSTObservatoryL2\n",
      "Imported TimeKeeping (prototype module) from EXOSIMS.Prototypes.TimeKeeping\n",
      "Imported SurveySimulation (prototype module) from EXOSIMS.Prototypes.SurveySimulation\n",
      "CPU times: user 4min 19s, sys: 1.41 s, total: 4min 20s\n",
      "Wall time: 4min 20s\n"
     ]
    }
   ],
   "source": [
    "# QUESTION -- DO I HAVE TO RUN THIS EACH TIME OR IS THERE A WAY TO SAVE/LOAD THE OUTPUT?\n",
    "%time sim = msim.MissionSim(scriptfile)"
   ]
  },
  {
   "cell_type": "code",
   "execution_count": 7,
   "metadata": {
    "collapsed": false,
    "deletable": true,
    "editable": true,
    "scrolled": false
   },
   "outputs": [
    {
     "name": "stderr",
     "output_type": "stream",
     "text": [
      "WARNING: ErfaWarning: ERFA function \"utctai\" yielded 1 of \"dubious year (Note 3)\" [astropy._erfa.core]\n",
      "WARNING:astropy:ErfaWarning: ERFA function \"utctai\" yielded 1 of \"dubious year (Note 3)\"\n"
     ]
    },
    {
     "name": "stdout",
     "output_type": "stream",
     "text": [
      "Current mission time:  2.0 d\n",
      "Current mission time:  4.38157112089 d\n",
      "Current mission time:  10.5909963571 d\n",
      "Current mission time:  38.5692660202 d\n",
      "Current mission time:  44.5361011122 d\n",
      "Current mission time:  46.5367644319 d\n",
      "Current mission time:  327.63244588 d\n",
      "Current mission time:  329.678254268 d\n",
      "Detected planet(s) [4134] of target 193\n",
      "Characterized planet(s) [4134] of target 193\n",
      "Current mission time:  341.427436895 d\n",
      "Detected planet(s) [1737] of target 1323\n",
      "Characterized planet(s) [1737] of target 1323\n",
      "Simulation finishing OK. Results stored in SurveySimulation.DRM\n"
     ]
    },
    {
     "data": {
      "text/plain": [
       "'Simulation finishing OK. Results stored in SurveySimulation.DRM'"
      ]
     },
     "execution_count": 7,
     "metadata": {},
     "output_type": "execute_result"
    }
   ],
   "source": [
    "sim.SurveySimulation.run_sim()"
   ]
  },
  {
   "cell_type": "code",
   "execution_count": 8,
   "metadata": {
    "collapsed": true,
    "deletable": true,
    "editable": true
   },
   "outputs": [
    {
     "data": {
      "text/plain": [
       "[{'arrival_time': 2.0,\n",
       "  'char_SNR': [0.0],\n",
       "  'char_WA': [137.86223545405346],\n",
       "  'char_dMag': [20.36819855910001],\n",
       "  'char_fEZ': [1.0240243107371212e-10],\n",
       "  'char_mode': {'BW': 0.1,\n",
       "   'IWA': <Quantity 0.0 arcsec>,\n",
       "   'OWA': <Quantity inf arcsec>,\n",
       "   'SNR': 5.0,\n",
       "   'deltaLam': <Quantity 56.5 nm>,\n",
       "   'detectionMode': True,\n",
       "   'instName': u'imaging-EMCCD',\n",
       "   'lam': <Quantity 565.0 nm>,\n",
       "   'systName': u'HLC-565',\n",
       "   'timeMultiplier': 1.0},\n",
       "  'char_status': [0],\n",
       "  'char_time': 0.0,\n",
       "  'det_SNR': [1.4950158651648686],\n",
       "  'det_WA': [137.82702060703687],\n",
       "  'det_dMag': [20.36804881082386],\n",
       "  'det_fEZ': [1.0225397033115478e-10],\n",
       "  'det_status': [0],\n",
       "  'det_time': 0.38157112089298384,\n",
       "  'plan_inds': [4515],\n",
       "  'star_ind': 464},\n",
       " {'arrival_time': 4.381571120892984,\n",
       "  'char_SNR': [0.0, 0.0],\n",
       "  'char_WA': [4507.069005845929, 84.94055099405406],\n",
       "  'char_dMag': [30.46265507313295, 20.878133949684408],\n",
       "  'char_fEZ': [1.3439134441258173e-14, 1.704762077424855e-10],\n",
       "  'char_mode': {'BW': 0.1,\n",
       "   'IWA': <Quantity 0.0 arcsec>,\n",
       "   'OWA': <Quantity inf arcsec>,\n",
       "   'SNR': 5.0,\n",
       "   'deltaLam': <Quantity 56.5 nm>,\n",
       "   'detectionMode': True,\n",
       "   'instName': u'imaging-EMCCD',\n",
       "   'lam': <Quantity 565.0 nm>,\n",
       "   'systName': u'HLC-565',\n",
       "   'timeMultiplier': 1.0},\n",
       "  'char_status': [0, 0],\n",
       "  'char_time': 0.0,\n",
       "  'det_SNR': [0.00013400532676670945, 0.9100634263302277],\n",
       "  'det_WA': [4505.758889312889, 99.7039308989247],\n",
       "  'det_dMag': [30.462386424500778, 21.267528237301157],\n",
       "  'det_fEZ': [1.3441518177298027e-14, 1.2987785747915954e-10],\n",
       "  'det_status': [0, 0],\n",
       "  'det_time': 4.209425236169346,\n",
       "  'plan_inds': [2352, 3361],\n",
       "  'star_ind': 1341},\n",
       " {'arrival_time': 10.590996357062329,\n",
       "  'char_SNR': [0.0],\n",
       "  'char_WA': [85.89176795776747],\n",
       "  'char_dMag': [24.762231085105757],\n",
       "  'char_fEZ': [2.5367949718394953e-11],\n",
       "  'char_mode': {'BW': 0.1,\n",
       "   'IWA': <Quantity 0.0 arcsec>,\n",
       "   'OWA': <Quantity inf arcsec>,\n",
       "   'SNR': 5.0,\n",
       "   'deltaLam': <Quantity 56.5 nm>,\n",
       "   'detectionMode': True,\n",
       "   'instName': u'imaging-EMCCD',\n",
       "   'lam': <Quantity 565.0 nm>,\n",
       "   'systName': u'HLC-565',\n",
       "   'timeMultiplier': 1.0},\n",
       "  'char_status': [0],\n",
       "  'char_time': 0.0,\n",
       "  'det_SNR': [0.025604578493078546],\n",
       "  'det_WA': [89.30815979464913],\n",
       "  'det_dMag': [24.800296603508766],\n",
       "  'det_fEZ': [2.549734080818666e-11],\n",
       "  'det_status': [0],\n",
       "  'det_time': 25.978269663170504,\n",
       "  'plan_inds': [814],\n",
       "  'star_ind': 502},\n",
       " {'arrival_time': 38.56926602023283,\n",
       "  'char_SNR': [0.0, 0.0, 0.0],\n",
       "  'char_WA': [388.03417290918054, 361.3044656726688, 20.438594027750536],\n",
       "  'char_dMag': [27.552982877510974, 26.817024310592878, 19.798245287165518],\n",
       "  'char_fEZ': [2.3910297234883993e-12,\n",
       "   4.740657405651047e-12,\n",
       "   1.0714814041232428e-09],\n",
       "  'char_mode': {'BW': 0.1,\n",
       "   'IWA': <Quantity 0.0 arcsec>,\n",
       "   'OWA': <Quantity inf arcsec>,\n",
       "   'SNR': 5.0,\n",
       "   'deltaLam': <Quantity 56.5 nm>,\n",
       "   'detectionMode': True,\n",
       "   'instName': u'imaging-EMCCD',\n",
       "   'lam': <Quantity 565.0 nm>,\n",
       "   'systName': u'HLC-565',\n",
       "   'timeMultiplier': 1.0},\n",
       "  'char_status': [0, 0, 0],\n",
       "  'char_time': 0.0,\n",
       "  'det_SNR': [0.001980159967251421, 0.0038999049178467813, 2.4293575147861586],\n",
       "  'det_WA': [387.20974885800047, 363.30167728880866, 23.28845984377862],\n",
       "  'det_dMag': [27.55432250810331, 26.822317729122815, 20.05001398852783],\n",
       "  'det_fEZ': [2.384267378627266e-12,\n",
       "   4.809665929998304e-12,\n",
       "   8.646462669761539e-10],\n",
       "  'det_status': [0, 0, 0],\n",
       "  'det_time': 3.966835091972191,\n",
       "  'plan_inds': [1347, 2082, 4034],\n",
       "  'star_ind': 227},\n",
       " {'arrival_time': 44.53610111220502,\n",
       "  'char_SNR': [0.0, 0.0, 0.0, 0.0],\n",
       "  'char_WA': [1203.3698586194691,\n",
       "   219.61039767829283,\n",
       "   876.051106583466,\n",
       "   1151.1776968517113],\n",
       "  'char_dMag': [28.56576447250196,\n",
       "   23.87989266233552,\n",
       "   27.42776229491301,\n",
       "   28.006039753582066],\n",
       "  'char_fEZ': [2.7439448808501138e-11,\n",
       "   2.5071094170211927e-09,\n",
       "   8.824972255056396e-11,\n",
       "   5.920117338414451e-11],\n",
       "  'char_mode': {'BW': 0.1,\n",
       "   'IWA': <Quantity 0.0 arcsec>,\n",
       "   'OWA': <Quantity inf arcsec>,\n",
       "   'SNR': 5.0,\n",
       "   'deltaLam': <Quantity 56.5 nm>,\n",
       "   'detectionMode': True,\n",
       "   'instName': u'imaging-EMCCD',\n",
       "   'lam': <Quantity 565.0 nm>,\n",
       "   'systName': u'HLC-565',\n",
       "   'timeMultiplier': 1.0},\n",
       "  'char_status': [0, 0, 0, 0],\n",
       "  'char_time': 0.0,\n",
       "  'det_SNR': [0.0007633635992448588,\n",
       "   0.055073219758357786,\n",
       "   0.0021753133396545323,\n",
       "   0.0012776350946905066],\n",
       "  'det_WA': [1214.1449128027723,\n",
       "   216.45066444063724,\n",
       "   881.31256935843,\n",
       "   1147.330380580609],\n",
       "  'det_dMag': [28.569404040670697,\n",
       "   23.754817090955015,\n",
       "   27.432481471228197,\n",
       "   27.999416259828447],\n",
       "  'det_fEZ': [2.7491590861000128e-11,\n",
       "   2.363098454320751e-09,\n",
       "   8.926582548128645e-11,\n",
       "   5.910137889886045e-11],\n",
       "  'det_status': [0, 0, 0, 0],\n",
       "  'det_time': 0.000663319723241803,\n",
       "  'plan_inds': [2006, 2321, 2392, 3516],\n",
       "  'star_ind': 739},\n",
       " {'arrival_time': 46.53676443192826,\n",
       "  'char_SNR': [0.0],\n",
       "  'char_WA': [18.52112340838152],\n",
       "  'char_dMag': [21.438720250321296],\n",
       "  'char_fEZ': [1.083524211768708e-10],\n",
       "  'char_mode': {'BW': 0.1,\n",
       "   'IWA': <Quantity 0.0 arcsec>,\n",
       "   'OWA': <Quantity inf arcsec>,\n",
       "   'SNR': 5.0,\n",
       "   'deltaLam': <Quantity 56.5 nm>,\n",
       "   'detectionMode': True,\n",
       "   'instName': u'imaging-EMCCD',\n",
       "   'lam': <Quantity 565.0 nm>,\n",
       "   'systName': u'HLC-565',\n",
       "   'timeMultiplier': 1.0},\n",
       "  'char_status': [0],\n",
       "  'char_time': 0.0,\n",
       "  'det_SNR': [0.566334768169039],\n",
       "  'det_WA': [57.15764029778852],\n",
       "  'det_dMag': [22.32887926758925],\n",
       "  'det_fEZ': [7.746263801567398e-11],\n",
       "  'det_status': [0],\n",
       "  'det_time': 26.231248275329264,\n",
       "  'plan_inds': [2556],\n",
       "  'star_ind': 1054},\n",
       " {'arrival_time': 327.6324458801196,\n",
       "  'char_SNR': [],\n",
       "  'char_mode': {'BW': 0.1,\n",
       "   'IWA': <Quantity 0.0 arcsec>,\n",
       "   'OWA': <Quantity inf arcsec>,\n",
       "   'SNR': 5.0,\n",
       "   'deltaLam': <Quantity 56.5 nm>,\n",
       "   'detectionMode': True,\n",
       "   'instName': u'imaging-EMCCD',\n",
       "   'lam': <Quantity 565.0 nm>,\n",
       "   'systName': u'HLC-565',\n",
       "   'timeMultiplier': 1.0},\n",
       "  'char_status': [],\n",
       "  'char_time': 0.0,\n",
       "  'det_SNR': [],\n",
       "  'det_status': [],\n",
       "  'det_time': 0.04580838801828448,\n",
       "  'plan_inds': [],\n",
       "  'star_ind': 1144},\n",
       " {'arrival_time': 329.67825426813783,\n",
       "  'char_SNR': [0.0, 0.0, 0.0, 0.0, 0.0, 12.16404878256706],\n",
       "  'char_WA': [16.18741481418288,\n",
       "   251.5273298458028,\n",
       "   110.88662563259481,\n",
       "   195.31927761093363,\n",
       "   169.18486988293787,\n",
       "   18.12752817059744],\n",
       "  'char_dMag': [21.129902029689447,\n",
       "   27.427884374590587,\n",
       "   22.33240866575413,\n",
       "   22.4914797626086,\n",
       "   23.210740845385565,\n",
       "   17.78923052784269],\n",
       "  'char_fEZ': [2.31329423157711e-09,\n",
       "   2.82944867740553e-12,\n",
       "   4.0113480442792396e-11,\n",
       "   1.5730570545325494e-11,\n",
       "   6.9793773071961754e-12,\n",
       "   1.349385195122184e-09],\n",
       "  'char_mode': {'BW': 0.1,\n",
       "   'IWA': <Quantity 0.0 arcsec>,\n",
       "   'OWA': <Quantity inf arcsec>,\n",
       "   'SNR': 5.0,\n",
       "   'deltaLam': <Quantity 56.5 nm>,\n",
       "   'detectionMode': True,\n",
       "   'instName': u'imaging-EMCCD',\n",
       "   'lam': <Quantity 565.0 nm>,\n",
       "   'systName': u'HLC-565',\n",
       "   'timeMultiplier': 1.0},\n",
       "  'char_status': [0, 0, 0, 0, 0, 1],\n",
       "  'char_time': 0.9648597210754997,\n",
       "  'det_SNR': [0.6850837222244411,\n",
       "   0.0021924977562734023,\n",
       "   0.23917364990173212,\n",
       "   0.2067078303884714,\n",
       "   0.10659828420014009,\n",
       "   15.20043977342976],\n",
       "  'det_WA': [62.824068265974475,\n",
       "   302.1421410453505,\n",
       "   85.94100369155514,\n",
       "   48.59151223266389,\n",
       "   285.5977951491007,\n",
       "   16.62901228330414],\n",
       "  'det_dMag': [24.298335501150262,\n",
       "   27.385812932441137,\n",
       "   22.62938595845831,\n",
       "   20.154550081316142,\n",
       "   23.789128050801093,\n",
       "   19.8237205110884],\n",
       "  'det_fEZ': [2.0682604404970918e-10,\n",
       "   3.3452102094407337e-12,\n",
       "   1.9922938783479744e-11,\n",
       "   6.118808254673251e-11,\n",
       "   6.095927149219084e-12,\n",
       "   1.322107614493773e-10],\n",
       "  'det_status': [0, 0, 0, 0, 0, 1],\n",
       "  'det_time': 8.784322905357781,\n",
       "  'plan_inds': [114, 354, 2750, 3639, 4120, 4134],\n",
       "  'star_ind': 193},\n",
       " {'arrival_time': 341.4274368945711,\n",
       "  'char_SNR': [3.4220075049071426, 0.0],\n",
       "  'char_WA': [5.75766213070738, 265.79807443629403],\n",
       "  'char_dMag': [18.852093653507975, 24.8680732204973],\n",
       "  'char_fEZ': [6.716761128957124e-09, 1.0234947319342957e-11],\n",
       "  'char_mode': {'BW': 0.1,\n",
       "   'IWA': <Quantity 0.0 arcsec>,\n",
       "   'OWA': <Quantity inf arcsec>,\n",
       "   'SNR': 5.0,\n",
       "   'deltaLam': <Quantity 56.5 nm>,\n",
       "   'detectionMode': True,\n",
       "   'instName': u'imaging-EMCCD',\n",
       "   'lam': <Quantity 565.0 nm>,\n",
       "   'systName': u'HLC-565',\n",
       "   'timeMultiplier': 1.0},\n",
       "  'char_status': [0, 0],\n",
       "  'char_time': 9.354377859187792,\n",
       "  'det_SNR': [5.1376373690402595, 0.022720544394587826],\n",
       "  'det_WA': [6.208497111284538, 353.7201809081967],\n",
       "  'det_dMag': [18.599444553814074, 25.70260249442184],\n",
       "  'det_fEZ': [1.1402253133575228e-08, 6.159099678269102e-12],\n",
       "  'det_status': [1, 0],\n",
       "  'det_time': 11.151732188427603,\n",
       "  'plan_inds': [1737, 2710],\n",
       "  'star_ind': 1323}]"
      ]
     },
     "execution_count": 8,
     "metadata": {},
     "output_type": "execute_result"
    }
   ],
   "source": [
    "# Stored detection information -- if any -- in DRM Dictionary \n",
    "sim.SurveySimulation.DRM"
   ]
  },
  {
   "cell_type": "code",
   "execution_count": 19,
   "metadata": {
    "collapsed": true,
    "deletable": true,
    "editable": true
   },
   "outputs": [],
   "source": [
    "nStars = sim.TargetList.nStars\n",
    "OS = sim.OpticalSystem"
   ]
  },
  {
   "cell_type": "code",
   "execution_count": 20,
   "metadata": {
    "collapsed": true,
    "deletable": true,
    "editable": true
   },
   "outputs": [],
   "source": [
    "TL = sim.TargetList\n",
    "sInds = range(TL.nStars)\n",
    "fZ = 0./u.arcsec**2\n",
    "fEZ = 0./u.arcsec**2\n",
    "dMag = OS.dMagLim\n",
    "WA =  np.ones(TL.nStars)*2.*OS.IWA\n",
    "mode = filter(lambda mode: mode['detectionMode'] == True, OS.observingModes)[0]"
   ]
  },
  {
   "cell_type": "code",
   "execution_count": 22,
   "metadata": {
    "collapsed": false,
    "deletable": true,
    "editable": true
   },
   "outputs": [],
   "source": [
    "C_p, C_b, C_sp = OS.Cp_Cb_Csp(TL, sInds, fZ, fEZ, dMag, WA, mode)"
   ]
  },
  {
   "cell_type": "code",
   "execution_count": 23,
   "metadata": {
    "collapsed": false,
    "deletable": true,
    "editable": true
   },
   "outputs": [
    {
     "name": "stdout",
     "output_type": "stream",
     "text": [
      "0.942991437435 1 / s 0.188202659093 1 / s 0.0176476742436 1 / s\n"
     ]
    }
   ],
   "source": [
    "print C_p.max(), C_b.max(), C_sp.max()"
   ]
  },
  {
   "cell_type": "code",
   "execution_count": 26,
   "metadata": {
    "collapsed": false,
    "deletable": true,
    "editable": true
   },
   "outputs": [],
   "source": [
    "SNR = mode['SNR']"
   ]
  },
  {
   "cell_type": "code",
   "execution_count": 27,
   "metadata": {
    "collapsed": false,
    "deletable": true,
    "editable": true
   },
   "outputs": [
    {
     "data": {
      "text/latex": [
       "$[0.0024530963,~0.0019022798,~0.0004382573,~\\dots, 0.0010142962,~0.0032937194,~0.0044235123] \\; \\mathrm{\\frac{1}{s}}$"
      ],
      "text/plain": [
       "<Quantity [  2.45309633e-03,  1.90227979e-03,  4.38257304e-04,\n",
       "             6.10595786e-04,  5.12059499e-04,  2.76500985e-03,\n",
       "             2.27873825e-03,  1.84399357e-03,  7.97499249e-04,\n",
       "             2.45328613e-03,  5.22047623e-03,  1.96674567e-03,\n",
       "             1.39866428e-03,  1.06099536e-03,  3.85215189e-03,\n",
       "             2.71466385e-05,  2.54494712e-05,  2.15633303e-05,\n",
       "             1.94845815e-05,  2.87936846e-05,  1.13151929e-04,\n",
       "             3.64470148e-06,  3.05954949e-06,  4.46420082e-04,\n",
       "             3.14528297e-06,  1.98460080e-05,  1.15251122e-05,\n",
       "             2.56838262e-05,  3.44867194e-05,  2.84227728e-05,\n",
       "             4.22340843e-05,  6.63222194e-05,  1.37296581e-05,\n",
       "             6.88233618e-04,  1.61902378e-05,  8.28973598e-05,\n",
       "             2.27697100e-04,  1.00398223e-04,  1.17411664e-04,\n",
       "             2.09775035e-03,  1.29932215e-04,  9.24090707e-04,\n",
       "             2.10164196e-04,  1.56222953e-04,  1.19609623e-03,\n",
       "             1.25122571e-04,  5.94495609e-04,  3.48115662e-05,\n",
       "             1.34808365e-04,  2.64051624e-03,  1.77725282e-04,\n",
       "             7.63099630e-04,  4.60122648e-05,  6.21896286e-05,\n",
       "             2.21691643e-03,  4.10931547e-04,  2.31936884e-04,\n",
       "             1.84384616e-04,  1.91319573e-04,  1.17412603e-04,\n",
       "             2.40850240e-04,  5.22078589e-04,  2.56875953e-03,\n",
       "             8.43555806e-04,  9.09827516e-05,  2.06893026e-04,\n",
       "             5.89562477e-05,  5.90118974e-05,  1.26389572e-04,\n",
       "             1.08280547e-04,  7.92422961e-05,  5.18283199e-05,\n",
       "             5.07866215e-04,  1.36182963e-04,  6.41693433e-05,\n",
       "             1.91676029e-04,  1.76585817e-04,  7.94499761e-04,\n",
       "             4.71751102e-04,  2.54534094e-04,  2.43084943e-04,\n",
       "             1.01337336e-03,  1.60597671e-04,  1.71281810e-04,\n",
       "             2.26441978e-04,  3.94219518e-05,  1.11623633e-04,\n",
       "             9.24149572e-05,  1.34821229e-03,  1.62242305e-04,\n",
       "             3.37070774e-04,  3.00441141e-04,  4.20091118e-05,\n",
       "             2.13680996e-04,  3.81720921e-04,  1.00959787e-04,\n",
       "             2.45781765e-04,  3.64512447e-04,  2.38654174e-04,\n",
       "             1.11106070e-04,  4.13580840e-04,  4.82353394e-04,\n",
       "             1.69711489e-04,  6.71995819e-05,  2.44876675e-04,\n",
       "             1.89548435e-04,  1.68170309e-03,  3.57892570e-04,\n",
       "             2.36023689e-04,  1.24205271e-04,  1.10804697e-04,\n",
       "             2.26417569e-05,  3.03206232e-04,  1.04176164e-04,\n",
       "             3.53290321e-05,  8.12311203e-04,  3.30328011e-04,\n",
       "             4.14644658e-05,  8.41339275e-04,  1.00404023e-04,\n",
       "             9.15705492e-05,  6.63350143e-05,  7.29305248e-04,\n",
       "             1.21826106e-04,  1.18502339e-04,  2.59959403e-04,\n",
       "             4.39049609e-04,  1.49459359e-04,  1.84379861e-04,\n",
       "             8.42774221e-05,  1.40011015e-04,  1.38469719e-04,\n",
       "             2.51283643e-04,  1.42217897e-04,  1.25234055e-04,\n",
       "             9.82080236e-05,  9.85705280e-04,  1.49879472e-04,\n",
       "             6.05014349e-05,  9.85665117e-04,  5.12543369e-04,\n",
       "             1.93086843e-04,  7.47753205e-04,  5.32801103e-04,\n",
       "             3.63556434e-04,  1.82710659e-03,  4.90826419e-04,\n",
       "             1.13174284e-04,  4.85013473e-05,  1.22956044e-04,\n",
       "             8.04876343e-05,  7.27389861e-05,  8.85751994e-05,\n",
       "             2.18251294e-04,  5.90676911e-05,  3.78223233e-03,\n",
       "             1.98319719e-04,  2.07831599e-05,  4.71784559e-04,\n",
       "             1.76900314e-04,  3.63211249e-04,  5.03177627e-05,\n",
       "             7.47753205e-04,  7.34097598e-04,  1.11720497e-04,\n",
       "             6.63353222e-04,  1.46474825e-04,  6.81890442e-05,\n",
       "             6.88240718e-04,  1.14213343e-03,  5.12525525e-05,\n",
       "             1.52251208e-04,  2.80129642e-04,  1.22959691e-04,\n",
       "             1.45536244e-04,  2.75521493e-04,  1.63589311e-04,\n",
       "             6.01632503e-05,  2.74007697e-04,  7.34088700e-05,\n",
       "             2.44432881e-04,  1.94335391e-04,  1.47831055e-04,\n",
       "             3.23375239e-03,  9.73985427e-05,  1.45126808e-04,\n",
       "             1.62983279e-04,  4.89488498e-05,  8.25869575e-04,\n",
       "             8.63251495e-05,  9.41365511e-04,  4.38264086e-05,\n",
       "             1.14214197e-04,  2.70746445e-04,  1.76100473e-04,\n",
       "             1.79379977e-03,  2.35131732e-04,  2.26232988e-04,\n",
       "             8.74445048e-04,  6.62721681e-05,  4.04915643e-04,\n",
       "             8.04897100e-04,  9.50889025e-05,  1.06111028e-03,\n",
       "             2.61651027e-04,  3.90629771e-04,  6.69465774e-05,\n",
       "             1.35939732e-04,  6.47057428e-05,  1.49194840e-04,\n",
       "             4.94010545e-05,  1.62087968e-04,  1.35439170e-04,\n",
       "             1.15065038e-04,  1.71927610e-04,  8.50589425e-04,\n",
       "             1.53354161e-03,  1.16344018e-04,  2.55716158e-04,\n",
       "             3.54620537e-04,  5.83127983e-04,  1.16336727e-04,\n",
       "             7.82913769e-04,  9.32737426e-05,  3.20457620e-03,\n",
       "             6.75640575e-02,  1.10699178e-04,  1.25936159e-04,\n",
       "             3.41733632e-03,  9.60612680e-05,  1.16350529e-04,\n",
       "             8.04921595e-05,  7.68674728e-04,  5.20144232e-06,\n",
       "             2.59267573e-04,  1.18831299e-04,  2.00336083e-04,\n",
       "             5.31786675e-05,  4.98133359e-05,  9.85643765e-05,\n",
       "             1.73845179e-04,  1.96137753e-04,  1.41161688e-04,\n",
       "             1.18510713e-04,  2.58068627e-04,  1.19604781e-04,\n",
       "             4.84552219e-05,  1.57670906e-04,  1.49186991e-04,\n",
       "             4.71800376e-04,  1.60607487e-04,  7.50469369e-05,\n",
       "             1.65081441e-04,  2.76034544e-04,  1.29705066e-04,\n",
       "             2.10363550e-04,  1.84381287e-04,  3.03502060e-04,\n",
       "             9.94874902e-04,  3.29421214e-04,  2.32138930e-04,\n",
       "             9.24106198e-05,  8.67264487e-05,  1.28032856e-04,\n",
       "             2.12684137e-05,  1.13173554e-04,  1.22844085e-04,\n",
       "             4.42313590e-05,  1.45116142e-04,  1.07076568e-03,\n",
       "             2.71480877e-05,  4.18546508e-05,  1.54763949e-05,\n",
       "             7.54645417e-05,  1.65540343e-05,  3.29349860e-06,\n",
       "             4.93973218e-05,  1.36040996e-05,  2.92220125e-04,\n",
       "             9.32605136e-03,  5.61617380e-06,  1.36052574e-04,\n",
       "             2.23725621e-04,  1.32362513e-03,  5.59309097e-05,\n",
       "             1.76056881e-05,  3.05984145e-02,  8.82383712e-02,\n",
       "             7.47587383e-03,  2.84225529e-02,  4.22366984e-03,\n",
       "             5.72273615e-03,  7.40823249e-03,  3.11672815e-02,\n",
       "             1.00395064e-02,  2.27884991e-03,  5.41615498e-03,\n",
       "             8.90670038e-03,  1.56211673e-03,  1.20701727e-03,\n",
       "             8.74445048e-03,  1.01429615e-03,  3.29371944e-03,\n",
       "             4.42351234e-03] 1 / s>"
      ]
     },
     "execution_count": 27,
     "metadata": {},
     "output_type": "execute_result"
    }
   ],
   "source": [
    "SNR * C_sp"
   ]
  },
  {
   "cell_type": "code",
   "execution_count": 28,
   "metadata": {
    "collapsed": false,
    "deletable": true,
    "editable": true,
    "scrolled": true
   },
   "outputs": [
    {
     "name": "stdout",
     "output_type": "stream",
     "text": [
      "[[  6.87273721e-04   2.40707264e-07]\n",
      " [  4.13284695e-04   1.44746737e-07]\n",
      " [  2.19360718e-05   7.68277859e-09]\n",
      " [  4.25802433e-05   1.49130886e-08]\n",
      " [  2.99461770e-05   1.04881972e-08]\n",
      " [  8.73160133e-04   3.05811179e-07]\n",
      " [  5.93047417e-04   2.07705921e-07]\n",
      " [  3.88346449e-04   1.36012492e-07]\n",
      " [  7.26375351e-05   2.54402021e-08]\n",
      " [  6.87380074e-04   2.40744513e-07]\n",
      " [  3.11258183e-03   1.09013488e-06]\n",
      " [  4.41770731e-04   1.54723541e-07]\n",
      " [  2.23422804e-04   7.82504704e-08]\n",
      " [  1.28566404e-04   4.50284458e-08]\n",
      " [  1.69475662e-03   5.93562967e-07]\n",
      " [  8.41652176e-08   2.94775992e-11]\n",
      " [  7.39704156e-08   2.59070234e-11]\n",
      " [  5.31046074e-08   1.85990885e-11]\n",
      " [  4.33593436e-08   1.51859567e-11]\n",
      " [  9.46880164e-08   3.31630509e-11]\n",
      " [  1.46225952e-06   5.12134363e-10]\n",
      " [  1.51713581e-09   5.31353955e-13]\n",
      " [  1.06909303e-09   3.74433724e-13]\n",
      " [  2.27608239e-05   7.97163558e-09]\n",
      " [  1.12984789e-09   3.95712197e-13]\n",
      " [  4.49828387e-08   1.57545614e-11]\n",
      " [  1.51701844e-08   5.31312847e-12]\n",
      " [  7.53390221e-08   2.63863572e-11]\n",
      " [  1.35832689e-07   4.75733525e-11]\n",
      " [  9.22642421e-08   3.23141605e-11]\n",
      " [  2.03716731e-07   7.13487152e-11]\n",
      " [  5.02364144e-07   1.75945471e-10]\n",
      " [  2.15288077e-08   7.54014048e-12]\n",
      " [  5.40968900e-05   1.89466205e-08]\n",
      " [  2.99369110e-08   1.04849520e-11]\n",
      " [  7.84841448e-07   2.74878890e-10]\n",
      " [  5.92127908e-06   2.07383877e-09]\n",
      " [  1.15120479e-06   4.03192129e-10]\n",
      " [  1.57442878e-06   5.51419953e-10]\n",
      " [  5.02583398e-04   1.76022262e-07]\n",
      " [  1.92812071e-06   6.75295222e-10]\n",
      " [  9.75280944e-05   3.41577454e-08]\n",
      " [  5.04449847e-06   1.76675957e-09]\n",
      " [  2.78734174e-06   9.76224442e-10]\n",
      " [  1.63392749e-04   5.72258480e-08]\n",
      " [  1.78801785e-06   6.26226309e-10]\n",
      " [  4.03643380e-05   1.41370011e-08]\n",
      " [  1.38403687e-07   4.84738056e-11]\n",
      " [  2.07555487e-06   7.26931816e-10]\n",
      " [  7.96302755e-04   2.78893041e-07]\n",
      " [  3.60743865e-06   1.26345103e-09]\n",
      " [  6.65063355e-05   2.32928418e-08]\n",
      " [  2.41795244e-07   8.46851406e-11]\n",
      " [  4.41709214e-07   1.54701996e-10]\n",
      " [  5.61305346e-04   1.96588739e-07]\n",
      " [  1.92858817e-05   6.75458945e-09]\n",
      " [  6.14384387e-06   2.15178873e-09]\n",
      " [  3.88284361e-06   1.35990746e-09]\n",
      " [  4.18041443e-06   1.46412716e-09]\n",
      " [  1.57445395e-06   5.51428770e-10]\n",
      " [  6.62513449e-06   2.32035352e-09]\n",
      " [  3.11295110e-05   1.09026421e-08]\n",
      " [  7.53611357e-04   2.63941021e-07]\n",
      " [  8.12696090e-05   2.84634559e-08]\n",
      " [  9.45406680e-07   3.31114443e-10]\n",
      " [  4.88868703e-06   1.71218896e-09]\n",
      " [  3.96972299e-07   1.39033566e-10]\n",
      " [  3.97722069e-07   1.39296162e-10]\n",
      " [  1.82441241e-06   6.38972956e-10]\n",
      " [  1.33906426e-06   4.68987078e-10]\n",
      " [  7.17157649e-07   2.51173660e-10]\n",
      " [  3.06785476e-07   1.07446990e-10]\n",
      " [  2.94577233e-05   1.03171237e-08]\n",
      " [  2.11809820e-06   7.41831976e-10]\n",
      " [  4.70279148e-07   1.64708185e-10]\n",
      " [  4.19600637e-06   1.46958800e-09]\n",
      " [  3.56132961e-06   1.24730203e-09]\n",
      " [  7.20921661e-05   2.52491948e-08]\n",
      " [  2.54171223e-05   8.90196407e-09]\n",
      " [  7.39933105e-06   2.59150420e-09]\n",
      " [  6.74864604e-06   2.36361158e-09]\n",
      " [  1.17284197e-04   4.10770226e-08]\n",
      " [  2.94563559e-06   1.03166448e-09]\n",
      " [  3.35060335e-06   1.17349833e-09]\n",
      " [  5.85617991e-06   2.05103877e-09]\n",
      " [  1.77491181e-07   6.21636114e-11]\n",
      " [  1.42302602e-06   4.98393421e-10]\n",
      " [  9.75405200e-07   3.41620973e-10]\n",
      " [  2.07595100e-04   7.27070555e-08]\n",
      " [  3.00627529e-06   1.05290262e-09]\n",
      " [  1.29760566e-05   4.54466828e-09]\n",
      " [  1.03090664e-05   3.61059517e-09]\n",
      " [  2.01552194e-07   7.05906188e-11]\n",
      " [  5.21473604e-06   1.82638272e-09]\n",
      " [  1.66414996e-05   5.82843446e-09]\n",
      " [  1.16411902e-06   4.07715146e-10]\n",
      " [  6.89921772e-06   2.41634704e-09]\n",
      " [  1.51748798e-05   5.31477296e-09]\n",
      " [  6.50486971e-06   2.27823260e-09]\n",
      " [  1.40986038e-06   4.93782353e-10]\n",
      " [  1.95353571e-05   6.84196445e-09]\n",
      " [  2.65724263e-05   9.30659188e-09]\n",
      " [  3.28944795e-06   1.15207957e-09]\n",
      " [  5.15743395e-07   1.80631352e-10]\n",
      " [  6.84849859e-06   2.39858343e-09]\n",
      " [  4.10337245e-06   1.43714437e-09]\n",
      " [  3.22997513e-04   1.13125012e-07]\n",
      " [  1.46287056e-05   5.12348368e-09]\n",
      " [  6.36226453e-06   2.22828728e-09]\n",
      " [  1.76189729e-06   6.17077974e-10]\n",
      " [  1.40222232e-06   4.91107236e-10]\n",
      " [  5.85491748e-08   2.05059662e-11]\n",
      " [  1.04996973e-05   3.67736076e-09]\n",
      " [  1.23947354e-06   4.34106928e-10]\n",
      " [  1.42548946e-07   4.99256203e-11]\n",
      " [  7.53607858e-05   2.63939796e-08]\n",
      " [  1.24621031e-05   4.36466381e-09]\n",
      " [  1.96359846e-07   6.87720771e-11]\n",
      " [  8.08430814e-05   2.83140710e-08]\n",
      " [  1.15133780e-06   4.03238714e-10]\n",
      " [  9.57661814e-07   3.35406619e-10]\n",
      " [  5.02557995e-07   1.76013365e-10]\n",
      " [  6.07462133e-05   2.12754458e-08]\n",
      " [  1.69504510e-06   5.93664004e-10]\n",
      " [  1.60381540e-06   5.61712175e-10]\n",
      " [  7.71812121e-06   2.70315565e-09]\n",
      " [  2.20154579e-05   7.71058237e-09]\n",
      " [  2.55121325e-06   8.93523998e-10]\n",
      " [  3.88264334e-06   1.35983732e-09]\n",
      " [  8.11190804e-07   2.84107355e-10]\n",
      " [  2.23884970e-06   7.84123369e-10]\n",
      " [  2.18982876e-06   7.66954523e-10]\n",
      " [  7.21155584e-06   2.52573876e-09]\n",
      " [  2.30998433e-06   8.09037204e-10]\n",
      " [  1.79120552e-06   6.27342741e-10]\n",
      " [  1.10152529e-06   3.85792636e-10]\n",
      " [  1.10967218e-04   3.88645960e-08]\n",
      " [  2.56557575e-06   8.98554247e-10]\n",
      " [  4.18053518e-07   1.46416945e-10]\n",
      " [  1.10958175e-04   3.88614289e-08]\n",
      " [  3.00027989e-05   1.05080282e-08]\n",
      " [  4.25800237e-06   1.49130117e-09]\n",
      " [  6.38582626e-05   2.23653942e-08]\n",
      " [  3.24213252e-05   1.13550806e-08]\n",
      " [  1.50953853e-05   5.28693123e-09]\n",
      " [  3.81266194e-04   1.33532739e-07]\n",
      " [  2.75141686e-05   9.63642295e-09]\n",
      " [  1.46283736e-06   5.12336741e-10]\n",
      " [  2.68663172e-07   9.40952276e-11]\n",
      " [  1.72663404e-06   6.04727554e-10]\n",
      " [  7.39875861e-07   2.59130371e-10]\n",
      " [  6.04275545e-07   2.11638404e-10]\n",
      " [  8.96034663e-07   3.13822638e-10]\n",
      " [  5.44019149e-06   1.90534509e-09]\n",
      " [  3.98474489e-07   1.39559685e-10]\n",
      " [  1.63379265e-03   5.72211257e-07]\n",
      " [  4.49192328e-06   1.57322844e-09]\n",
      " [  4.93314284e-08   1.72775894e-11]\n",
      " [  2.54207277e-05   8.90322681e-09]\n",
      " [  3.57402626e-06   1.25174884e-09]\n",
      " [  1.50667338e-05   5.27689646e-09]\n",
      " [  2.89163304e-07   1.01275090e-10]\n",
      " [  6.38582626e-05   2.23653942e-08]\n",
      " [  6.15471771e-05   2.15559713e-08]\n",
      " [  1.42549681e-06   4.99258778e-10]\n",
      " [  5.02562661e-05   1.76014999e-08]\n",
      " [  2.45034089e-06   8.58194971e-10]\n",
      " [  5.31043061e-07   1.85989830e-10]\n",
      " [  5.40980061e-05   1.89470114e-08]\n",
      " [  1.48982144e-04   5.21787508e-08]\n",
      " [  3.00007098e-07   1.05072965e-10]\n",
      " [  2.64741501e-06   9.27217213e-10]\n",
      " [  8.96228327e-06   3.13890466e-09]\n",
      " [  1.72673646e-06   6.04763424e-10]\n",
      " [  2.41903894e-06   8.47231934e-10]\n",
      " [  8.66984830e-06   3.03648372e-09]\n",
      " [  3.05640132e-06   1.07045851e-09]\n",
      " [  4.13392996e-07   1.44784668e-10]\n",
      " [  8.57484066e-06   3.00320873e-09]\n",
      " [  6.15456851e-07   2.15554488e-10]\n",
      " [  6.82369782e-06   2.38989734e-09]\n",
      " [  4.31324702e-06   1.51064977e-09]\n",
      " [  2.49592702e-06   8.74160827e-10]\n",
      " [  1.19430172e-03   4.18286181e-07]\n",
      " [  1.08344146e-06   3.79459045e-10]\n",
      " [  2.40544714e-06   8.42471615e-10]\n",
      " [  3.03379782e-06   1.06254197e-09]\n",
      " [  2.73643738e-07   9.58395957e-11]\n",
      " [  7.78974904e-05   2.72824222e-08]\n",
      " [  8.51089457e-07   2.98081257e-10]\n",
      " [  1.01208526e-04   3.54467610e-08]\n",
      " [  2.19367506e-07   7.68301635e-11]\n",
      " [  1.48984372e-06   5.21795312e-10]\n",
      " [  8.37193906e-06   2.93214550e-09]\n",
      " [  3.54177998e-06   1.24045507e-09]\n",
      " [  3.67492482e-04   1.28708704e-07]\n",
      " [  6.31426811e-06   2.21147726e-09]\n",
      " [  5.84537523e-06   2.04725459e-09]\n",
      " [  8.73304260e-05   3.05861657e-08]\n",
      " [  5.01606194e-07   1.75680011e-10]\n",
      " [  1.87253370e-05   6.55826711e-09]\n",
      " [  7.39914024e-05   2.59143737e-08]\n",
      " [  1.03266677e-06   3.61675975e-10]\n",
      " [  1.28594258e-04   4.50382012e-08]\n",
      " [  7.81889568e-06   2.73845039e-09]\n",
      " [  1.74273443e-05   6.10366472e-09]\n",
      " [  5.11867187e-07   1.79273769e-10]\n",
      " [  2.11053887e-06   7.39184435e-10]\n",
      " [  4.78174251e-07   1.67473326e-10]\n",
      " [  2.54219078e-06   8.90364011e-10]\n",
      " [  2.78723104e-07   9.76185672e-11]\n",
      " [  3.00055845e-06   1.05090038e-09]\n",
      " [  2.09502446e-06   7.33750748e-10]\n",
      " [  1.51212365e-06   5.29598523e-10]\n",
      " [  3.37591720e-06   1.18236413e-09]\n",
      " [  8.26305209e-05   2.89400948e-08]\n",
      " [  2.68591125e-04   9.40699942e-08]\n",
      " [  1.54592582e-06   5.41437223e-10]\n",
      " [  7.46821607e-06   2.61563014e-09]\n",
      " [  1.43624424e-05   5.03022901e-09]\n",
      " [  3.88354461e-05   1.36015298e-08]\n",
      " [  1.54573207e-06   5.41369366e-10]\n",
      " [  7.00048927e-05   2.45181588e-08]\n",
      " [  9.93617744e-07   3.47999642e-10]\n",
      " [  1.17284802e-03   4.10772345e-07]\n",
      " [  5.21353122e-01   1.82596075e-04]\n",
      " [  1.39955291e-06   4.90172318e-10]\n",
      " [  1.81134601e-06   6.34396644e-10]\n",
      " [  1.33375475e-03   4.67127502e-07]\n",
      " [  1.05389456e-06   3.69110688e-10]\n",
      " [  1.54609885e-06   5.41497826e-10]\n",
      " [  7.39959057e-07   2.59159509e-10]\n",
      " [  6.74816571e-05   2.36344335e-08]\n",
      " [  3.08992620e-09   1.08220009e-12]\n",
      " [  7.67709542e-06   2.68878698e-09]\n",
      " [  1.61273206e-06   5.64835100e-10]\n",
      " [  4.58372855e-06   1.60538185e-09]\n",
      " [  3.22979854e-07   1.13118827e-10]\n",
      " [  2.83394741e-07   9.92547375e-11]\n",
      " [  1.10953368e-06   3.88597452e-10]\n",
      " [  3.45164271e-06   1.20888585e-09]\n",
      " [  4.39362435e-06   1.53880072e-09]\n",
      " [  2.27580066e-06   7.97064886e-10]\n",
      " [  1.60404207e-06   5.61791564e-10]\n",
      " [  7.60625629e-06   2.66397665e-09]\n",
      " [  1.63379518e-06   5.72212142e-10]\n",
      " [  2.68152411e-07   9.39163412e-11]\n",
      " [  2.83925016e-06   9.94404583e-10]\n",
      " [  2.54192330e-06   8.90270333e-10]\n",
      " [  2.54224322e-05   8.90382380e-09]\n",
      " [  2.94599569e-06   1.03179060e-09]\n",
      " [  6.43230271e-07   2.25281710e-10]\n",
      " [  3.11241167e-06   1.09007529e-09]\n",
      " [  8.70216678e-06   3.04780278e-09]\n",
      " [  1.92138506e-06   6.72936166e-10]\n",
      " [  5.05407305e-06   1.77011292e-09]\n",
      " [  3.88270342e-06   1.35985837e-09]\n",
      " [  1.05201957e-05   3.68454001e-09]\n",
      " [  1.13041388e-04   3.95910428e-08]\n",
      " [  1.23937765e-05   4.34073344e-09]\n",
      " [  6.15455264e-06   2.15553932e-09]\n",
      " [  9.75313641e-07   3.41588906e-10]\n",
      " [  8.59020758e-07   3.00859076e-10]\n",
      " [  1.87216190e-06   6.55696493e-10]\n",
      " [  5.16619424e-08   1.80938168e-11]\n",
      " [  1.46281849e-06   5.12330134e-10]\n",
      " [  1.72349106e-06   6.03626772e-10]\n",
      " [  2.23440090e-07   7.82565247e-11]\n",
      " [  2.40509358e-06   8.42347783e-10]\n",
      " [  1.30945150e-04   4.58615657e-08]\n",
      " [  8.41742041e-08   2.94807466e-11]\n",
      " [  2.00072767e-07   7.00724718e-11]\n",
      " [  2.73552154e-08   9.58075197e-12]\n",
      " [  6.50408803e-07   2.27795882e-10]\n",
      " [  3.12973981e-08   1.09614421e-11]\n",
      " [  1.23884080e-09   4.33885321e-13]\n",
      " [  2.78680986e-07   9.76038159e-11]\n",
      " [  2.11368438e-08   7.40286104e-12]\n",
      " [  9.75260823e-06   3.41570407e-09]\n",
      " [  9.93335916e-03   3.47900936e-06]\n",
      " [  3.60231437e-09   1.26165632e-12]\n",
      " [  2.11404418e-06   7.40412116e-10]\n",
      " [  5.71652331e-06   2.00212615e-09]\n",
      " [  2.00092375e-04   7.00793391e-08]\n",
      " [  3.57276374e-07   1.25130666e-10]\n",
      " [  3.54002671e-08   1.23984101e-11]\n",
      " [  1.06929707e-01   3.74505187e-05]\n",
      " [  8.89232851e-01   3.11440406e-04]\n",
      " [  6.38299433e-03   2.23554758e-06]\n",
      " [  9.22628145e-02   3.23136605e-05]\n",
      " [  2.03741950e-03   7.13575478e-07]\n",
      " [  3.74031327e-03   1.30998836e-06]\n",
      " [  6.26801084e-03   2.19527634e-06]\n",
      " [  1.10942610e-01   3.88559773e-05]\n",
      " [  1.15113235e-02   4.03166759e-06]\n",
      " [  5.93105537e-04   2.07726277e-07]\n",
      " [  3.35029229e-03   1.17338939e-06]\n",
      " [  9.06012560e-03   3.17317247e-06]\n",
      " [  2.78693923e-04   9.76083468e-08]\n",
      " [  1.66390106e-04   5.82756273e-08]\n",
      " [  8.73304260e-03   3.05861657e-06]\n",
      " [  1.17497896e-04   4.11518676e-08]\n",
      " [  1.23900694e-03   4.33943510e-07]\n",
      " [  2.23478125e-03   7.82698456e-07]]\n"
     ]
    }
   ],
   "source": [
    "print np.array([C_p**2, (C_sp*SNR*.2)**2]).T"
   ]
  },
  {
   "cell_type": "code",
   "execution_count": 29,
   "metadata": {
    "collapsed": true,
    "deletable": true,
    "editable": true
   },
   "outputs": [],
   "source": [
    "intTime = np.true_divide(SNR**2*C_b, (C_p**2 - (SNR*C_sp*.2)**2))"
   ]
  },
  {
   "cell_type": "code",
   "execution_count": 30,
   "metadata": {
    "collapsed": true,
    "deletable": true,
    "editable": true
   },
   "outputs": [
    {
     "name": "stdout",
     "output_type": "stream",
     "text": [
      "[  6.07100506e+02   9.42938544e+02   1.44281718e+04   7.63534274e+03\n",
      "   1.06921060e+04   4.95717379e+02   6.88858746e+02   9.95985975e+02\n",
      "   4.60451164e+03   6.07020381e+02   1.78507723e+02   8.89433116e+02\n",
      "   1.63152584e+03   2.70393979e+03   2.87475129e+02   3.51618988e+06\n",
      "   3.99965340e+06   5.56753401e+06   6.81647232e+06   3.12630103e+06\n",
      "   2.05326998e+05   1.94290934e+08   2.75688332e+08   1.39232908e+04\n",
      "   2.60867648e+08   6.57085782e+06   1.94565712e+07   3.92715135e+06\n",
      "   2.18141826e+06   3.20822769e+06   1.45641104e+06   5.92995666e+05\n",
      "   1.37151118e+07   6.08162189e+03   9.86718503e+06   3.80622810e+05\n",
      "   5.16727703e+04   2.60252256e+05   1.90833882e+05   7.94845332e+02\n",
      "   1.56152264e+05   3.49427779e+03   6.04801861e+04   1.08488676e+05\n",
      "   2.16895297e+03   1.68253309e+05   8.03456020e+03   2.14101343e+06\n",
      "   1.45177676e+05   5.35745568e+02   8.41234491e+04   5.00313706e+03\n",
      "   1.22783314e+06   6.73957236e+05   7.22306784e+02   1.63399871e+04\n",
      "   4.98353961e+04   7.82424418e+04   7.27559275e+04   1.90830861e+05\n",
      "   4.62823182e+04   1.03017577e+04   5.61333981e+02   4.14377919e+03\n",
      "   3.16406529e+05   6.23743427e+04   7.49501778e+05   7.48095842e+05\n",
      "   1.64931608e+05   2.24035386e+05   4.16290331e+05   9.68673728e+05\n",
      "   1.08622795e+04   1.42294142e+05   6.33224145e+05   7.24898216e+04\n",
      "   8.51966090e+04   4.63726383e+03   1.25180254e+04   4.15322420e+04\n",
      "   4.54518315e+04   2.94374358e+03   1.02732925e+05   9.04756431e+04\n",
      "   5.22364646e+04   1.67081362e+06   2.10934259e+05   3.06748888e+05\n",
      "   1.74376638e+03   1.00688050e+05   2.40009620e+04   3.00324256e+04\n",
      "   1.47199611e+06   5.85395027e+04   1.88486894e+04   2.57389250e+05\n",
      "   4.44794153e+04   2.06136718e+04   4.71211242e+04   2.12885662e+05\n",
      "   1.61380991e+04   1.19937231e+04   9.21338407e+04   5.77697424e+05\n",
      "   4.48022161e+04   7.41003581e+04   1.17237033e+03   2.13606720e+04\n",
      "   4.81566338e+04   1.70721673e+05   2.14034528e+05   5.05072245e+06\n",
      "   2.95003297e+04   2.41870875e+05   2.07893523e+06   4.44795002e+03\n",
      "   2.49637389e+04   1.51078145e+06   4.16427080e+03   2.60222441e+05\n",
      "   3.12388187e+05   5.92768204e+05   5.44973083e+03   1.77384713e+05\n",
      "   1.87371248e+05   3.98519378e+04   1.43779444e+04   1.18397322e+05\n",
      "   7.82464162e+04   3.68344368e+05   1.34705058e+05   1.37685337e+05\n",
      "   4.25911252e+04   1.30604664e+05   1.67956994e+05   2.71890377e+05\n",
      "   3.09885331e+03   1.17742703e+05   7.11891406e+05   3.09908776e+03\n",
      "   1.06727341e+04   7.14509460e+04   5.19859044e+03   9.90782541e+03\n",
      "   2.07190596e+04   1.01226711e+03   1.15986057e+04   2.05246656e+05\n",
      "   1.10550572e+06   1.74172165e+05   4.03592117e+05   4.93517596e+05\n",
      "   3.33706357e+05   5.61554830e+04   7.46690251e+05   2.96062190e+02\n",
      "   6.77883246e+04   5.99258337e+06   1.25163158e+04   8.48983499e+04\n",
      "   2.07573143e+04   1.02744537e+06   5.19859044e+03   5.38270244e+03\n",
      "   2.10572048e+05   6.52162956e+03   1.23210442e+05   5.61146784e+05\n",
      "   6.08150298e+03   2.36063805e+03   9.90464033e+05   1.14147731e+05\n",
      "   3.44321461e+04   1.74161940e+05   1.24785363e+05   3.55669693e+04\n",
      "   9.90587681e+04   7.19876243e+05   3.59522174e+04   4.84606044e+05\n",
      "   4.49617980e+04   7.05502668e+04   1.20987271e+05   3.82046599e+02\n",
      "   2.76391169e+05   1.25481942e+05   9.97868232e+04   1.08546628e+06\n",
      "   4.31180720e+03   3.51196872e+05   3.37574363e+03   1.35286634e+06\n",
      "   2.01561057e+05   3.68040740e+04   8.56600183e+04   1.04567528e+03\n",
      "   4.85156217e+04   5.23312316e+04   3.87388299e+03   5.93886721e+05\n",
      "   1.68130618e+04   4.52525936e+03   2.89869077e+05   2.70339879e+03\n",
      "   3.93491210e+04   1.80243137e+04   5.82047427e+05   1.42798035e+05\n",
      "   6.22825114e+05   1.18812323e+05   1.06576619e+06   1.00877315e+05\n",
      "   1.43843559e+05   1.98619351e+05   8.98067892e+04   4.07978806e+03\n",
      "   1.38226559e+03   1.94317843e+05   4.11570730e+04   2.17452829e+04\n",
      "   8.33623217e+03   1.94341964e+05   4.76725345e+03   3.01169543e+05\n",
      "   3.87791106e+02   7.04503189e+00   2.14438991e+05   1.66108849e+05\n",
      "   3.48983612e+02   2.84076601e+05   1.94296306e+05   4.03547045e+05\n",
      "   4.93495706e+03   9.54209114e+07   4.00603974e+04   1.86345487e+05\n",
      "   6.64526212e+04   9.20312976e+05   1.04827025e+06   2.69943987e+05\n",
      "   8.78642991e+04   6.92801263e+04   1.32543205e+05   1.87345031e+05\n",
      "   4.04256091e+04   1.83966767e+05   1.10760282e+06   1.06530738e+05\n",
      "   1.18824670e+05   1.25155077e+04   1.02720534e+05   4.63809044e+05\n",
      "   9.73000978e+04   3.54378272e+04   1.56693763e+05   6.03675830e+04\n",
      "   7.82452239e+04   2.94442550e+04   3.04604924e+03   2.50977050e+04\n",
      "   4.97503253e+04   3.06777462e+05   3.47977646e+05   1.60768917e+05\n",
      "   5.72272253e+06   2.05249278e+05   1.74486539e+05   1.32829862e+06\n",
      "   1.25500167e+05   2.65855097e+03   3.51581535e+06   1.48284210e+06\n",
      "   1.07971128e+07   4.58722110e+05   9.43884312e+06   2.37922559e+08\n",
      "   1.06592659e+06   1.39691493e+07   3.17038471e+04   7.66013334e+01\n",
      "   8.18541308e+07   1.42563930e+05   5.34888592e+04   1.80300693e+03\n",
      "   8.32353301e+05   8.34637251e+06   1.70633407e+01   5.29300613e+00\n",
      "   1.04714995e+02   1.85966547e+01   2.48244002e+02   1.55263493e+02\n",
      "   1.06096336e+02   1.67025344e+01   6.91999520e+01   6.88800656e+02\n",
      "   1.68762680e+02   8.16699490e+01   1.33728461e+03   2.13316328e+03\n",
      "   8.37997871e+01   2.93878236e+03   3.70681869e+02   2.30792065e+02] s\n"
     ]
    }
   ],
   "source": [
    "intTime[np.isnan(intTime)] = np.inf*u.day\n",
    "intTime[intTime < 0] = np.inf*u.day\n",
    "print intTime"
   ]
  },
  {
   "cell_type": "code",
   "execution_count": 31,
   "metadata": {
    "collapsed": true,
    "deletable": true,
    "editable": true
   },
   "outputs": [
    {
     "data": {
      "text/plain": [
       "(array([ 266.,   13.,    2.,    4.,    1.,    4.,    1.,    1.,    2.,\n",
       "           1.,    0.,    0.,    2.,    0.,    0.,    0.,    0.,    1.,\n",
       "           0.,    0.,    0.,    0.,    0.,    0.,    0.,    0.,    0.,\n",
       "           0.,    0.,    0.,    0.,    0.,    0.,    0.,    0.,    0.,\n",
       "           0.,    0.,    0.,    0.,    0.,    0.,    0.,    0.,    0.,\n",
       "           0.,    0.,    0.,    0.,    0.,    0.,    0.,    0.,    0.,\n",
       "           0.,    0.,    0.,    0.,    0.,    0.,    0.,    0.,    0.,\n",
       "           0.,    0.,    0.,    0.,    0.,    0.,    0.,    0.,    0.,\n",
       "           0.,    0.,    1.,    0.,    0.,    0.,    0.,    0.,    0.,\n",
       "           0.,    0.,    0.,    0.,    0.,    1.,    0.,    0.,    0.,\n",
       "           0.,    0.,    0.,    0.,    0.,    0.,    0.,    0.,    0.,\n",
       "           0.,    0.,    0.,    0.,    0.,    0.,    0.,    0.,    0.,\n",
       "           0.,    0.,    0.,    0.,    0.,    0.,    0.,    0.,    0.,\n",
       "           0.,    0.,    0.,    0.,    0.,    0.,    0.,    0.,    0.,\n",
       "           0.,    0.,    0.,    0.,    0.,    0.,    0.,    0.,    0.,\n",
       "           0.,    0.,    0.,    0.,    0.,    0.,    0.,    0.,    0.,\n",
       "           0.,    0.,    0.,    0.,    0.,    0.,    0.,    0.,    0.,\n",
       "           0.,    0.,    0.,    0.,    0.,    0.,    0.,    0.,    0.,\n",
       "           0.,    0.,    0.,    0.,    0.,    0.,    0.,    0.,    0.,\n",
       "           0.,    0.,    0.,    0.,    0.,    1.,    0.,    0.,    0.,\n",
       "           0.,    0.,    0.,    0.,    0.,    0.,    0.,    0.,    0.,\n",
       "           0.,    0.,    0.,    0.,    0.,    0.,    0.,    0.,    0.,\n",
       "           0.,    0.,    0.,    0.,    0.,    0.,    0.,    0.,    0.,\n",
       "           0.,    0.,    0.,    0.,    0.,    0.,    0.,    0.,    1.,\n",
       "           0.,    0.,    0.,    0.,    0.,    0.,    0.,    0.,    0.,\n",
       "           0.,    0.,    0.,    0.,    0.,    0.,    0.,    0.,    0.,\n",
       "           0.,    0.,    1.,    0.,    0.,    0.,    0.,    0.,    0.,\n",
       "           0.,    0.,    0.,    0.,    0.,    0.,    1.]),\n",
       " array([  6.12616450e-05,   1.27634097e+01,   2.55267581e+01,\n",
       "          3.82901066e+01,   5.10534550e+01,   6.38168035e+01,\n",
       "          7.65801519e+01,   8.93435004e+01,   1.02106849e+02,\n",
       "          1.14870197e+02,   1.27633546e+02,   1.40396894e+02,\n",
       "          1.53160243e+02,   1.65923591e+02,   1.78686939e+02,\n",
       "          1.91450288e+02,   2.04213636e+02,   2.16976985e+02,\n",
       "          2.29740333e+02,   2.42503682e+02,   2.55267030e+02,\n",
       "          2.68030379e+02,   2.80793727e+02,   2.93557075e+02,\n",
       "          3.06320424e+02,   3.19083772e+02,   3.31847121e+02,\n",
       "          3.44610469e+02,   3.57373818e+02,   3.70137166e+02,\n",
       "          3.82900515e+02,   3.95663863e+02,   4.08427211e+02,\n",
       "          4.21190560e+02,   4.33953908e+02,   4.46717257e+02,\n",
       "          4.59480605e+02,   4.72243954e+02,   4.85007302e+02,\n",
       "          4.97770651e+02,   5.10533999e+02,   5.23297347e+02,\n",
       "          5.36060696e+02,   5.48824044e+02,   5.61587393e+02,\n",
       "          5.74350741e+02,   5.87114090e+02,   5.99877438e+02,\n",
       "          6.12640787e+02,   6.25404135e+02,   6.38167483e+02,\n",
       "          6.50930832e+02,   6.63694180e+02,   6.76457529e+02,\n",
       "          6.89220877e+02,   7.01984226e+02,   7.14747574e+02,\n",
       "          7.27510923e+02,   7.40274271e+02,   7.53037619e+02,\n",
       "          7.65800968e+02,   7.78564316e+02,   7.91327665e+02,\n",
       "          8.04091013e+02,   8.16854362e+02,   8.29617710e+02,\n",
       "          8.42381059e+02,   8.55144407e+02,   8.67907755e+02,\n",
       "          8.80671104e+02,   8.93434452e+02,   9.06197801e+02,\n",
       "          9.18961149e+02,   9.31724498e+02,   9.44487846e+02,\n",
       "          9.57251194e+02,   9.70014543e+02,   9.82777891e+02,\n",
       "          9.95541240e+02,   1.00830459e+03,   1.02106794e+03,\n",
       "          1.03383129e+03,   1.04659463e+03,   1.05935798e+03,\n",
       "          1.07212133e+03,   1.08488468e+03,   1.09764803e+03,\n",
       "          1.11041138e+03,   1.12317472e+03,   1.13593807e+03,\n",
       "          1.14870142e+03,   1.16146477e+03,   1.17422812e+03,\n",
       "          1.18699147e+03,   1.19975481e+03,   1.21251816e+03,\n",
       "          1.22528151e+03,   1.23804486e+03,   1.25080821e+03,\n",
       "          1.26357156e+03,   1.27633491e+03,   1.28909825e+03,\n",
       "          1.30186160e+03,   1.31462495e+03,   1.32738830e+03,\n",
       "          1.34015165e+03,   1.35291500e+03,   1.36567834e+03,\n",
       "          1.37844169e+03,   1.39120504e+03,   1.40396839e+03,\n",
       "          1.41673174e+03,   1.42949509e+03,   1.44225844e+03,\n",
       "          1.45502178e+03,   1.46778513e+03,   1.48054848e+03,\n",
       "          1.49331183e+03,   1.50607518e+03,   1.51883853e+03,\n",
       "          1.53160187e+03,   1.54436522e+03,   1.55712857e+03,\n",
       "          1.56989192e+03,   1.58265527e+03,   1.59541862e+03,\n",
       "          1.60818197e+03,   1.62094531e+03,   1.63370866e+03,\n",
       "          1.64647201e+03,   1.65923536e+03,   1.67199871e+03,\n",
       "          1.68476206e+03,   1.69752540e+03,   1.71028875e+03,\n",
       "          1.72305210e+03,   1.73581545e+03,   1.74857880e+03,\n",
       "          1.76134215e+03,   1.77410549e+03,   1.78686884e+03,\n",
       "          1.79963219e+03,   1.81239554e+03,   1.82515889e+03,\n",
       "          1.83792224e+03,   1.85068559e+03,   1.86344893e+03,\n",
       "          1.87621228e+03,   1.88897563e+03,   1.90173898e+03,\n",
       "          1.91450233e+03,   1.92726568e+03,   1.94002902e+03,\n",
       "          1.95279237e+03,   1.96555572e+03,   1.97831907e+03,\n",
       "          1.99108242e+03,   2.00384577e+03,   2.01660912e+03,\n",
       "          2.02937246e+03,   2.04213581e+03,   2.05489916e+03,\n",
       "          2.06766251e+03,   2.08042586e+03,   2.09318921e+03,\n",
       "          2.10595255e+03,   2.11871590e+03,   2.13147925e+03,\n",
       "          2.14424260e+03,   2.15700595e+03,   2.16976930e+03,\n",
       "          2.18253265e+03,   2.19529599e+03,   2.20805934e+03,\n",
       "          2.22082269e+03,   2.23358604e+03,   2.24634939e+03,\n",
       "          2.25911274e+03,   2.27187608e+03,   2.28463943e+03,\n",
       "          2.29740278e+03,   2.31016613e+03,   2.32292948e+03,\n",
       "          2.33569283e+03,   2.34845617e+03,   2.36121952e+03,\n",
       "          2.37398287e+03,   2.38674622e+03,   2.39950957e+03,\n",
       "          2.41227292e+03,   2.42503627e+03,   2.43779961e+03,\n",
       "          2.45056296e+03,   2.46332631e+03,   2.47608966e+03,\n",
       "          2.48885301e+03,   2.50161636e+03,   2.51437970e+03,\n",
       "          2.52714305e+03,   2.53990640e+03,   2.55266975e+03,\n",
       "          2.56543310e+03,   2.57819645e+03,   2.59095980e+03,\n",
       "          2.60372314e+03,   2.61648649e+03,   2.62924984e+03,\n",
       "          2.64201319e+03,   2.65477654e+03,   2.66753989e+03,\n",
       "          2.68030323e+03,   2.69306658e+03,   2.70582993e+03,\n",
       "          2.71859328e+03,   2.73135663e+03,   2.74411998e+03,\n",
       "          2.75688332e+03,   2.76964667e+03,   2.78241002e+03,\n",
       "          2.79517337e+03,   2.80793672e+03,   2.82070007e+03,\n",
       "          2.83346342e+03,   2.84622676e+03,   2.85899011e+03,\n",
       "          2.87175346e+03,   2.88451681e+03,   2.89728016e+03,\n",
       "          2.91004351e+03,   2.92280685e+03,   2.93557020e+03,\n",
       "          2.94833355e+03,   2.96109690e+03,   2.97386025e+03,\n",
       "          2.98662360e+03,   2.99938695e+03,   3.01215029e+03,\n",
       "          3.02491364e+03,   3.03767699e+03,   3.05044034e+03,\n",
       "          3.06320369e+03,   3.07596704e+03,   3.08873038e+03,\n",
       "          3.10149373e+03,   3.11425708e+03,   3.12702043e+03,\n",
       "          3.13978378e+03,   3.15254713e+03,   3.16531048e+03,\n",
       "          3.17807382e+03,   3.19083717e+03]),\n",
       " <a list of 250 Patch objects>)"
      ]
     },
     "execution_count": 31,
     "metadata": {},
     "output_type": "execute_result"
    }
   ],
   "source": [
    "plt.hist(intTime.to('day').value,bins=250)\n",
    "#plt.semilogy()"
   ]
  },
  {
   "cell_type": "code",
   "execution_count": 32,
   "metadata": {
    "collapsed": false,
    "deletable": true,
    "editable": true
   },
   "outputs": [
    {
     "data": {
      "text/latex": [
       "$[0.0070862112,~0.011006187,~0.16840881,~\\dots, 0.034302117,~0.0043266807,~0.002693856] \\; \\mathrm{d}$"
      ],
      "text/plain": [
       "<Quantity [  7.08621123e-03,  1.10061870e-02,  1.68408808e-01,\n",
       "             8.91214073e-02,  1.24800624e-01,  5.78612276e-03,\n",
       "             8.04051146e-03,  1.16253683e-02,  5.37448770e-02,\n",
       "             7.08527599e-03,  2.08358158e-03,  1.03816598e-02,\n",
       "             1.90435300e-02,  3.15609826e-02,  3.35547321e-03,\n",
       "             4.10417451e+01,  4.66848381e+01,  6.49854869e+01,\n",
       "             7.95633708e+01,  3.64908763e+01,  2.39662208e+00,\n",
       "             2.26780671e+03,  3.21789511e+03,  1.62515726e-01,\n",
       "             3.04490481e+03,  7.66965041e+01,  2.27101398e+02,\n",
       "             4.58385782e+01,  2.54619959e+01,  3.74471424e+01,\n",
       "             1.69995514e+01,  6.92157641e+00,  1.60085815e+02,\n",
       "             7.09860343e-02,  1.15171963e+02,  4.44271352e+00,\n",
       "             6.03135990e-01,  3.03772182e+00,  2.22745523e+00,\n",
       "             9.27761031e-03,  1.82264372e+00,  4.07859823e-02,\n",
       "             7.05938093e-01,  1.26630379e+00,  2.53164982e-02,\n",
       "             1.96388979e+00,  9.37811616e-02,  2.49903817e+01,\n",
       "             1.69454591e+00,  6.25334062e-03,  9.81907482e-01,\n",
       "             5.83977211e-02,  1.43315396e+01,  7.86657774e+00,\n",
       "             8.43092436e-03,  1.90723939e-01,  5.81689753e-01,\n",
       "             9.13263065e-01,  8.49223259e-01,  2.22741997e+00,\n",
       "             5.40217442e-01,  1.20244391e-01,  6.55201424e-03,\n",
       "             4.83671061e-02,  3.69316691e+00,  7.28047107e-01,\n",
       "             8.74835033e+00,  8.73193994e+00,  1.92511816e+00,\n",
       "             2.61499052e+00,  4.85903271e+00,  1.13065737e+01,\n",
       "             1.26786926e-01,  1.66088866e+00,  7.39113211e+00,\n",
       "             8.46117212e-01,  9.94433641e-01,  5.41271679e-02,\n",
       "             1.46113158e-01,  4.84773504e-01,  5.30523818e-01,\n",
       "             3.43600254e-02,  1.19912140e+00,  1.05605169e+00,\n",
       "             6.09715554e-01,  1.95021057e+01,  2.46207127e+00,\n",
       "             3.58044078e+00,  2.03536264e-02,  1.17525316e+00,\n",
       "             2.80144531e-01,  3.50545107e-01,  1.71814638e+01,\n",
       "             6.83286007e-01,  2.20006066e-01,  3.00430418e+00,\n",
       "             5.19173562e-01,  2.40607331e-01,  5.50008171e-01,\n",
       "             2.48484848e+00,  1.88367458e-01,  1.39993386e-01,\n",
       "             1.07540654e+00,  6.74301195e+00,  5.22941364e-01,\n",
       "             8.64915750e-01,  1.36841655e-02,  2.49326483e-01,\n",
       "             5.62094868e-01,  1.99270108e+00,  2.49825829e+00,\n",
       "             5.89531482e+01,  3.44334366e-01,  2.82317029e+00,\n",
       "             2.42657913e+01,  5.19174553e-02,  2.91382275e-01,\n",
       "             1.76341748e+01,  4.86062887e-02,  3.03737382e+00,\n",
       "             3.64626393e+00,  6.91892142e+00,  6.36104622e-02,\n",
       "             2.07047355e+00,  2.18703860e+00,  4.65160622e-01,\n",
       "             1.67822543e-01,  1.38195970e+00,  9.13309456e-01,\n",
       "             4.29939683e+00,  1.57230719e+00,  1.60709366e+00,\n",
       "             4.97133022e-01,  1.52444649e+00,  1.96043114e+00,\n",
       "             3.17356454e+00,  3.61705005e-02,  1.37431884e+00,\n",
       "             8.30935376e+00,  3.61732370e-02,  1.24574510e-01,\n",
       "             8.33991227e-01,  6.06790961e-02,  1.15646327e-01,\n",
       "             2.41837441e-01,  1.18154053e-02,  1.35381489e-01,\n",
       "             2.39568432e+00,  1.29037070e+01,  2.03297598e+00,\n",
       "             4.71081635e+00,  5.76044640e+00,  3.89509432e+00,\n",
       "             6.55459203e-01,  8.71553356e+00,  3.45570329e-03,\n",
       "             7.91240300e-01,  6.99467570e+01,  1.46093203e-01,\n",
       "             9.90952296e-01,  2.42283958e-01,  1.19925694e+01,\n",
       "             6.06790961e-02,  6.28280920e-02,  2.45784347e+00,\n",
       "             7.61219010e-02,  1.43813950e+00,  6.54982923e+00,\n",
       "             7.09846463e-02,  2.75538888e-02,  1.15609150e+01,\n",
       "             1.33235754e+00,  4.01899616e-01,  2.03285663e+00,\n",
       "             1.45652233e+00,  4.15145523e-01,  1.15623582e+00,\n",
       "             8.40255454e+00,  4.19642223e-01,  5.65642880e+00,\n",
       "             5.24804039e-01,  8.23478300e-01,  1.41219015e+00,\n",
       "             4.45933230e-03,  3.22609878e+00,  1.46465295e+00,\n",
       "             1.16473384e+00,  1.26698022e+01,  5.03283662e-02,\n",
       "             4.09924747e+00,  3.94024254e-02,  1.57909548e+01,\n",
       "             2.35266518e+00,  4.29585282e-01,  9.99842657e-01,\n",
       "             1.22053529e-02,  5.66285055e-01,  6.10821696e-01,\n",
       "             4.52168180e-02,  6.93197700e+00,  1.96245772e-01,\n",
       "             5.28198270e-02,  3.38341590e+00,  3.15546680e-02,\n",
       "             4.59291633e-01,  2.10383771e-01,  6.79378616e+00,\n",
       "             1.66677021e+00,  7.26975232e+00,  1.38680368e+00,\n",
       "             1.24398584e+01,  1.17746230e+00,  1.67897380e+00,\n",
       "             2.31832895e+00,  1.04824468e+00,  4.76201875e-02,\n",
       "             1.61341093e-02,  2.26812079e+00,  4.80394448e-01,\n",
       "             2.53815746e-01,  9.73023435e-02,  2.26840233e+00,\n",
       "             5.56444354e-02,  3.51531743e+00,  4.52638346e-03,\n",
       "             8.22311686e-05,  2.50297928e+00,  1.93885918e+00,\n",
       "             4.07341382e-03,  3.31580485e+00,  2.26786941e+00,\n",
       "             4.71029026e+00,  5.76019090e-02,  1.11377396e+03,\n",
       "             4.67593808e-01,  2.17506569e+00,  7.75649675e-01,\n",
       "             1.07420964e+01,  1.22356420e+01,  3.15084585e+00,\n",
       "             1.02557151e+00,  8.08652940e-01,  1.54707358e+00,\n",
       "             2.18673259e+00,  4.71856640e-01,  2.14730074e+00,\n",
       "             1.29281848e+01,  1.24345031e+00,  1.38694780e+00,\n",
       "             1.46083771e-01,  1.19897677e+00,  5.41368163e+00,\n",
       "             1.13570824e+00,  4.13638147e-01,  1.82896421e+00,\n",
       "             7.04623765e-01,  9.13295538e-01,  3.43679849e-01,\n",
       "             3.55541596e-02,  2.92945957e-01,  5.80696787e-01,\n",
       "             3.58077430e+00,  4.06167195e+00,  1.87653032e+00,\n",
       "             6.67968816e+01,  2.39571492e+00,  2.03664543e+00,\n",
       "             1.55041949e+01,  1.46486568e+00,  3.10311943e-02,\n",
       "             4.10373735e+01,  1.73080606e+01,  1.26026286e+02,\n",
       "             5.35430581e+00,  1.10172262e+02,  2.77708467e+03,\n",
       "             1.24417307e+01,  1.63050997e+02,  3.70054308e-01,\n",
       "             8.94107686e-04,  9.55419497e+02,  1.66403769e+00,\n",
       "             6.24333781e-01,  2.10450952e-02,  9.71541161e+00,\n",
       "             9.74207038e+01,  1.99167083e-04,  6.17811369e-05,\n",
       "             1.22225655e-03,  2.17064262e-04,  2.89755884e-03,\n",
       "             1.81226979e-03,  1.23837988e-03,  1.94955671e-04,\n",
       "             8.07717127e-04,  8.03983342e-03,  1.96983528e-03,\n",
       "             9.53269687e-04,  1.56090814e-02,  2.48987531e-02,\n",
       "             9.78129628e-04,  3.43021169e-02,  4.32668066e-03,\n",
       "             2.69385596e-03] d>"
      ]
     },
     "execution_count": 32,
     "metadata": {},
     "output_type": "execute_result"
    }
   ],
   "source": [
    "sim.TargetList.tint0"
   ]
  },
  {
   "cell_type": "code",
   "execution_count": 33,
   "metadata": {
    "collapsed": false,
    "deletable": true,
    "editable": true
   },
   "outputs": [
    {
     "data": {
      "text/plain": [
       "array([  0,   1,   2,   3,   4,   5,   6,   7,   8,   9,  10,  11,  12,\n",
       "        13,  14,  15,  16,  17,  18,  19,  20,  21,  22,  23,  24,  25,\n",
       "        26,  27,  28,  29,  30,  31,  32,  33,  34,  35,  36,  37,  38,\n",
       "        39,  40,  41,  42,  43,  44,  45,  46,  47,  48,  49,  50,  51,\n",
       "        52,  53,  54,  55,  56,  57,  58,  59,  60,  61,  62,  63,  64,\n",
       "        65,  66,  67,  68,  69,  70,  71,  72,  73,  74,  75,  76,  77,\n",
       "        78,  79,  80,  81,  82,  83,  84,  85,  86,  87,  88,  89,  90,\n",
       "        91,  92,  93,  94,  95,  96,  97,  98,  99, 100, 101, 102, 103,\n",
       "       104, 105, 106, 107, 108, 109, 110, 111, 112, 113, 114, 115, 116,\n",
       "       117, 118, 119, 120, 121, 122, 123, 124, 125, 126, 127, 128, 129,\n",
       "       130, 131, 132, 133, 134, 135, 136, 137, 138, 139, 140, 141, 142,\n",
       "       143, 144, 145, 146, 147, 148, 149, 150, 151, 152, 153, 154, 155,\n",
       "       156, 157, 158, 159, 160, 161, 162, 163, 164, 165, 166, 167, 168,\n",
       "       169, 170, 171, 172, 173, 174, 175, 176, 177, 178, 179, 180, 181,\n",
       "       182, 183, 184, 185, 186, 187, 188, 189, 190, 191, 192, 193, 194,\n",
       "       195, 196, 197, 198, 199, 200, 201, 202, 203, 204, 205, 206, 207,\n",
       "       208, 209, 210, 211, 212, 213, 214, 215, 216, 217, 218, 219, 220,\n",
       "       221, 222, 223, 224, 225, 226, 227, 228, 229, 230, 231, 232, 233,\n",
       "       234, 235, 236, 237, 238, 239, 240, 241, 242, 243, 244, 245, 246,\n",
       "       247, 248, 249, 250, 251, 252, 253, 254, 255, 256, 257, 258, 259,\n",
       "       260, 261, 262, 263, 264, 265, 266, 267, 268, 269, 270, 271, 272,\n",
       "       273, 274, 275, 276, 277, 278, 279, 280, 281, 282, 283, 284, 285,\n",
       "       286, 287, 288, 289, 290, 291, 292, 293, 294, 295, 296, 297, 298,\n",
       "       299, 300, 301, 302, 303])"
      ]
     },
     "execution_count": 33,
     "metadata": {},
     "output_type": "execute_result"
    }
   ],
   "source": [
    "np.where(sim.TargetList.comp0>0)[0]#sim.TargetList.minComp)[0]"
   ]
  },
  {
   "cell_type": "code",
   "execution_count": 11,
   "metadata": {
    "collapsed": false,
    "deletable": true,
    "editable": true
   },
   "outputs": [
    {
     "name": "stdout",
     "output_type": "stream",
     "text": [
      "0.00973451327434 arcsec\n",
      "21.0\n"
     ]
    }
   ],
   "source": [
    "print OS.IWA\n",
    "print OS.dMagLim"
   ]
  },
  {
   "cell_type": "code",
   "execution_count": 17,
   "metadata": {
    "collapsed": false,
    "deletable": true,
    "editable": true
   },
   "outputs": [
    {
     "name": "stdout",
     "output_type": "stream",
     "text": [
      "0.1 arcsec\n",
      "0.0973451327434 arcsec\n"
     ]
    }
   ],
   "source": [
    "WA = syst['IWA'] * 10\n",
    "print WA\n",
    "WA = WA*lam/syst['lam']\n",
    "print WA"
   ]
  },
  {
   "cell_type": "code",
   "execution_count": 13,
   "metadata": {
    "collapsed": false,
    "deletable": true,
    "editable": true
   },
   "outputs": [
    {
     "name": "stdout",
     "output_type": "stream",
     "text": [
      "imaging-EMCCD\n"
     ]
    }
   ],
   "source": [
    "inst = mode['inst']\n",
    "syst = mode['syst']\n",
    "print inst['name']"
   ]
  },
  {
   "cell_type": "code",
   "execution_count": 18,
   "metadata": {
    "collapsed": false,
    "deletable": true,
    "editable": true
   },
   "outputs": [
    {
     "name": "stdout",
     "output_type": "stream",
     "text": [
      "55.0 nm\n"
     ]
    }
   ],
   "source": [
    "lam = mode['lam']\n",
    "deltaLam = lam/inst['Rs'] if 'spec' in inst['name'].lower() else mode['deltaLam']\n",
    "print deltaLam"
   ]
  },
  {
   "cell_type": "code",
   "execution_count": 19,
   "metadata": {
    "collapsed": false,
    "deletable": true,
    "editable": true
   },
   "outputs": [
    {
     "data": {
      "text/latex": [
       "$0.005 \\; \\mathrm{{}^{\\prime\\prime}^{2}}$"
      ],
      "text/plain": [
       "<Quantity 0.005 arcsec2>"
      ]
     },
     "execution_count": 19,
     "metadata": {},
     "output_type": "execute_result"
    }
   ],
   "source": [
    "syst['core_area'](lam,WA) * u.arcsec**2"
   ]
  },
  {
   "cell_type": "code",
   "execution_count": 20,
   "metadata": {
    "collapsed": false,
    "deletable": true,
    "editable": true
   },
   "outputs": [
    {
     "name": "stdout",
     "output_type": "stream",
     "text": [
      "0.0013\n",
      "0.0005 1 / s\n",
      "1000.0 s\n",
      "set dark to .00036\n"
     ]
    }
   ],
   "source": [
    "print inst['CIC']\n",
    "print inst['idark']\n",
    "print inst['texp']\n",
    "print 'set dark to .00036'"
   ]
  },
  {
   "cell_type": "code",
   "execution_count": 21,
   "metadata": {
    "collapsed": false,
    "deletable": true,
    "editable": true
   },
   "outputs": [
    {
     "name": "stdout",
     "output_type": "stream",
     "text": [
      "0.00587610763477 1 / s 1.52778798504e-05 1 / s\n",
      "11.7522152695\n",
      "3.3963902129e-14 1 / s\n"
     ]
    }
   ],
   "source": [
    "Omega = syst['core_area'](lam,WA)*u.arcsec**2 if syst['core_area'] else \\\n",
    "                np.pi*(np.sqrt(2)/2*lam/OS.pupilDiam*u.rad)**2\n",
    "Npix = (Omega / (inst['pitch']/inst['focal']*u.rad)**2).decompose().value\n",
    "c_dc = Npix*inst['idark']\n",
    "c_cc = Npix*inst['CIC']/inst['texp']\n",
    "c_r = Npix*inst['sread']**2/inst['texp']\n",
    "print c_dc, c_cc\n",
    "print Npix\n",
    "print c_r"
   ]
  },
  {
   "cell_type": "code",
   "execution_count": 22,
   "metadata": {
    "collapsed": false,
    "deletable": true,
    "editable": true
   },
   "outputs": [
    {
     "data": {
      "text/plain": [
       "0.441"
      ]
     },
     "execution_count": 22,
     "metadata": {},
     "output_type": "execute_result"
    }
   ],
   "source": [
    "OS.attenuation"
   ]
  },
  {
   "cell_type": "code",
   "execution_count": 23,
   "metadata": {
    "collapsed": false,
    "deletable": true,
    "editable": true
   },
   "outputs": [
    {
     "data": {
      "text/latex": [
       "$1.023293 \\times 10^{8} \\; \\mathrm{\\frac{ph}{nm\\,s\\,m^{2}}}$"
      ],
      "text/plain": [
       "<Quantity 102329299.22807536 ph / (m2 nm s)>"
      ]
     },
     "execution_count": 23,
     "metadata": {},
     "output_type": "execute_result"
    }
   ],
   "source": [
    "OS.F0(lam)"
   ]
  },
  {
   "cell_type": "code",
   "execution_count": 129,
   "metadata": {
    "collapsed": false,
    "deletable": true,
    "editable": true
   },
   "outputs": [
    {
     "name": "stdout",
     "output_type": "stream",
     "text": [
      "8216332182.48 1 / s\n"
     ]
    }
   ],
   "source": [
    "C_F0 = OS.F0(lam)*OS.pupilArea*deltaLam*inst['QE'](lam)*OS.attenuation\n",
    "print C_F0\n"
   ]
  },
  {
   "cell_type": "code",
   "execution_count": 56,
   "metadata": {
    "collapsed": true,
    "deletable": true,
    "editable": true
   },
   "outputs": [
    {
     "name": "stdout",
     "output_type": "stream",
     "text": [
      "[  7.08746450e-01   1.10294538e+00   1.69907915e+01   8.98293744e+00\n",
      "   1.25859574e+01   5.78143163e-01   8.04663665e-01   1.16525147e+00\n",
      "   5.41189926e+00   7.08652468e-01   2.06972734e-01   1.04011071e+00\n",
      "   1.91223945e+00   3.17397767e+00   3.34286092e-01   4.15100924e+03\n",
      "   4.72180990e+03   6.57294392e+03   8.04752927e+03   3.69068991e+03\n",
      "   2.42264456e+02   2.29403513e+05   3.25512422e+05   1.63954812e+01\n",
      "   3.08013081e+05   7.75753857e+03   2.29716187e+04   4.63621024e+03\n",
      "   2.57513363e+03   3.78741580e+03   1.71918712e+03   6.99880309e+02\n",
      "   1.61926688e+04   7.15204728e+00   1.16494501e+04   4.49180939e+02\n",
      "   6.09254782e+01   3.07095164e+02   2.25158075e+02   9.29056157e-01\n",
      "   1.84224048e+02   4.10439883e+00   7.13175628e+01   1.27970977e+02\n",
      "   2.54440416e+00   1.98506483e+02   9.45343340e+00   2.52743101e+03\n",
      "   1.71271330e+02   6.25068153e-01   9.92171083e+01   5.88145471e+00\n",
      "   1.44933241e+03   7.95455778e+02   8.43914645e-01   1.92451566e+01\n",
      "   5.87575920e+01   9.22771423e+01   8.58028426e+01   2.25154509e+02\n",
      "   5.45654618e+01   1.21257972e+01   6.55071786e-01   4.86924778e+00\n",
      "   3.73378854e+02   7.35525951e+01   8.84637476e+02   8.82977735e+02\n",
      "   1.94585976e+02   2.64346491e+02   4.91284315e+02   1.14337840e+03\n",
      "   1.27865698e+01   1.67868083e+02   7.47370036e+02   8.54888310e+01\n",
      "   1.00483521e+02   5.45047749e+00   1.47386007e+01   4.89612392e+01\n",
      "   5.35856222e+01   3.45624722e+00   1.21178336e+02   1.06713260e+02\n",
      "   6.15905771e+01   1.97230939e+03   2.48882827e+02   3.61978976e+02\n",
      "   2.04423664e+00   1.18765103e+02   2.82802713e+01   3.53947442e+01\n",
      "   1.73758667e+03   6.90276551e+01   2.22036116e+01   3.03715769e+02\n",
      "   5.24383376e+01   2.42851605e+01   5.55551238e+01   2.51186118e+02\n",
      "   1.90070867e+01   1.41204553e+01   1.08670104e+02   6.81820820e+02\n",
      "   5.28191862e+01   8.73893097e+01   1.37247900e+00   2.51661740e+01\n",
      "   5.67768749e+01   2.01419833e+02   2.52542155e+02   5.96276266e+03\n",
      "   3.47670744e+01   2.85398520e+02   2.45414054e+03   5.22749279e+00\n",
      "   2.94158684e+01   1.78337624e+03   4.89338128e+00   3.07059972e+02\n",
      "   3.68635598e+02   6.99611790e+02   6.40756547e+00   2.09284095e+02\n",
      "   2.21071126e+02   4.69788472e+01   1.69315672e+01   1.39664862e+02\n",
      "   9.22818324e+01   4.34687091e+02   1.58911258e+02   1.62428644e+02\n",
      "   5.02105070e+01   1.54071917e+02   1.98156751e+02   3.20832464e+02\n",
      "   3.63884347e+00   1.38892293e+02   8.40237636e+02   3.63911947e+00\n",
      "   1.25631206e+01   8.42629352e+01   6.11170266e+00   1.16614266e+01\n",
      "   2.44094540e+01   1.18437598e+00   1.36546306e+01   2.42169627e+02\n",
      "   1.30491648e+03   2.05492377e+02   4.76294776e+02   5.82447998e+02\n",
      "   3.93799693e+02   6.62146689e+01   8.81318401e+02   3.44330056e-01\n",
      "   7.99410072e+01   7.07478628e+03   1.47365851e+01   1.00131552e+02\n",
      "   2.44545713e+01   1.21276151e+03   6.11170266e+00   6.32859931e+00\n",
      "   2.48455301e+02   7.67050503e+00   1.45345247e+02   6.62282941e+02\n",
      "   7.15190718e+00   2.76995259e+00   1.16910300e+03   1.34649593e+02\n",
      "   4.05849249e+01   2.05480308e+02   1.47203961e+02   4.19236826e+01\n",
      "   1.16842335e+02   8.49663886e+02   4.23781662e+01   5.71928175e+02\n",
      "   5.30074653e+01   8.32001186e+01   1.42721481e+02   4.44966461e-01\n",
      "   3.26145094e+02   1.48026062e+02   1.17701535e+02   1.28125865e+03\n",
      "   5.06714315e+00   4.14445775e+02   3.96483362e+00   1.59694382e+03\n",
      "   2.37819453e+02   4.33831236e+01   1.01030382e+02   1.22362106e+00\n",
      "   5.72004310e+01   6.17023923e+01   4.55139869e+00   7.00932195e+02\n",
      "   1.98030221e+01   5.31855080e+00   3.42054182e+02   3.17334091e+00\n",
      "   4.63856398e+01   2.12314156e+01   6.86955969e+02   1.68462795e+02\n",
      "   7.35093947e+02   1.40154638e+02   1.25800149e+03   1.18988460e+02\n",
      "   1.69696757e+02   2.34347319e+02   1.05923946e+02   4.79388475e+00\n",
      "   1.61917301e+00   2.29270210e+02   4.85186188e+01   2.56197917e+01\n",
      "   9.80898194e+00   2.29298680e+02   5.60359317e+00   3.55393143e+02\n",
      "   4.51693431e-01   8.02478872e-03   2.53019554e+02   1.95975438e+02\n",
      "   4.06256928e-01   3.35216830e+02   2.29244790e+02   4.76241571e+02\n",
      "   5.80113975e+00   1.12664396e+05   4.72247822e+01   2.19860423e+02\n",
      "   7.83648826e+01   1.08628618e+03   1.23734649e+03   3.18534996e+02\n",
      "   1.03631624e+02   8.17013388e+01   1.56359806e+02   2.21040182e+02\n",
      "   4.76556502e+01   2.17052829e+02   1.30739224e+03   1.25660309e+02\n",
      "   1.40169211e+02   1.47356323e+01   1.21163713e+02   5.47378023e+02\n",
      "   1.14766882e+02   4.17713318e+01   1.84863155e+02   7.11846963e+01\n",
      "   9.22804254e+01   3.47009279e+01   3.57668057e+00   2.95738835e+01\n",
      "   5.86572190e+01   3.62012705e+02   4.10645738e+02   1.89672894e+02\n",
      "   6.75616995e+03   2.42172722e+02   2.05863427e+02   1.56793963e+03\n",
      "   1.48047571e+02   3.12055545e+00   4.15056706e+03   1.75039133e+03\n",
      "   1.27474055e+04   5.41373090e+02   1.11437125e+04   2.80920959e+05\n",
      "   1.25819086e+03   1.64926101e+04   3.73664169e+01   8.83197476e-02\n",
      "   9.66457055e+04   1.68186496e+02   6.30682779e+01   2.11391157e+00\n",
      "   9.82446183e+02   9.85384975e+03   1.94991717e-02   6.02488269e-03\n",
      "   1.20988478e-01   2.12599969e-02   2.88416958e-01   1.79860644e-01\n",
      "   1.22595267e-01   1.90849836e-02   7.97317415e-02   8.04595502e-01\n",
      "   1.95603574e-01   9.42043571e-02   1.56629838e+00   2.50229557e+00\n",
      "   9.66778340e-02   3.45040706e+00   4.31659256e-01   2.68022789e-01] d\n"
     ]
    }
   ],
   "source": [
    "print OS.calc_intTime(sim.TargetList, range(nStars), 0./u.arcsec**2, \\\n",
    "                0./u.arcsec**2, 19.8, np.ones(nStars)*2.*OS.IWA, mode)"
   ]
  },
  {
   "cell_type": "code",
   "execution_count": 90,
   "metadata": {
    "collapsed": false,
    "deletable": true,
    "editable": true,
    "scrolled": true
   },
   "outputs": [
    {
     "name": "stdout",
     "output_type": "stream",
     "text": [
      "Not a valid Github or SVN revision.\n"
     ]
    }
   ],
   "source": [
    "# Simulation specifications ; i.e., all parameters used in simulation\n",
    "AllSpecs = sim.genOutSpec()"
   ]
  },
  {
   "cell_type": "code",
   "execution_count": 91,
   "metadata": {
    "collapsed": false,
    "deletable": true,
    "editable": true,
    "scrolled": false
   },
   "outputs": [
    {
     "data": {
      "text/plain": [
       "{'FAP': 3e-07,\n",
       " 'IWA': 0.0,\n",
       " 'Irange': array([   0.,  180.]),\n",
       " 'MDP': 0.001,\n",
       " 'Mprange': array([  1.00000000e+00,   4.13100000e+03]),\n",
       " 'Ndark': 10.0,\n",
       " 'OWA': inf,\n",
       " 'Orange': array([   0.,  360.]),\n",
       " 'Revision': 'Not a valid Github or SVN revision.',\n",
       " 'Rprange': array([  1. ,  22.6]),\n",
       " 'arange': array([   0.1,  100. ]),\n",
       " 'attenuation': 0.441,\n",
       " 'coMass': 5800.0,\n",
       " 'constrainOrbits': False,\n",
       " 'currentTimeAbs': 60634.0,\n",
       " 'currentTimeNorm': 0.0,\n",
       " 'dMagLim': 19.0,\n",
       " 'defburnPortion': 0.05,\n",
       " 'dryMass': 3400.0,\n",
       " 'dtAlloc': 1.0,\n",
       " 'duration': 50.0,\n",
       " 'erange': array([ 0.01,  0.99]),\n",
       " 'eta': 0.1,\n",
       " 'extendedLife': 0.0,\n",
       " 'fEZ0': 1.584893192461111e-09,\n",
       " 'fZ0': 6.309573444801917e-10,\n",
       " 'flowRate': 0.95304246059091,\n",
       " 'haveOcculter': False,\n",
       " 'havejplephem': True,\n",
       " 'intCutoff': 50.0,\n",
       " 'keepStarCatalog': False,\n",
       " 'magEZ': 22.0,\n",
       " 'magZ': 23.0,\n",
       " 'maxFAfluxratio': 1e-06,\n",
       " 'minComp': 0.0,\n",
       " 'missionFinishAbs': 60999.25,\n",
       " 'missionFinishNorm': 365.25,\n",
       " 'missionLife': 1.0,\n",
       " 'missionPortion': 0.167,\n",
       " 'missionStart': 60634.0,\n",
       " 'modules': {'BackgroundSources': 'GalaxiesFaintStars',\n",
       "  'Completeness': 'GarrettCompleteness',\n",
       "  'Observatory': 'WFIRSTObservatoryL2',\n",
       "  'OpticalSystem': 'Nemati',\n",
       "  'PlanetPhysicalModel': 'FortneyMarleyCahoyMix1',\n",
       "  'PlanetPopulation': 'KeplerLike1',\n",
       "  'PostProcessing': 'PostProcessing',\n",
       "  'SimulatedUniverse': 'KeplerLikeUniverse',\n",
       "  'StarCatalog': u'EXOCAT1',\n",
       "  'SurveyEnsemble': 'SurveyEnsemble',\n",
       "  'SurveySimulation': 'SurveySimulation',\n",
       "  'TargetList': 'TargetList',\n",
       "  'TimeKeeping': 'TimeKeeping',\n",
       "  'ZodiacalLight': 'Stark'},\n",
       " 'nStars': 1510,\n",
       " 'nextTimeAvail': 0.0,\n",
       " 'obscurFac': 0.14728,\n",
       " 'observingModes': [{'detectionMode': True,\n",
       "   'instName': u'imaging-EMCCD',\n",
       "   'systName': u'HLC-565'}],\n",
       " 'occulterSep': 55000.0,\n",
       " 'ppFact': 0.1,\n",
       " 'prange': array([ 0.083,  0.882]),\n",
       " 'pupilArea': 3.761776790396704,\n",
       " 'pupilDiam': 2.37,\n",
       " 'rrange': array([  1.00000000e-03,   1.99000000e+02]),\n",
       " 'scMass': 6000.0,\n",
       " 'scaleOrbits': False,\n",
       " 'scienceInstruments': [{u'CIC': 0.0013,\n",
       "   u'ENF': 1.414,\n",
       "   u'QE': 0.88,\n",
       "   'Rs': 1.0,\n",
       "   'focal': 100.0,\n",
       "   'idark': 0.0005,\n",
       "   u'name': u'imaging-EMCCD',\n",
       "   'pitch': 1e-05,\n",
       "   u'sread': 0.0,\n",
       "   'texp': 1000.0},\n",
       "  {u'CIC': 0.0013,\n",
       "   'ENF': 1.0,\n",
       "   u'QE': 0.88,\n",
       "   u'Rs': 70.0,\n",
       "   'focal': 100.0,\n",
       "   'idark': 0.0005,\n",
       "   u'name': u'spectro-CCD',\n",
       "   'pitch': 1e-05,\n",
       "   u'sread': 3.0,\n",
       "   'texp': 1000.0}],\n",
       " 'seed': 283330563,\n",
       " 'settlingTime': 1.0,\n",
       " 'shapeFac': 0.7853981633974483,\n",
       " 'skIsp': 220.0,\n",
       " 'slewIsp': 4160.0,\n",
       " 'starlightSuppressionSystems': [{u'BW': 0.1,\n",
       "   'IWA': 0.0,\n",
       "   'OWA': inf,\n",
       "   'PSF': array([[ 1.,  1.,  1.],\n",
       "          [ 1.,  1.,  1.],\n",
       "          [ 1.,  1.,  1.]]),\n",
       "   u'core_area': 0.005,\n",
       "   'core_contrast': 1e-09,\n",
       "   u'core_mean_intensity': 2e-12,\n",
       "   u'core_thruput': 0.02,\n",
       "   'deltaLam': 56.5,\n",
       "   u'lam': 565.0,\n",
       "   u'name': u'HLC-565',\n",
       "   u'occ_trans': 0.2,\n",
       "   'occulter': False,\n",
       "   'ohTime': 1.0,\n",
       "   'platescale': None,\n",
       "   'samp': 10.0},\n",
       "  {u'BW': 0.18, 'IWA': 0.0, 'OWA': inf, 'PSF': array([[ 1.,  1.,  1.],\n",
       "          [ 1.,  1.,  1.],\n",
       "          [ 1.,  1.,  1.]]), u'core_area': 0.005, 'core_contrast': 1e-09, u'core_mean_intensity': 4e-12, u'core_thruput': 0.04, 'deltaLam': 118.8, u'lam': 660.0, u'name': u'SPC-660', u'occ_trans': 0.3, 'occulter': False, 'ohTime': 1.0, 'platescale': None, 'samp': 10.0}],\n",
       " 'telescopeKeepout': 45.0,\n",
       " 'thrust': 450.0,\n",
       " 'varEZ': 0.0,\n",
       " 'wrange': array([   0.,  360.])}"
      ]
     },
     "execution_count": 91,
     "metadata": {},
     "output_type": "execute_result"
    }
   ],
   "source": [
    "AllSpecs"
   ]
  },
  {
   "cell_type": "code",
   "execution_count": 63,
   "metadata": {
    "collapsed": false,
    "deletable": true,
    "editable": true
   },
   "outputs": [],
   "source": [
    "ss = sim.SurveySimulation"
   ]
  },
  {
   "cell_type": "code",
   "execution_count": 27,
   "metadata": {
    "collapsed": false,
    "deletable": true,
    "editable": true,
    "scrolled": false
   },
   "outputs": [],
   "source": [
    "WA = sim.SimulatedUniverse.WA"
   ]
  },
  {
   "cell_type": "code",
   "execution_count": 55,
   "metadata": {
    "collapsed": false,
    "deletable": true,
    "editable": true
   },
   "outputs": [],
   "source": [
    "mode = filter(lambda mode: mode['detectionMode'] == True, OS.observingModes)[0]\n",
    "sInd = None"
   ]
  },
  {
   "cell_type": "code",
   "execution_count": 15,
   "metadata": {
    "collapsed": true,
    "deletable": true,
    "editable": true
   },
   "outputs": [
    {
     "data": {
      "text/plain": [
       "[{u'BW': 0.1,\n",
       "  'IWA': <Quantity 0.14358407079646018 arcsec>,\n",
       "  'OWA': <Quantity 0.478646017699115 arcsec>,\n",
       "  u'SNR': 5.0,\n",
       "  'deltaLam': <Quantity 55.0 nm>,\n",
       "  u'detection': True,\n",
       "  'detectionMode': True,\n",
       "  'inst': {u'CIC': 0.0013,\n",
       "   u'ENF': 1.414,\n",
       "   u'QE': <function EXOSIMS.Prototypes.OpticalSystem.<lambda>>,\n",
       "   'Rs': 1.0,\n",
       "   u'focal': <Quantity 100.0 m>,\n",
       "   u'idark': <Quantity 0.0005 1 / s>,\n",
       "   u'name': u'imaging-EMCCD',\n",
       "   u'pitch': <Quantity 1e-05 m>,\n",
       "   u'sread': 0.2,\n",
       "   u'texp': <Quantity 1000.0 s>},\n",
       "  u'instName': u'imaging-EMCCD',\n",
       "  u'lam': <Quantity 550.0 nm>,\n",
       "  'syst': {u'BW': 0.1,\n",
       "   u'IWA': <Quantity 0.1475 arcsec>,\n",
       "   u'OWA': <Quantity 0.4917 arcsec>,\n",
       "   'PSF': <function EXOSIMS.Prototypes.OpticalSystem.<lambda>>,\n",
       "   u'core_area': <function EXOSIMS.Prototypes.OpticalSystem.<lambda>>,\n",
       "   'core_contrast': <function EXOSIMS.Prototypes.OpticalSystem.<lambda>>,\n",
       "   u'core_mean_intensity': <function EXOSIMS.Prototypes.OpticalSystem.<lambda>>,\n",
       "   u'core_thruput': <function EXOSIMS.Prototypes.OpticalSystem.<lambda>>,\n",
       "   'deltaLam': <Quantity 56.5 nm>,\n",
       "   u'lam': <Quantity 565.0 nm>,\n",
       "   u'name': u'HLC-565',\n",
       "   u'occ_trans': <function EXOSIMS.Prototypes.OpticalSystem.<lambda>>,\n",
       "   'occulter': False,\n",
       "   u'ohTime': <Quantity 0.02 d>,\n",
       "   'platescale': None,\n",
       "   'samp': <Quantity 10.0 arcsec>},\n",
       "  u'systName': u'HLC-565',\n",
       "  'timeMultiplier': 1.0},\n",
       " {u'BW': 0.1,\n",
       "  'IWA': <Quantity 0.134 arcsec>,\n",
       "  'OWA': <Quantity 0.43083333333333335 arcsec>,\n",
       "  u'SNR': 5.0,\n",
       "  'deltaLam': <Quantity 55.0 nm>,\n",
       "  'detectionMode': False,\n",
       "  'inst': {u'CIC': 0.0013,\n",
       "   'ENF': 1.0,\n",
       "   u'QE': <function EXOSIMS.Prototypes.OpticalSystem.<lambda>>,\n",
       "   u'Rs': 70.0,\n",
       "   u'focal': <Quantity 100.0 m>,\n",
       "   u'idark': <Quantity 0.0005 1 / s>,\n",
       "   u'name': u'spectro-CCD',\n",
       "   u'pitch': <Quantity 1e-05 m>,\n",
       "   u'sread': 3.0,\n",
       "   u'texp': <Quantity 1000.0 s>},\n",
       "  u'instName': u'spectro-CCD',\n",
       "  u'lam': <Quantity 550.0 nm>,\n",
       "  'syst': {u'BW': 0.18,\n",
       "   u'IWA': <Quantity 0.1608 arcsec>,\n",
       "   u'OWA': <Quantity 0.517 arcsec>,\n",
       "   'PSF': <function EXOSIMS.Prototypes.OpticalSystem.<lambda>>,\n",
       "   u'core_area': <function EXOSIMS.Prototypes.OpticalSystem.<lambda>>,\n",
       "   'core_contrast': <function EXOSIMS.Prototypes.OpticalSystem.<lambda>>,\n",
       "   u'core_mean_intensity': <function EXOSIMS.Prototypes.OpticalSystem.<lambda>>,\n",
       "   u'core_thruput': <function EXOSIMS.Prototypes.OpticalSystem.<lambda>>,\n",
       "   'deltaLam': <Quantity 118.8 nm>,\n",
       "   u'lam': <Quantity 660.0 nm>,\n",
       "   u'name': u'SPC-660',\n",
       "   u'occ_trans': <function EXOSIMS.Prototypes.OpticalSystem.<lambda>>,\n",
       "   'occulter': False,\n",
       "   u'ohTime': <Quantity 0.02 d>,\n",
       "   'platescale': None,\n",
       "   'samp': <Quantity 10.0 arcsec>},\n",
       "  u'systName': u'SPC-660',\n",
       "  'timeMultiplier': 1.0}]"
      ]
     },
     "execution_count": 15,
     "metadata": {},
     "output_type": "execute_result"
    }
   ],
   "source": [
    "OS.observingModes"
   ]
  },
  {
   "cell_type": "code",
   "execution_count": null,
   "metadata": {
    "collapsed": true,
    "deletable": true,
    "editable": true
   },
   "outputs": [],
   "source": [
    "filter(lambda mode: mode['detectionMode'] == True, OS.observingModes)[0]"
   ]
  },
  {
   "cell_type": "code",
   "execution_count": 33,
   "metadata": {
    "collapsed": false,
    "deletable": true,
    "editable": true
   },
   "outputs": [
    {
     "data": {
      "text/latex": [
       "$[0.268,~0.268,~0.268,~0.268,~0.268,~0.268,~0.268,~0.268,~0.268,~0.268,~0.268,~0.268,~0.268,~0.268,~0.268,~0.268,~0.268,~0.268,~0.268,~0.268,~0.268,~0.268,~0.268,~0.268,~0.268,~0.268,~0.268,~0.268,~0.268,~0.268,~0.268,~0.268,~0.268,~0.268,~0.268,~0.268,~0.268,~0.268,~0.268] \\; \\mathrm{{}^{\\prime\\prime}}$"
      ],
      "text/plain": [
       "<Quantity [ 0.268, 0.268, 0.268, 0.268, 0.268, 0.268, 0.268, 0.268, 0.268,\n",
       "            0.268, 0.268, 0.268, 0.268, 0.268, 0.268, 0.268, 0.268, 0.268,\n",
       "            0.268, 0.268, 0.268, 0.268, 0.268, 0.268, 0.268, 0.268, 0.268,\n",
       "            0.268, 0.268, 0.268, 0.268, 0.268, 0.268, 0.268, 0.268, 0.268,\n",
       "            0.268, 0.268, 0.268] arcsec>"
      ]
     },
     "execution_count": 33,
     "metadata": {},
     "output_type": "execute_result"
    }
   ],
   "source": [
    "mode = filter(lambda mode: mode['detectionMode'] == True, OS.observingModes)[0]\n",
    "\n",
    "np.ones(TL.nStars)*2*OS.IWA"
   ]
  },
  {
   "cell_type": "code",
   "execution_count": 49,
   "metadata": {
    "collapsed": false,
    "deletable": true,
    "editable": true
   },
   "outputs": [],
   "source": [
    "t1 = OS.calc_intTime(TL, range(TL.nStars), 0./u.arcsec**2, \\\n",
    "                0./u.arcsec**2, 19, np.ones(TL.nStars)*2.*OS.IWA.to('mas'), mode)\n"
   ]
  },
  {
   "cell_type": "markdown",
   "metadata": {
    "deletable": true,
    "editable": true
   },
   "source": [
    "# Right now, I'm loading obvious objects into local variables\n",
    "# We can add more depending on what we need for the interface"
   ]
  },
  {
   "cell_type": "markdown",
   "metadata": {
    "deletable": true,
    "editable": true
   },
   "source": [
    "### modules:"
   ]
  },
  {
   "cell_type": "code",
   "execution_count": 67,
   "metadata": {
    "collapsed": true,
    "deletable": true,
    "editable": true
   },
   "outputs": [],
   "source": [
    "TL = sim.TargetList\n",
    "SC = sim.StarCatalog\n",
    "SU = sim.SimulatedUniverse\n",
    "SSim = sim.SurveySimulation\n",
    "OS = sim.OpticalSystem\n",
    "ZL = sim.ZodiacalLight\n",
    "BS = sim.BackgroundSources\n",
    "CP = sim.Completeness\n",
    "PP = sim.PlanetPopulation\n",
    "PM = sim.PlanetPhysicalModel"
   ]
  },
  {
   "cell_type": "markdown",
   "metadata": {
    "deletable": true,
    "editable": true
   },
   "source": [
    "## Stellar Properties"
   ]
  },
  {
   "cell_type": "code",
   "execution_count": 68,
   "metadata": {
    "collapsed": false,
    "deletable": true,
    "editable": true
   },
   "outputs": [],
   "source": [
    "Name   = TL.Name\n",
    "Spec   = TL.Spec\n",
    "parx   = TL.parx\n",
    "Umag   = TL.Umag\n",
    "Bmag   = TL.Bmag\n",
    "Vmag   = TL.Vmag\n",
    "Rmag   = TL.Rmag\n",
    "Imag   = TL.Imag\n",
    "Jmag   = TL.Jmag\n",
    "Hmag   = TL.Hmag\n",
    "Kmag   = TL.Kmag\n",
    "dist   = TL.dist\n",
    "BV = TL.BV\n",
    "MV = TL.MV\n",
    "BC = TL.BC\n",
    "L  = TL.L\n",
    "coords = TL.coords\n",
    "pmra   = TL.pmra\n",
    "pmdec  = TL.pmdec\n",
    "rv = TL.rv\n",
    "Binary_Cut = TL.Binary_Cut\n",
    "#maxintTime = OS.maxintTime\n",
    "comp0  = TL.comp0\n",
    "MsEst  = TL.MsEst\n",
    "MsTrue = TL.MsTrue\n",
    "nStars = TL.nStars\n",
    "\n",
    "star_prop = {'Name':Name,'Spec':Spec,'parx':parx,'Umag':Umag,'Bmag':Bmag,'Vmag':Vmag,\n",
    "            'Imag':Imag,'Jmag':Jmag,'Hmag':Hmag,'Kmag':Kmag,'dist':dist,'BV':BV,\n",
    "            'MV':MV,'Lum':L,'coords':coords,'pmra':pmra,'pmdec':pmdec,'rv':rv,\n",
    "            'Binary_Cut':Binary_Cut,'comp0':comp0,'MsEst':MsEst,\n",
    "            'MsTrue':MsTrue,'nStars':nStars}#,'maxintTime':maxintTime}\n"
   ]
  },
  {
   "cell_type": "markdown",
   "metadata": {
    "deletable": true,
    "editable": true
   },
   "source": [
    "## Planets Generated Properties"
   ]
  },
  {
   "cell_type": "code",
   "execution_count": 11,
   "metadata": {
    "collapsed": false,
    "deletable": true,
    "editable": true
   },
   "outputs": [
    {
     "name": "stdout",
     "output_type": "stream",
     "text": [
      "Sorry.. no go.\n",
      "Not simulated planets.\n"
     ]
    }
   ],
   "source": [
    "try:\n",
    "    arange = TL.arange \n",
    "    erange = TL.erange\n",
    "    wrange = TL.wrange\n",
    "    Orange = TL.Orange\n",
    "    prange = TL.prange\n",
    "    Irange = TL.Irange\n",
    "    Rrange, Mprange = TL.Rrange, TL.Mprange\n",
    "    rrange = TL.rrange\n",
    "    synplanet_prop = {'arange':arange,'erange':erange,'wrange':wrange,'Orange':Orange,\n",
    "                      'prange':prange,'Irange':Irange,'Rrange':Rrange,'Mprange':Mprange,\n",
    "                      'rrange':rrange}\n",
    "except AttributeError:\n",
    "    print 'Sorry.. no go.'\n",
    "    print 'Not simulated planets.'\n",
    "    synplanet_prop = None\n",
    "\n",
    "try:\n",
    "    nPlans, plan2star = SU.nPlans, SU.plan2star\n",
    "    sInds = SU.sInds\n",
    "    # ORBTIAL PARAMETERS\n",
    "    sma,e,w,O,I = SU.a, SU.e, SU.w, SU.O, SU.I\n",
    "    # PLANET PROPERTIES\n",
    "    Mp,Rp = SU.Mp, SU.Rp\n",
    "    # POSITION AND VELOCITY VECTOR OF PLANET\n",
    "    r, v = SU.r, SU.v\n",
    "    # ALBEDO\n",
    "    p = SU.p\n",
    "    fEZ = SU.fEZ\n",
    "\n",
    "    empplanet_prop = {'nplans':nPlans,'plan2star':plan2star,'sInds':sInds,'sma':sma,\n",
    "                      'e':e,'w':w,'O':O,'I':I,'Mp':Mp,'Rp':Rp,'r':r,'v':v,'p':p,'fEZ':fEZ}\n",
    "except AttributeError:\n",
    "    print 'Sorry.. no go.'\n",
    "    print 'Not ``real`` planets.'\n",
    "    empplanet_prop = None\n",
    "    "
   ]
  },
  {
   "cell_type": "markdown",
   "metadata": {
    "deletable": true,
    "editable": true
   },
   "source": [
    "## Additional simulation results -- add more as needed"
   ]
  },
  {
   "cell_type": "markdown",
   "metadata": {
    "collapsed": true,
    "deletable": true,
    "editable": true
   },
   "source": [
    "# number of visits to each star -- double check\n",
    "nvisits_perstar = SU.Completeness.\n",
    "\n",
    "etc_data = {'nvisits':nvisits_perstar}"
   ]
  },
  {
   "cell_type": "markdown",
   "metadata": {
    "deletable": true,
    "editable": true
   },
   "source": [
    "## Dump Survey Simulation Results -- not completeness"
   ]
  },
  {
   "cell_type": "code",
   "execution_count": 92,
   "metadata": {
    "collapsed": false,
    "deletable": true,
    "editable": true,
    "scrolled": false
   },
   "outputs": [],
   "source": [
    "import dill\n",
    "typeSim = specs_from_file['modules']['PlanetPopulation']\n",
    "simrfname = 'simresults_WFIRST_' + typeSim + '.pickle'\n",
    "\n",
    "simfile = os.path.join('/Users/rpatel/Dropbox/Research/WFIRST/EXOSIMSTesting/SimResults/',simrfname)\n",
    "\n",
    "#data = {'DRM':DRM,'empplanet_prop':empplanet_prop,'synplanet_prop':synplanet_prop,\n",
    "#        'star_prop':star_prop,'AllSpecs':AllSpecs,'allSim':sim}#,'etc_data':etc_data}\n",
    "\n",
    "handler = open(simfile,'wb')\n",
    "dill.dump({'simr':sim,'AllSpecs':AllSpecs},handler)\n",
    "handler.close()"
   ]
  },
  {
   "cell_type": "code",
   "execution_count": null,
   "metadata": {
    "collapsed": true,
    "deletable": true,
    "editable": true
   },
   "outputs": [],
   "source": []
  }
 ],
 "metadata": {
  "kernelspec": {
   "display_name": "Python 2",
   "language": "python",
   "name": "python2"
  },
  "language_info": {
   "codemirror_mode": {
    "name": "ipython",
    "version": 2
   },
   "file_extension": ".py",
   "mimetype": "text/x-python",
   "name": "python",
   "nbconvert_exporter": "python",
   "pygments_lexer": "ipython2",
   "version": "2.7.10"
  }
 },
 "nbformat": 4,
 "nbformat_minor": 0
}
